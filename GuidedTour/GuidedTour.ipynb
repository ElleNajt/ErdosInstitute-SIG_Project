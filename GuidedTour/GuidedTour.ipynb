{
 "cells": [
  {
   "cell_type": "code",
   "execution_count": 2,
   "id": "619a6a87",
   "metadata": {
    "scrolled": true
   },
   "outputs": [],
   "source": [
    "import os\n",
    "import sys\n",
    "import datetime as dt\n",
    "\n",
    "os.chdir(\"../Automated/\")\n",
    "from DataGathering import RedditScraper\n",
    "from ChangePointAnalysis import ChangePointAnalysis\n",
    "#from NeuralNets import CreateNeuralNets\n",
    "\n",
    "\n",
    "subreddit = \"WallStreetBets\""
   ]
  },
  {
   "cell_type": "markdown",
   "id": "7611d3a2",
   "metadata": {},
   "source": [
    "# Data Scraping\n",
    "\n",
    "For analyzing wallstreetbets data, we recommend downloading full.csv from [url] and putting it in ../Data/subreddit_wallstreetbets.\n",
    "\n",
    "If you want to scrape a different subreddit, you can use the following file. You will need API.env with appropriate credentials in /Automated/"
   ]
  },
  {
   "cell_type": "code",
   "execution_count": null,
   "id": "3152bd11",
   "metadata": {},
   "outputs": [],
   "source": [
    "\n",
    "start = dt.datetime(2020, 1, 1)\n",
    "end =  dt.datetime(2020, 1, 30)\n",
    "\n",
    "if not os.path.exists(f\"../Data/subreddit_{subreddit}/full.csv\"):\n",
    "    print(\"Did not find scraped data, scraping.\")\n",
    "\n",
    "    RedditScraper.scrape_data(subreddits = [subreddit], start = start, end = end)"
   ]
  },
  {
   "cell_type": "markdown",
   "id": "082388dd",
   "metadata": {},
   "source": [
    "The next cell will open full.csv , compute the words that are among the top_X on any day, and then run the change point analysis model on each of them."
   ]
  },
  {
   "cell_type": "code",
   "execution_count": null,
   "id": "dd7c0cc3",
   "metadata": {},
   "outputs": [
    {
     "name": "stdout",
     "output_type": "stream",
     "text": [
      "Computing the changepoints:\n",
      "working on  WallStreetBets\n",
      "Did not find preprocessed version, preprocessing. (This will only be done once.)\n"
     ]
    },
    {
     "name": "stderr",
     "output_type": "stream",
     "text": [
      "<ipython-input-3-53f0e5588de2>:2: DtypeWarning: Columns (26,32,45,79,82,87,116,117,118,121,122,123,124) have mixed types.Specify dtype option on import or set low_memory=False.\n",
      "  ChangePointAnalysis.changepointanalysis([subreddit])\n"
     ]
    },
    {
     "name": "stdout",
     "output_type": "stream",
     "text": [
      "['wsb', 'plug', 'next', 'tendies', 'nikola', 'day', 'sndl', 'gang', 'trump', 'prpl', 'tomorrow', 'fed', 'tesla', 'rh', 'trading', 'one', 'questrade', 'twitter', 'money', 'msft', 'spy', 'currency', 'options', 'two', 'sos', 'ev', 'market', 'bb', 'fortnite', 'gold', 'short', 'amd', 'wkhs', 'coin', 'merry', 'war', 'elon', 'coronavirus', 'stocks', 'azn', 'test', 'amc', 'dd', 'pltr', 'mvis', 'earnings', 'month', 'year', 'spce', 'hold', 'july', 'snap', 'trevor', 'citron', 'mt', 'week', 'k', 'puts', 'mnmd', 'jpow', 'like', 'election', 'monday', 'closed', 'robinhood', 'im', 'get', 'rkt', 'covid', 'biden', 'kodak', 'suicide', 'uso', 'virus', 'christmas', 'apes', 'go', 'may', 'nkla', 'buy', 'kodk', 'calls', 'dogecoin', 'slv', 'debate', 'detroit', 'today', 'bezos', 'oil', 'iran', 'bear', 'log', 'clov', 'stock', 'moon', 'mascot', 'gme', 'new', 'tsla', 'nio'] pop_words\n",
      "making directory ../Data/subreddit_WallStreetBets/Changepoints/Metropolis_30000Draws_5000Tune/\n",
      "made\n",
      "C:\\Users\\lnajt\\Documents\\GitHub\\ErdosInstitute\\ErdosInstitute-SIG_Project\\Automated\n",
      "working on wsb\n"
     ]
    },
    {
     "name": "stderr",
     "output_type": "stream",
     "text": [
      "C:\\Users\\lnajt\\Documents\\GitHub\\ErdosInstitute\\ErdosInstitute-SIG_Project\\Automated\\ChangePointAnalysis\\BayesianMethods.py:134: FutureWarning: In v4.0, pm.sample will return an `arviz.InferenceData` object instead of a `MultiTrace` by default. You can pass return_inferencedata=True or return_inferencedata=False to be safe and silence this warning.\n",
      "  trace = pm.sample(steps, tune=tune, step = step)\n",
      "Multiprocess sampling (4 chains in 4 jobs)\n",
      "CompoundStep\n",
      ">Metropolis: [delta]\n",
      ">Metropolis: [change_point_beta]\n",
      ">Metropolis: [tau_beta]\n",
      ">Metropolis: [beta_2]\n",
      ">Metropolis: [alpha_2]\n",
      ">Metropolis: [beta_1]\n",
      ">Metropolis: [alpha_1]\n"
     ]
    },
    {
     "data": {
      "text/html": [
       "\n",
       "    <div>\n",
       "        <style>\n",
       "            /* Turns off some styling */\n",
       "            progress {\n",
       "                /* gets rid of default border in Firefox and Opera. */\n",
       "                border: none;\n",
       "                /* Needs to be in here for Safari polyfill so background images work as expected. */\n",
       "                background-size: auto;\n",
       "            }\n",
       "            .progress-bar-interrupted, .progress-bar-interrupted::-webkit-progress-bar {\n",
       "                background: #F44336;\n",
       "            }\n",
       "        </style>\n",
       "      <progress value='140000' class='' max='140000' style='width:300px; height:20px; vertical-align: middle;'></progress>\n",
       "      100.00% [140000/140000 05:28<00:00 Sampling 4 chains, 0 divergences]\n",
       "    </div>\n",
       "    "
      ],
      "text/plain": [
       "<IPython.core.display.HTML object>"
      ]
     },
     "metadata": {},
     "output_type": "display_data"
    },
    {
     "name": "stderr",
     "output_type": "stream",
     "text": [
      "Sampling 4 chains for 5_000 tune and 30_000 draw iterations (20_000 + 120_000 draws total) took 386 seconds.\n",
      "The rhat statistic is larger than 1.4 for some parameters. The sampler did not converge.\n",
      "The estimated number of effective samples is smaller than 200 for some parameters.\n"
     ]
    },
    {
     "name": "stdout",
     "output_type": "stream",
     "text": [
      "Change Point Guess 0.932925\n",
      "{'change_point_confidence': [0.932925], 'mus': [(0.024219688795387564, 0.02481416781194917)], 'mu_diff': [0.0005944790165616047], 'tau_map': ['2021-01-26'], 'tau_std': [54.224523269150666], 'entropy': [3.759725274910158], 'change_point_guess': [0.932925]}\n",
      "appending\n",
      "working on plug\n"
     ]
    },
    {
     "name": "stderr",
     "output_type": "stream",
     "text": [
      "C:\\Users\\lnajt\\Documents\\GitHub\\ErdosInstitute\\ErdosInstitute-SIG_Project\\Automated\\ChangePointAnalysis\\BayesianMethods.py:134: FutureWarning: In v4.0, pm.sample will return an `arviz.InferenceData` object instead of a `MultiTrace` by default. You can pass return_inferencedata=True or return_inferencedata=False to be safe and silence this warning.\n",
      "  trace = pm.sample(steps, tune=tune, step = step)\n",
      "Multiprocess sampling (4 chains in 4 jobs)\n",
      "CompoundStep\n",
      ">Metropolis: [delta]\n",
      ">Metropolis: [change_point_beta]\n",
      ">Metropolis: [tau_beta]\n",
      ">Metropolis: [beta_2]\n",
      ">Metropolis: [alpha_2]\n",
      ">Metropolis: [beta_1]\n",
      ">Metropolis: [alpha_1]\n"
     ]
    },
    {
     "data": {
      "text/html": [
       "\n",
       "    <div>\n",
       "        <style>\n",
       "            /* Turns off some styling */\n",
       "            progress {\n",
       "                /* gets rid of default border in Firefox and Opera. */\n",
       "                border: none;\n",
       "                /* Needs to be in here for Safari polyfill so background images work as expected. */\n",
       "                background-size: auto;\n",
       "            }\n",
       "            .progress-bar-interrupted, .progress-bar-interrupted::-webkit-progress-bar {\n",
       "                background: #F44336;\n",
       "            }\n",
       "        </style>\n",
       "      <progress value='69576' class='' max='140000' style='width:300px; height:20px; vertical-align: middle;'></progress>\n",
       "      49.70% [69576/140000 02:31<02:33 Sampling 4 chains, 0 divergences]\n",
       "    </div>\n",
       "    "
      ],
      "text/plain": [
       "<IPython.core.display.HTML object>"
      ]
     },
     "metadata": {},
     "output_type": "display_data"
    }
   ],
   "source": [
    "\n",
    "print('Computing the changepoints:')\n",
    "ChangePointAnalysis.changepointanalysis([subreddit])\n"
   ]
  },
  {
   "cell_type": "code",
   "execution_count": null,
   "id": "8661161b",
   "metadata": {},
   "outputs": [],
   "source": []
  },
  {
   "cell_type": "code",
   "execution_count": null,
   "id": "d227282e",
   "metadata": {},
   "outputs": [],
   "source": []
  },
  {
   "cell_type": "code",
   "execution_count": null,
   "id": "b8d9b10f",
   "metadata": {},
   "outputs": [],
   "source": []
  },
  {
   "cell_type": "code",
   "execution_count": null,
   "id": "08016ccc",
   "metadata": {},
   "outputs": [],
   "source": []
  },
  {
   "cell_type": "code",
   "execution_count": null,
   "id": "2a3a6044",
   "metadata": {},
   "outputs": [],
   "source": []
  },
  {
   "cell_type": "code",
   "execution_count": null,
   "id": "ff5af91c",
   "metadata": {},
   "outputs": [],
   "source": []
  },
  {
   "cell_type": "code",
   "execution_count": null,
   "id": "e063581c",
   "metadata": {},
   "outputs": [],
   "source": []
  },
  {
   "cell_type": "code",
   "execution_count": null,
   "id": "2f961b26",
   "metadata": {},
   "outputs": [],
   "source": []
  },
  {
   "cell_type": "code",
   "execution_count": null,
   "id": "8f14ac7a",
   "metadata": {},
   "outputs": [],
   "source": [
    "#print('Training the neural nets:')\n",
    "#CreateNeuralNets.buildnets([subreddit])"
   ]
  }
 ],
 "metadata": {
  "kernelspec": {
   "display_name": "Python 3",
   "language": "python",
   "name": "python3"
  },
  "language_info": {
   "codemirror_mode": {
    "name": "ipython",
    "version": 3
   },
   "file_extension": ".py",
   "mimetype": "text/x-python",
   "name": "python",
   "nbconvert_exporter": "python",
   "pygments_lexer": "ipython3",
   "version": "3.8.10"
  }
 },
 "nbformat": 4,
 "nbformat_minor": 5
}
