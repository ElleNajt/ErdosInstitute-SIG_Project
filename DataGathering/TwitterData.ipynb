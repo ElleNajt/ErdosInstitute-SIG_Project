{
 "cells": [
  {
   "cell_type": "code",
   "execution_count": 3,
   "metadata": {},
   "outputs": [],
   "source": [
    "import tweepy\n",
    "\n",
    "# Authenticate to Twitter\n",
    "with open(\"API.env\") as file:\n",
    "    exec(file.read())\n",
    "\n",
    "    \n",
    "auth = tweepy.OAuthHandler(twitter_consumer_key , twitter_consumer_secret )\n",
    "auth.set_access_token(twitter_access_token, twitter_access_token_secret)\n",
    "\n",
    "# Create API object\n",
    "api = tweepy.API(auth)"
   ]
  },
  {
   "cell_type": "code",
   "execution_count": null,
   "metadata": {},
   "outputs": [],
   "source": []
  },
  {
   "cell_type": "code",
   "execution_count": null,
   "metadata": {},
   "outputs": [],
   "source": []
  },
  {
   "cell_type": "code",
   "execution_count": null,
   "metadata": {},
   "outputs": [],
   "source": []
  },
  {
   "cell_type": "code",
   "execution_count": 14,
   "metadata": {},
   "outputs": [
    {
     "name": "stdout",
     "output_type": "stream",
     "text": [
      "User details:\n",
      "Miguel Garcia\n",
      "Software Engineer at @InOrbitAI and Articles Author at @realpython\n",
      "\n",
      "MSc in Computer Science, I like working with open source techs and playing guitar.\n",
      "Argentina\n",
      "Last 20 Followers:\n",
      "Marcos\n",
      "Gedelanaveenkumar\n",
      "@Tiendadolar 🥬\n",
      "The Tatted Teacher (Randy Norman)\n",
      "Coderjs\n",
      "Sithu Kyaw\n",
      "Yunes ifri\n",
      "John Sanabria\n",
      "Secure AI Labs (SAIL)\n",
      "Meme_Reply\n",
      "巨浪\n",
      "runtheworld.py\n",
      "David Cramer Smith\n",
      "Martina Valogia\n",
      "SGF Python\n",
      "Julian Hysi 🐍\n",
      "cypherspot\n",
      "Codin India\n",
      "Alex\n",
      "Maria Snaider\n"
     ]
    }
   ],
   "source": [
    "user = api.get_user(\"MikezGarcia\")\n",
    "\n",
    "print(\"User details:\")\n",
    "print(user.name)\n",
    "print(user.description)\n",
    "print(user.location)\n",
    "\n",
    "print(\"Last 20 Followers:\")\n",
    "for follower in user.followers():\n",
    "    print(follower.name)\n",
    "    \n",
    "#for tweet in tweepy.Cursor( METHOD ).items(100):\n",
    "#    print(f\"{tweet.user.name} said: {tweet.text}\")"
   ]
  },
  {
   "cell_type": "code",
   "execution_count": 11,
   "metadata": {},
   "outputs": [
    {
     "name": "stdout",
     "output_type": "stream",
     "text": [
      "GME Gang:In case you also just woke up. $GME https://t.co/hk93O8nCFO\n",
      "Rokness:RT @RedChessQueen99: $GME #TotheMoon I just like the stock! https://t.co/plPF5SIKhF\n",
      "#GMEInfinity n #AMCInfinity:RT @2killmokingbird: Pump this up! $GME 🚀🌕 https://t.co/VT8Zt0yULR\n",
      "BusinessKing58:RT @RedChessQueen99: $GME #TotheMoon I just like the stock! https://t.co/plPF5SIKhF\n",
      "DR. TRILLION$ — MOA$$ INCOMING — HODL $GME + $AMC:Dow Jones peaked and is now dropping again.\n",
      "\n",
      "$GME $AMC #MOASS #DIAMONDHANDS #StockMarket\n",
      "Ganondorf:LFG $AMC $GME #AMCSqueeze https://t.co/nWNiodSUZa\n",
      "#GMEInfinity n #AMCInfinity:All in favor of #AMCInfinity #GMEInfinity (we can have any price per share. there is no floor or ceiling in space)… https://t.co/mNXfsZJCyc\n",
      "Michael Blackwood:RT @WarrenMaddox8: @BreakersStreet @ApeLincoln2 @InternHf @jimcramer P.S I’m a gamer ya doink. Out here gaming real stonks and making real…\n",
      "NotThatTodd:RT @VicNunezJr1: Literally tanking the entire market to contain this... #SEC do your job!!! $Amc $Gme #AMCSqueeze #AMCARMY #amc\n",
      "JmoneyRJ:RT @ali_nomaan: I have learned the tweet about FED bailing out Wall Street was due to  repo loans which is done daily. The is normal activi…\n",
      "Amadeusz Jabłoński:RT @BuyGmeamc: HIT LIKE if you KNOW #MOASS is going to happen in the near future. $gme $amc\n",
      "Jeff Ney [LTC][BTC]:RT @warrior16win: $VMHG @Victory_Yachts green 🟢 we are expecting something very big any days 🚀 $GME $AMD $CCIV $SPY $TSLA $LTNC $WTII $FSR…\n",
      "Isaac Le Maire:@KennithGriffen Might be time to cut your losses and flee the country, it worked out ok for me. #AMCsqueeze… https://t.co/WFXw2wtRKV\n",
      "Fartos Locos (cash/money):When did mercury go direct? Sunday Feb 21. When did $gme rise from the 40s? The following week on February 24. \n",
      "\n",
      "So… https://t.co/soRBhcic8Q\n",
      "Fartos Locos (cash/money):...Mercury retrograde. $gme $amc etc blew up on January 31. It is a fact that the confusion of MR is worst in the f… https://t.co/vJJIveij0l\n"
     ]
    }
   ],
   "source": [
    "for tweet in api.search(q=\"GME\", lang=\"en\", rpp=40):\n",
    "    print(f\"{tweet.user.name}:{tweet.text}\")"
   ]
  },
  {
   "cell_type": "code",
   "execution_count": null,
   "metadata": {},
   "outputs": [],
   "source": []
  },
  {
   "cell_type": "code",
   "execution_count": null,
   "metadata": {},
   "outputs": [],
   "source": []
  }
 ],
 "metadata": {
  "kernelspec": {
   "display_name": "Python 3",
   "language": "python",
   "name": "python3"
  },
  "language_info": {
   "codemirror_mode": {
    "name": "ipython",
    "version": 3
   },
   "file_extension": ".py",
   "mimetype": "text/x-python",
   "name": "python",
   "nbconvert_exporter": "python",
   "pygments_lexer": "ipython3",
   "version": "3.8.8"
  }
 },
 "nbformat": 4,
 "nbformat_minor": 4
}
