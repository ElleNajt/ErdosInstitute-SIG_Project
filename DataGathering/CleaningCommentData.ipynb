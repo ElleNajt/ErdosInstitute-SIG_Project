{
 "cells": [
  {
   "cell_type": "code",
   "execution_count": 1,
   "id": "348db856",
   "metadata": {},
   "outputs": [],
   "source": [
    "import pandas as pd           \n",
    "import praw                   \n",
    "import re                     \n",
    "import datetime as dt\n",
    "import seaborn as sns\n",
    "import requests\n",
    "import json\n",
    "import sys\n",
    "import time\n",
    "import os\n",
    "from bs4 import BeautifulSoup\n",
    "from datetime import timezone, datetime\n",
    "import numpy as np\n",
    "from matplotlib import pyplot\n",
    "\n",
    "'''\n",
    "\n",
    "The purpose of this code is to clean up the downloaded data frame, by converting html into text, \n",
    "and removing uninteresting columns.\n",
    "\n",
    "\n",
    "\n",
    "'''\n",
    "\n",
    "def extract_text(s):\n",
    "    if s == None:\n",
    "        return None\n",
    "    soup = BeautifulSoup(s)\n",
    "    return soup.get_text()\n",
    "\n",
    "def date(created):\n",
    "    # Converts the timestamp to UTC time\n",
    "    return datetime.utcfromtimestamp(created)\n",
    "\n"
   ]
  },
  {
   "cell_type": "code",
   "execution_count": 2,
   "id": "c350ffcc",
   "metadata": {},
   "outputs": [],
   "source": [
    "df = pd.read_pickle(\"../Data/comments_forests_more_than_900.pkl\")\n"
   ]
  },
  {
   "cell_type": "code",
   "execution_count": 3,
   "id": "520a6659",
   "metadata": {},
   "outputs": [
    {
     "data": {
      "text/plain": [
       "Index(['_replies', '_submission', '_reddit', 'total_awards_received',\n",
       "       'approved_at_utc', 'comment_type', 'awarders', 'mod_reason_by',\n",
       "       'banned_by', 'ups', 'author_flair_type', 'removal_reason', 'link_id',\n",
       "       'author_flair_template_id', 'likes', 'user_reports', 'saved', 'id',\n",
       "       'banned_at_utc', 'mod_reason_title', 'gilded', 'archived', 'no_follow',\n",
       "       'author', 'can_mod_post', 'send_replies', 'parent_id', 'score',\n",
       "       'author_fullname', 'report_reasons', 'approved_by', 'all_awardings',\n",
       "       'subreddit_id', 'body', 'edited', 'downs', 'author_flair_css_class',\n",
       "       'is_submitter', 'collapsed', 'author_flair_richtext',\n",
       "       'author_patreon_flair', 'body_html', 'gildings', 'collapsed_reason',\n",
       "       'associated_award', 'stickied', 'author_premium', 'subreddit_type',\n",
       "       'can_gild', 'top_awarded_type', 'author_flair_text_color',\n",
       "       'score_hidden', 'permalink', 'num_reports', 'locked', 'name', 'created',\n",
       "       'subreddit', 'author_flair_text', 'treatment_tags', 'created_utc',\n",
       "       'subreddit_name_prefixed', 'controversiality', 'depth',\n",
       "       'author_flair_background_color', 'collapsed_because_crowd_control',\n",
       "       'mod_reports', 'mod_note', 'distinguished', '_fetched',\n",
       "       'author_cakeday', 'media_metadata'],\n",
       "      dtype='object')"
      ]
     },
     "execution_count": 3,
     "metadata": {},
     "output_type": "execute_result"
    }
   ],
   "source": [
    "df.columns"
   ]
  },
  {
   "cell_type": "code",
   "execution_count": 4,
   "id": "e242d6b4",
   "metadata": {},
   "outputs": [],
   "source": [
    "\n",
    "df[\"selftext\"] = df[\"body_html\"].apply(extract_text)\n",
    "\n",
    "df[\"created_datetime_utc\"] = df[\"created_utc\"].apply(date)"
   ]
  },
  {
   "cell_type": "code",
   "execution_count": 5,
   "id": "6deb40a7",
   "metadata": {},
   "outputs": [],
   "source": [
    "cols = ['created_datetime_utc', 'score','selftext','controversiality', 'depth',  'total_awards_received','likes', 'saved', 'id', 'author',   'all_awardings', 'stickied', 'body_html', 'author_fullname',  'name', '_replies','parent_id', '_submission','score_hidden',]\n",
    "df_cleaned = df[ cols]"
   ]
  },
  {
   "cell_type": "code",
   "execution_count": 6,
   "id": "4d22e5c0",
   "metadata": {},
   "outputs": [],
   "source": [
    "df_cleaned.to_pickle(\"../Data/comment_forests_temp_cleaned.pkl\")"
   ]
  },
  {
   "cell_type": "code",
   "execution_count": 7,
   "id": "45cd89c8",
   "metadata": {},
   "outputs": [],
   "source": [
    "df_cleaned.to_csv(\"../Data/comment_forests_temp_cleaned.csv\")"
   ]
  },
  {
   "cell_type": "code",
   "execution_count": 10,
   "id": "332df8dc",
   "metadata": {},
   "outputs": [
    {
     "data": {
      "text/plain": [
       "1"
      ]
     },
     "execution_count": 10,
     "metadata": {},
     "output_type": "execute_result"
    }
   ],
   "source": []
  },
  {
   "cell_type": "code",
   "execution_count": null,
   "id": "1af2a420",
   "metadata": {},
   "outputs": [],
   "source": []
  }
 ],
 "metadata": {
  "kernelspec": {
   "display_name": "Python 3",
   "language": "python",
   "name": "python3"
  },
  "language_info": {
   "codemirror_mode": {
    "name": "ipython",
    "version": 3
   },
   "file_extension": ".py",
   "mimetype": "text/x-python",
   "name": "python",
   "nbconvert_exporter": "python",
   "pygments_lexer": "ipython3",
   "version": "3.8.8"
  }
 },
 "nbformat": 4,
 "nbformat_minor": 5
}
