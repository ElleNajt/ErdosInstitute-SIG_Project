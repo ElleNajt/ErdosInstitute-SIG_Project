{
 "cells": [
  {
   "cell_type": "code",
   "execution_count": 1,
   "id": "a1734e4d",
   "metadata": {},
   "outputs": [],
   "source": [
    "import pandas as pd           \n",
    "import praw                   \n",
    "import re                     \n",
    "import datetime as dt\n",
    "import seaborn as sns\n",
    "import requests\n",
    "import json\n",
    "import sys\n",
    "import time\n",
    "import os\n",
    "from bs4 import BeautifulSoup\n",
    "from datetime import timezone, datetime\n",
    "import numpy as np\n",
    "from matplotlib import pyplot\n",
    "\n",
    "'''\n",
    "\n",
    "The purpose of this code is to clean up the downloaded data frame, by converting html into text, \n",
    "and removing uninteresting columns.\n",
    "\n",
    "\n",
    "\n",
    "'''\n",
    "\n",
    "def extract_text(s):\n",
    "    if s == None:\n",
    "        return None\n",
    "    soup = BeautifulSoup(s)\n",
    "    return soup.get_text()\n",
    "\n",
    "def date(created):\n",
    "    # Converts the timestamp to UTC time\n",
    "    return datetime.utcfromtimestamp(created)\n"
   ]
  },
  {
   "cell_type": "code",
   "execution_count": null,
   "id": "eb3391b3",
   "metadata": {},
   "outputs": [],
   "source": [
    "\n",
    "compiled = pd.DataFrame()\n",
    "\n",
    "directory = \"../Data/subreddits\"\n",
    "for filename in os.listdir(directory):\n",
    "    df = pd.read_pickle(os.path.join(directory, filename))\n",
    "    compiled = compiled.append(df)\n",
    "    \n",
    "compiled.reset_index()\n",
    "\n",
    "compiled\n",
    "\n",
    "\n",
    "\n",
    "compiled[\"selftext\"] = compiled[\"selftext_html\"].apply(extract_text)\n",
    "\n",
    "compiled[\"created_datetime_utc\"] = compiled[\"created_utc\"].apply(date)\n",
    "\n",
    "compiled.to_csv(\"../Data/subreddits.csv\")\n"
   ]
  },
  {
   "cell_type": "code",
   "execution_count": 4,
   "id": "52568fa1",
   "metadata": {},
   "outputs": [],
   "source": []
  },
  {
   "cell_type": "code",
   "execution_count": 6,
   "id": "a2dfaa1d",
   "metadata": {},
   "outputs": [],
   "source": []
  },
  {
   "cell_type": "code",
   "execution_count": 4,
   "id": "a67ff438",
   "metadata": {},
   "outputs": [
    {
     "ename": "FileNotFoundError",
     "evalue": "[Errno 2] No such file or directory: '../Data/subreddit_WritingPrompts/full.pkl'",
     "output_type": "error",
     "traceback": [
      "\u001b[1;31m---------------------------------------------------------------------------\u001b[0m",
      "\u001b[1;31mFileNotFoundError\u001b[0m                         Traceback (most recent call last)",
      "\u001b[1;32m<ipython-input-4-b7d8209cc0e9>\u001b[0m in \u001b[0;36m<module>\u001b[1;34m\u001b[0m\n\u001b[0;32m      1\u001b[0m \u001b[1;32mfor\u001b[0m \u001b[0msubreddit\u001b[0m \u001b[1;32min\u001b[0m \u001b[1;33m[\u001b[0m\u001b[1;34m\"Jokes\"\u001b[0m\u001b[1;33m,\u001b[0m \u001b[1;34m\"TraditionalCurses\"\u001b[0m\u001b[1;33m,\u001b[0m \u001b[1;34m\"TwoSentenceHorror\"\u001b[0m\u001b[1;33m,\u001b[0m \u001b[1;34m\"WritingPrompts\"\u001b[0m\u001b[1;33m]\u001b[0m\u001b[1;33m:\u001b[0m\u001b[1;33m\u001b[0m\u001b[1;33m\u001b[0m\u001b[0m\n\u001b[1;32m----> 2\u001b[1;33m     \u001b[0mdf\u001b[0m \u001b[1;33m=\u001b[0m \u001b[0mpd\u001b[0m\u001b[1;33m.\u001b[0m\u001b[0mread_pickle\u001b[0m\u001b[1;33m(\u001b[0m\u001b[1;34m\"../Data/subreddit_\"\u001b[0m \u001b[1;33m+\u001b[0m \u001b[0msubreddit\u001b[0m \u001b[1;33m+\u001b[0m \u001b[1;34m\"/full.pkl\"\u001b[0m\u001b[1;33m)\u001b[0m\u001b[1;33m\u001b[0m\u001b[1;33m\u001b[0m\u001b[0m\n\u001b[0m\u001b[0;32m      3\u001b[0m     \u001b[0mdf\u001b[0m\u001b[1;33m[\u001b[0m\u001b[1;34m\"selftext\"\u001b[0m\u001b[1;33m]\u001b[0m \u001b[1;33m=\u001b[0m \u001b[0mdf\u001b[0m\u001b[1;33m[\u001b[0m\u001b[1;34m\"selftext_html\"\u001b[0m\u001b[1;33m]\u001b[0m\u001b[1;33m.\u001b[0m\u001b[0mapply\u001b[0m\u001b[1;33m(\u001b[0m\u001b[0mextract_text\u001b[0m\u001b[1;33m)\u001b[0m\u001b[1;33m\u001b[0m\u001b[1;33m\u001b[0m\u001b[0m\n\u001b[0;32m      4\u001b[0m     \u001b[0mdf\u001b[0m\u001b[1;33m[\u001b[0m\u001b[1;34m\"created_datetime_utc\"\u001b[0m\u001b[1;33m]\u001b[0m \u001b[1;33m=\u001b[0m \u001b[0mdf\u001b[0m\u001b[1;33m[\u001b[0m\u001b[1;34m\"created_utc\"\u001b[0m\u001b[1;33m]\u001b[0m\u001b[1;33m.\u001b[0m\u001b[0mapply\u001b[0m\u001b[1;33m(\u001b[0m\u001b[0mdate\u001b[0m\u001b[1;33m)\u001b[0m\u001b[1;33m\u001b[0m\u001b[1;33m\u001b[0m\u001b[0m\n\u001b[0;32m      5\u001b[0m     \u001b[0mdf\u001b[0m\u001b[1;33m.\u001b[0m\u001b[0mto_csv\u001b[0m\u001b[1;33m(\u001b[0m\u001b[1;34m\"../Data/subreddit_\"\u001b[0m \u001b[1;33m+\u001b[0m \u001b[0msubreddit\u001b[0m \u001b[1;33m+\u001b[0m \u001b[1;34m\"/full.csv\"\u001b[0m\u001b[1;33m)\u001b[0m\u001b[1;33m\u001b[0m\u001b[1;33m\u001b[0m\u001b[0m\n",
      "\u001b[1;32m~\\anaconda3\\envs\\Erdos_Institute\\lib\\site-packages\\pandas\\io\\pickle.py\u001b[0m in \u001b[0;36mread_pickle\u001b[1;34m(filepath_or_buffer, compression, storage_options)\u001b[0m\n\u001b[0;32m    183\u001b[0m     \"\"\"\n\u001b[0;32m    184\u001b[0m     \u001b[0mexcs_to_catch\u001b[0m \u001b[1;33m=\u001b[0m \u001b[1;33m(\u001b[0m\u001b[0mAttributeError\u001b[0m\u001b[1;33m,\u001b[0m \u001b[0mImportError\u001b[0m\u001b[1;33m,\u001b[0m \u001b[0mModuleNotFoundError\u001b[0m\u001b[1;33m,\u001b[0m \u001b[0mTypeError\u001b[0m\u001b[1;33m)\u001b[0m\u001b[1;33m\u001b[0m\u001b[1;33m\u001b[0m\u001b[0m\n\u001b[1;32m--> 185\u001b[1;33m     with get_handle(\n\u001b[0m\u001b[0;32m    186\u001b[0m         \u001b[0mfilepath_or_buffer\u001b[0m\u001b[1;33m,\u001b[0m\u001b[1;33m\u001b[0m\u001b[1;33m\u001b[0m\u001b[0m\n\u001b[0;32m    187\u001b[0m         \u001b[1;34m\"rb\"\u001b[0m\u001b[1;33m,\u001b[0m\u001b[1;33m\u001b[0m\u001b[1;33m\u001b[0m\u001b[0m\n",
      "\u001b[1;32m~\\anaconda3\\envs\\Erdos_Institute\\lib\\site-packages\\pandas\\io\\common.py\u001b[0m in \u001b[0;36mget_handle\u001b[1;34m(path_or_buf, mode, encoding, compression, memory_map, is_text, errors, storage_options)\u001b[0m\n\u001b[0;32m    649\u001b[0m         \u001b[1;32melse\u001b[0m\u001b[1;33m:\u001b[0m\u001b[1;33m\u001b[0m\u001b[1;33m\u001b[0m\u001b[0m\n\u001b[0;32m    650\u001b[0m             \u001b[1;31m# Binary mode\u001b[0m\u001b[1;33m\u001b[0m\u001b[1;33m\u001b[0m\u001b[1;33m\u001b[0m\u001b[0m\n\u001b[1;32m--> 651\u001b[1;33m             \u001b[0mhandle\u001b[0m \u001b[1;33m=\u001b[0m \u001b[0mopen\u001b[0m\u001b[1;33m(\u001b[0m\u001b[0mhandle\u001b[0m\u001b[1;33m,\u001b[0m \u001b[0mioargs\u001b[0m\u001b[1;33m.\u001b[0m\u001b[0mmode\u001b[0m\u001b[1;33m)\u001b[0m\u001b[1;33m\u001b[0m\u001b[1;33m\u001b[0m\u001b[0m\n\u001b[0m\u001b[0;32m    652\u001b[0m         \u001b[0mhandles\u001b[0m\u001b[1;33m.\u001b[0m\u001b[0mappend\u001b[0m\u001b[1;33m(\u001b[0m\u001b[0mhandle\u001b[0m\u001b[1;33m)\u001b[0m\u001b[1;33m\u001b[0m\u001b[1;33m\u001b[0m\u001b[0m\n\u001b[0;32m    653\u001b[0m \u001b[1;33m\u001b[0m\u001b[0m\n",
      "\u001b[1;31mFileNotFoundError\u001b[0m: [Errno 2] No such file or directory: '../Data/subreddit_WritingPrompts/full.pkl'"
     ]
    }
   ],
   "source": [
    "for subreddit in [\"Jokes\", \"TraditionalCurses\", \"TwoSentenceHorror\", \"WritingPrompts\"]:\n",
    "    df = pd.read_pickle(\"../Data/subreddit_\" + subreddit + \"/full.pkl\")\n",
    "    df[\"selftext\"] = df[\"selftext_html\"].apply(extract_text)\n",
    "    df[\"created_datetime_utc\"] = df[\"created_utc\"].apply(date)\n",
    "    df.to_csv(\"../Data/subreddit_\" + subreddit + \"/full.csv\")"
   ]
  },
  {
   "cell_type": "code",
   "execution_count": null,
   "id": "e7079db5",
   "metadata": {},
   "outputs": [],
   "source": []
  }
 ],
 "metadata": {
  "kernelspec": {
   "display_name": "Python 3",
   "language": "python",
   "name": "python3"
  },
  "language_info": {
   "codemirror_mode": {
    "name": "ipython",
    "version": 3
   },
   "file_extension": ".py",
   "mimetype": "text/x-python",
   "name": "python",
   "nbconvert_exporter": "python",
   "pygments_lexer": "ipython3",
   "version": "3.8.8"
  }
 },
 "nbformat": 4,
 "nbformat_minor": 5
}
