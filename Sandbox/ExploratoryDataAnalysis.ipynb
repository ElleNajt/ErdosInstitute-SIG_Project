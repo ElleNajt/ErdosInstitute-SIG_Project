{
 "cells": [
  {
   "cell_type": "code",
   "execution_count": 13,
   "metadata": {},
   "outputs": [],
   "source": [
    "import pandas as pd\n",
    "import seaborn as sns\n",
    "import re\n",
    "\n",
    "from sklearn.model_selection import train_test_split\n",
    "from sklearn.linear_model import LinearRegression\n",
    "from sklearn.feature_extraction.text import CountVectorizer\n",
    "import numpy as np"
   ]
  },
  {
   "cell_type": "code",
   "execution_count": 136,
   "metadata": {},
   "outputs": [],
   "source": [
    "wsb = pd.read_pickle('../wsb_data.pkl')\n",
    "\n"
   ]
  },
  {
   "cell_type": "code",
   "execution_count": 137,
   "metadata": {},
   "outputs": [
    {
     "data": {
      "text/html": [
       "<div>\n",
       "<style scoped>\n",
       "    .dataframe tbody tr th:only-of-type {\n",
       "        vertical-align: middle;\n",
       "    }\n",
       "\n",
       "    .dataframe tbody tr th {\n",
       "        vertical-align: top;\n",
       "    }\n",
       "\n",
       "    .dataframe thead th {\n",
       "        text-align: right;\n",
       "    }\n",
       "</style>\n",
       "<table border=\"1\" class=\"dataframe\">\n",
       "  <thead>\n",
       "    <tr style=\"text-align: right;\">\n",
       "      <th></th>\n",
       "      <th>title</th>\n",
       "      <th>self</th>\n",
       "      <th>text</th>\n",
       "      <th>author</th>\n",
       "      <th>name</th>\n",
       "      <th>id</th>\n",
       "      <th>upvote_ratio</th>\n",
       "      <th>ups</th>\n",
       "      <th>downs</th>\n",
       "      <th>awarders</th>\n",
       "      <th>awards</th>\n",
       "      <th>total_awards</th>\n",
       "      <th>url</th>\n",
       "      <th>comments</th>\n",
       "      <th>time_created</th>\n",
       "    </tr>\n",
       "  </thead>\n",
       "  <tbody>\n",
       "    <tr>\n",
       "      <th>0</th>\n",
       "      <td>Nio day🚀🚀</td>\n",
       "      <td>False</td>\n",
       "      <td></td>\n",
       "      <td>Evdrmr</td>\n",
       "      <td>t3_kom7tp</td>\n",
       "      <td>kom7tp</td>\n",
       "      <td>0.69</td>\n",
       "      <td>11</td>\n",
       "      <td>None</td>\n",
       "      <td>[]</td>\n",
       "      <td>[]</td>\n",
       "      <td>0</td>\n",
       "      <td>https://i.redd.it/ytvyk6p47t861.jpg</td>\n",
       "      <td>NaN</td>\n",
       "      <td>NaN</td>\n",
       "    </tr>\n",
       "    <tr>\n",
       "      <th>1</th>\n",
       "      <td>Stop making “meta” posts about awards. You ain...</td>\n",
       "      <td>True</td>\n",
       "      <td>[removed]</td>\n",
       "      <td>None</td>\n",
       "      <td>t3_kom59t</td>\n",
       "      <td>kom59t</td>\n",
       "      <td>1.00</td>\n",
       "      <td>1</td>\n",
       "      <td>None</td>\n",
       "      <td>[]</td>\n",
       "      <td>[]</td>\n",
       "      <td>0</td>\n",
       "      <td>https://www.reddit.com/r/wallstreetbets/commen...</td>\n",
       "      <td>NaN</td>\n",
       "      <td>NaN</td>\n",
       "    </tr>\n",
       "    <tr>\n",
       "      <th>2</th>\n",
       "      <td>Did I do something wrong (r/stocks)</td>\n",
       "      <td>False</td>\n",
       "      <td></td>\n",
       "      <td>nathantheman</td>\n",
       "      <td>t3_kom3zp</td>\n",
       "      <td>kom3zp</td>\n",
       "      <td>1.00</td>\n",
       "      <td>1</td>\n",
       "      <td>None</td>\n",
       "      <td>[]</td>\n",
       "      <td>[]</td>\n",
       "      <td>0</td>\n",
       "      <td>https://i.redd.it/if5ewo146t861.jpg</td>\n",
       "      <td>NaN</td>\n",
       "      <td>NaN</td>\n",
       "    </tr>\n",
       "    <tr>\n",
       "      <th>3</th>\n",
       "      <td>Fuck r/stocks all my homies hate r/stocks</td>\n",
       "      <td>True</td>\n",
       "      <td>[removed]</td>\n",
       "      <td>Danne080</td>\n",
       "      <td>t3_kom3oq</td>\n",
       "      <td>kom3oq</td>\n",
       "      <td>0.71</td>\n",
       "      <td>11</td>\n",
       "      <td>None</td>\n",
       "      <td>[]</td>\n",
       "      <td>[]</td>\n",
       "      <td>0</td>\n",
       "      <td>https://www.reddit.com/r/wallstreetbets/commen...</td>\n",
       "      <td>NaN</td>\n",
       "      <td>NaN</td>\n",
       "    </tr>\n",
       "    <tr>\n",
       "      <th>4</th>\n",
       "      <td>$ACAM 🚀🚀🚀🚀 Go big or go home - I’ll be posting...</td>\n",
       "      <td>False</td>\n",
       "      <td>[deleted]</td>\n",
       "      <td>None</td>\n",
       "      <td>t3_kom1z8</td>\n",
       "      <td>kom1z8</td>\n",
       "      <td>1.00</td>\n",
       "      <td>1</td>\n",
       "      <td>None</td>\n",
       "      <td>[]</td>\n",
       "      <td>[]</td>\n",
       "      <td>0</td>\n",
       "      <td>https://i.redd.it/bigbcmck5t861.jpg</td>\n",
       "      <td>NaN</td>\n",
       "      <td>NaN</td>\n",
       "    </tr>\n",
       "    <tr>\n",
       "      <th>...</th>\n",
       "      <td>...</td>\n",
       "      <td>...</td>\n",
       "      <td>...</td>\n",
       "      <td>...</td>\n",
       "      <td>...</td>\n",
       "      <td>...</td>\n",
       "      <td>...</td>\n",
       "      <td>...</td>\n",
       "      <td>...</td>\n",
       "      <td>...</td>\n",
       "      <td>...</td>\n",
       "      <td>...</td>\n",
       "      <td>...</td>\n",
       "      <td>...</td>\n",
       "      <td>...</td>\n",
       "    </tr>\n",
       "    <tr>\n",
       "      <th>10980</th>\n",
       "      <td>Loss porn: started with 3 shares @ $234 and ha...</td>\n",
       "      <td>False</td>\n",
       "      <td></td>\n",
       "      <td>HotStove75</td>\n",
       "      <td>t3_lglbyu</td>\n",
       "      <td>NaN</td>\n",
       "      <td>1.00</td>\n",
       "      <td>1</td>\n",
       "      <td>None</td>\n",
       "      <td>[]</td>\n",
       "      <td>[]</td>\n",
       "      <td>0</td>\n",
       "      <td>https://i.redd.it/9vfb4ecgpkg61.jpg</td>\n",
       "      <td>[]</td>\n",
       "      <td>1.612929e+09</td>\n",
       "    </tr>\n",
       "    <tr>\n",
       "      <th>10981</th>\n",
       "      <td>Neo-Economics from GME frenzy</td>\n",
       "      <td>True</td>\n",
       "      <td>[removed]</td>\n",
       "      <td>AntiBullyMighty</td>\n",
       "      <td>t3_lglbt1</td>\n",
       "      <td>NaN</td>\n",
       "      <td>1.00</td>\n",
       "      <td>1</td>\n",
       "      <td>None</td>\n",
       "      <td>[]</td>\n",
       "      <td>[]</td>\n",
       "      <td>0</td>\n",
       "      <td>https://www.reddit.com/r/wallstreetbets/commen...</td>\n",
       "      <td>[]</td>\n",
       "      <td>1.612929e+09</td>\n",
       "    </tr>\n",
       "    <tr>\n",
       "      <th>10982</th>\n",
       "      <td>What's up with NLS</td>\n",
       "      <td>True</td>\n",
       "      <td>[removed]</td>\n",
       "      <td>DanielOldieLox</td>\n",
       "      <td>t3_lglbr3</td>\n",
       "      <td>NaN</td>\n",
       "      <td>1.00</td>\n",
       "      <td>1</td>\n",
       "      <td>None</td>\n",
       "      <td>[]</td>\n",
       "      <td>[]</td>\n",
       "      <td>0</td>\n",
       "      <td>https://www.reddit.com/r/wallstreetbets/commen...</td>\n",
       "      <td>[]</td>\n",
       "      <td>1.612929e+09</td>\n",
       "    </tr>\n",
       "    <tr>\n",
       "      <th>10983</th>\n",
       "      <td>🙌🏼 💎</td>\n",
       "      <td>False</td>\n",
       "      <td></td>\n",
       "      <td>winvest_investments</td>\n",
       "      <td>t3_lglbqx</td>\n",
       "      <td>NaN</td>\n",
       "      <td>1.00</td>\n",
       "      <td>1</td>\n",
       "      <td>None</td>\n",
       "      <td>[]</td>\n",
       "      <td>[]</td>\n",
       "      <td>0</td>\n",
       "      <td>https://i.redd.it/ntyp24wbpkg61.jpg</td>\n",
       "      <td>[]</td>\n",
       "      <td>1.612929e+09</td>\n",
       "    </tr>\n",
       "    <tr>\n",
       "      <th>10984</th>\n",
       "      <td>what’s our thoughts about Zom</td>\n",
       "      <td>True</td>\n",
       "      <td>[removed]</td>\n",
       "      <td>Best_Mechanic_2069</td>\n",
       "      <td>t3_lglbqh</td>\n",
       "      <td>NaN</td>\n",
       "      <td>1.00</td>\n",
       "      <td>1</td>\n",
       "      <td>None</td>\n",
       "      <td>[]</td>\n",
       "      <td>[]</td>\n",
       "      <td>0</td>\n",
       "      <td>https://www.reddit.com/r/wallstreetbets/commen...</td>\n",
       "      <td>[]</td>\n",
       "      <td>1.612929e+09</td>\n",
       "    </tr>\n",
       "  </tbody>\n",
       "</table>\n",
       "<p>1463576 rows × 15 columns</p>\n",
       "</div>"
      ],
      "text/plain": [
       "                                                   title   self       text  \\\n",
       "0                                              Nio day🚀🚀  False              \n",
       "1      Stop making “meta” posts about awards. You ain...   True  [removed]   \n",
       "2                    Did I do something wrong (r/stocks)  False              \n",
       "3              Fuck r/stocks all my homies hate r/stocks   True  [removed]   \n",
       "4      $ACAM 🚀🚀🚀🚀 Go big or go home - I’ll be posting...  False  [deleted]   \n",
       "...                                                  ...    ...        ...   \n",
       "10980  Loss porn: started with 3 shares @ $234 and ha...  False              \n",
       "10981                      Neo-Economics from GME frenzy   True  [removed]   \n",
       "10982                                 What's up with NLS   True  [removed]   \n",
       "10983                                               🙌🏼 💎  False              \n",
       "10984                      what’s our thoughts about Zom   True  [removed]   \n",
       "\n",
       "                    author       name      id  upvote_ratio  ups downs  \\\n",
       "0                   Evdrmr  t3_kom7tp  kom7tp          0.69   11  None   \n",
       "1                     None  t3_kom59t  kom59t          1.00    1  None   \n",
       "2             nathantheman  t3_kom3zp  kom3zp          1.00    1  None   \n",
       "3                 Danne080  t3_kom3oq  kom3oq          0.71   11  None   \n",
       "4                     None  t3_kom1z8  kom1z8          1.00    1  None   \n",
       "...                    ...        ...     ...           ...  ...   ...   \n",
       "10980           HotStove75  t3_lglbyu     NaN          1.00    1  None   \n",
       "10981      AntiBullyMighty  t3_lglbt1     NaN          1.00    1  None   \n",
       "10982       DanielOldieLox  t3_lglbr3     NaN          1.00    1  None   \n",
       "10983  winvest_investments  t3_lglbqx     NaN          1.00    1  None   \n",
       "10984   Best_Mechanic_2069  t3_lglbqh     NaN          1.00    1  None   \n",
       "\n",
       "      awarders awards  total_awards  \\\n",
       "0           []     []             0   \n",
       "1           []     []             0   \n",
       "2           []     []             0   \n",
       "3           []     []             0   \n",
       "4           []     []             0   \n",
       "...        ...    ...           ...   \n",
       "10980       []     []             0   \n",
       "10981       []     []             0   \n",
       "10982       []     []             0   \n",
       "10983       []     []             0   \n",
       "10984       []     []             0   \n",
       "\n",
       "                                                     url comments  \\\n",
       "0                    https://i.redd.it/ytvyk6p47t861.jpg      NaN   \n",
       "1      https://www.reddit.com/r/wallstreetbets/commen...      NaN   \n",
       "2                    https://i.redd.it/if5ewo146t861.jpg      NaN   \n",
       "3      https://www.reddit.com/r/wallstreetbets/commen...      NaN   \n",
       "4                    https://i.redd.it/bigbcmck5t861.jpg      NaN   \n",
       "...                                                  ...      ...   \n",
       "10980                https://i.redd.it/9vfb4ecgpkg61.jpg       []   \n",
       "10981  https://www.reddit.com/r/wallstreetbets/commen...       []   \n",
       "10982  https://www.reddit.com/r/wallstreetbets/commen...       []   \n",
       "10983                https://i.redd.it/ntyp24wbpkg61.jpg       []   \n",
       "10984  https://www.reddit.com/r/wallstreetbets/commen...       []   \n",
       "\n",
       "       time_created  \n",
       "0               NaN  \n",
       "1               NaN  \n",
       "2               NaN  \n",
       "3               NaN  \n",
       "4               NaN  \n",
       "...             ...  \n",
       "10980  1.612929e+09  \n",
       "10981  1.612929e+09  \n",
       "10982  1.612929e+09  \n",
       "10983  1.612929e+09  \n",
       "10984  1.612929e+09  \n",
       "\n",
       "[1463576 rows x 15 columns]"
      ]
     },
     "execution_count": 137,
     "metadata": {},
     "output_type": "execute_result"
    }
   ],
   "source": [
    "wsb"
   ]
  },
  {
   "cell_type": "code",
   "execution_count": 139,
   "metadata": {},
   "outputs": [],
   "source": [
    "regex = re.compile('[^a-zA-Z ]')\n",
    "\n",
    "for col in ['title', 'author', 'text']:\n",
    "    wsb[col] = wsb[col].apply(lambda x : regex.sub('', str(x) ))"
   ]
  },
  {
   "cell_type": "code",
   "execution_count": 155,
   "metadata": {
    "scrolled": true
   },
   "outputs": [],
   "source": [
    "wsb_text = wsb[(wsb[\"self\"] == True) & ( wsb.ups >= 200)]\n"
   ]
  },
  {
   "cell_type": "code",
   "execution_count": null,
   "metadata": {},
   "outputs": [],
   "source": []
  },
  {
   "cell_type": "code",
   "execution_count": 156,
   "metadata": {},
   "outputs": [],
   "source": [
    "\n",
    "\n",
    "#corpus = list( wsb_text[\"title\"])\n",
    "\n",
    "corpus = list(wsb[\"author\"])\n",
    "#https://scikit-learn.org/stable/modules/generated/sklearn.feature_extraction.text.CountVectorizer.html\n",
    "#https://scikit-learn.org/stable/tutorial/text_analytics/working_with_text_data.html\n",
    "\n",
    "vectorizer = CountVectorizer()\n",
    "X = vectorizer.fit_transform(corpus)\n",
    "#print(vectorizer.get_feature_names())"
   ]
  },
  {
   "cell_type": "code",
   "execution_count": 157,
   "metadata": {},
   "outputs": [
    {
     "data": {
      "text/plain": [
       "<AxesSubplot:xlabel='predicted', ylabel='true'>"
      ]
     },
     "execution_count": 157,
     "metadata": {},
     "output_type": "execute_result"
    },
    {
     "data": {
      "image/png": "[encoded data removed]",
      "text/plain": [
       "<Figure size 432x288 with 1 Axes>"
      ]
     },
     "metadata": {
      "needs_background": "light"
     },
     "output_type": "display_data"
    }
   ],
   "source": [
    "def sigmoid(x):\n",
    "    return 1/ ( 1 + np.exp(-x))\n",
    "\n",
    "def logit(x):\n",
    "    if x != 0:\n",
    "        return x/(1 - x)\n",
    "    else:\n",
    "        return -999999999 # ...\n",
    "\n",
    "# y = list(map ( lambda x : sigmoid(x)  , wsb.upvote_ratio))\n",
    "y = wsb.ups\n",
    "\n",
    "X_train, X_test, y_train, y_test = train_test_split(X, y, test_size=0.33, random_state=46)\n",
    "\n",
    "\n",
    "clf = LinearRegression().fit(X_train, y_train)\n",
    "\n",
    "results = pd.DataFrame()\n",
    "\n",
    "results[\"predicted\"] = clf.predict(X_test)\n",
    "results[\"true\"] = list(y_test)\n",
    "sns.scatterplot(data = results, x = \"predicted\", y = \"true\")\n"
   ]
  },
  {
   "cell_type": "code",
   "execution_count": 151,
   "metadata": {},
   "outputs": [],
   "source": []
  },
  {
   "cell_type": "code",
   "execution_count": 152,
   "metadata": {},
   "outputs": [
    {
     "data": {
      "text/plain": [
       "<AxesSubplot:xlabel='predicted', ylabel='true'>"
      ]
     },
     "execution_count": 152,
     "metadata": {},
     "output_type": "execute_result"
    },
    {
     "data": {
      "image/png": "[encoded data removed]",
      "text/plain": [
       "<Figure size 432x288 with 1 Axes>"
      ]
     },
     "metadata": {
      "needs_background": "light"
     },
     "output_type": "display_data"
    }
   ],
   "source": []
  },
  {
   "cell_type": "code",
   "execution_count": 150,
   "metadata": {},
   "outputs": [
    {
     "data": {
      "text/plain": [
       "36941    7\n",
       "38176    1\n",
       "16550    1\n",
       "20341    1\n",
       "99534    1\n",
       "        ..\n",
       "38007    1\n",
       "89018    1\n",
       "33071    1\n",
       "67360    1\n",
       "15648    1\n",
       "Name: ups, Length: 482981, dtype: int64"
      ]
     },
     "execution_count": 150,
     "metadata": {},
     "output_type": "execute_result"
    }
   ],
   "source": [
    "clf.predict(X_test)\n",
    "y_test"
   ]
  },
  {
   "cell_type": "code",
   "execution_count": 39,
   "metadata": {},
   "outputs": [
    {
     "data": {
      "text/plain": [
       "<keras_preprocessing.text.Tokenizer at 0x2b972208c10>"
      ]
     },
     "execution_count": 39,
     "metadata": {},
     "output_type": "execute_result"
    }
   ],
   "source": [
    "#"
   ]
  },
  {
   "cell_type": "code",
   "execution_count": 87,
   "metadata": {},
   "outputs": [],
   "source": [
    "#https://scikit-learn.org/stable/modules/generated/sklearn.feature_extraction.text.CountVectorizer.html\n",
    "\n",
    "vectorizer = CountVectorizer()\n",
    "X = vectorizer.fit_transform(corpus)\n",
    "#print(vectorizer.get_feature_names())"
   ]
  },
  {
   "cell_type": "code",
   "execution_count": 86,
   "metadata": {},
   "outputs": [],
   "source": [
    "\n",
    "#print(vectorizer2.get_feature_names())"
   ]
  },
  {
   "cell_type": "code",
   "execution_count": 89,
   "metadata": {},
   "outputs": [],
   "source": [
    "from sklearn.feature_extraction.text import TfidfTransformer\n",
    "\n",
    "\n",
    "from sklearn.pipeline import Pipeline\n",
    "text_clf = Pipeline([\n",
    "    ('vect', CountVectorizer()),\n",
    "    ('tfidf', TfidfTransformer()),\n",
    "    ('clf', LinearRegression()),\n",
    "])"
   ]
  },
  {
   "cell_type": "code",
   "execution_count": 113,
   "metadata": {},
   "outputs": [],
   "source": [
    "#https://scikit-learn.org/stable/tutorial/text_analytics/working_with_text_data.html\n",
    "from sklearn.model_selection import train_test_split\n",
    "from sklearn.linear_model import LinearRegression\n",
    "import numpy as np\n",
    "\n",
    "def sigmoid(x):\n",
    "    return 1/ ( 1 + np.exp(-x))\n",
    "\n",
    "y = list(map ( lambda x : sigmoid(x)  , wsb_text.upvote_ratio))\n",
    "X_train, X_test, y_train, y_test = train_test_split(X2.toarray(), y, test_size=0.33, random_state=42)\n",
    "\n",
    "\n",
    "clf = LinearRegression(positive=True).fit(X_train, y_train)\n"
   ]
  },
  {
   "cell_type": "code",
   "execution_count": 116,
   "metadata": {},
   "outputs": [
    {
     "data": {
      "text/plain": [
       "<AxesSubplot:xlabel='predicted', ylabel='true'>"
      ]
     },
     "execution_count": 116,
     "metadata": {},
     "output_type": "execute_result"
    },
    {
     "data": {
      "image/png": "[encoded data removed]",
      "text/plain": [
       "<Figure size 432x288 with 1 Axes>"
      ]
     },
     "metadata": {
      "needs_background": "light"
     },
     "output_type": "display_data"
    }
   ],
   "source": [
    "\n",
    "results = pd.DataFrame()\n",
    "results[\"predicted\"] = clf.predict(X_test)\n",
    "results[\"true\"] = y_test\n",
    "sns.scatterplot(data = results, x = \"predicted\", y = \"true\")\n"
   ]
  },
  {
   "cell_type": "code",
   "execution_count": 106,
   "metadata": {},
   "outputs": [
    {
     "data": {
      "text/plain": [
       "count     4992.000000\n",
       "mean        18.896635\n",
       "std        323.637532\n",
       "min          0.000000\n",
       "25%          1.000000\n",
       "50%          1.000000\n",
       "75%          1.000000\n",
       "max      19066.000000\n",
       "Name: score, dtype: float64"
      ]
     },
     "execution_count": 106,
     "metadata": {},
     "output_type": "execute_result"
    }
   ],
   "source": [
    "wsb_text.score.describe()"
   ]
  },
  {
   "cell_type": "code",
   "execution_count": null,
   "metadata": {},
   "outputs": [],
   "source": []
  },
  {
   "cell_type": "code",
   "execution_count": null,
   "metadata": {},
   "outputs": [],
   "source": []
  }
 ],
 "metadata": {
  "kernelspec": {
   "display_name": "Python 3",
   "language": "python",
   "name": "python3"
  },
  "language_info": {
   "codemirror_mode": {
    "name": "ipython",
    "version": 3
   },
   "file_extension": ".py",
   "mimetype": "text/x-python",
   "name": "python",
   "nbconvert_exporter": "python",
   "pygments_lexer": "ipython3",
   "version": "3.8.8"
  }
 },
 "nbformat": 4,
 "nbformat_minor": 4
}
