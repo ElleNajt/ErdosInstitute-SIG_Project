{
 "cells": [
  {
   "cell_type": "code",
   "execution_count": 34,
   "metadata": {},
   "outputs": [],
   "source": [
    "import pandas as pd\n",
    "import seaborn as sns\n",
    "import re\n",
    "\n",
    "from sklearn.model_selection import train_test_split\n",
    "import sklearn.linear_model as sklm\n",
    "from sklearn.feature_extraction.text import CountVectorizer\n",
    "import numpy as np\n",
    "from matplotlib import pyplot as plt\n",
    "\n"
   ]
  },
  {
   "cell_type": "code",
   "execution_count": 7,
   "metadata": {},
   "outputs": [
    {
     "data": {
      "text/html": [
       "<div>\n",
       "<style scoped>\n",
       "    .dataframe tbody tr th:only-of-type {\n",
       "        vertical-align: middle;\n",
       "    }\n",
       "\n",
       "    .dataframe tbody tr th {\n",
       "        vertical-align: top;\n",
       "    }\n",
       "\n",
       "    .dataframe thead th {\n",
       "        text-align: right;\n",
       "    }\n",
       "</style>\n",
       "<table border=\"1\" class=\"dataframe\">\n",
       "  <thead>\n",
       "    <tr style=\"text-align: right;\">\n",
       "      <th></th>\n",
       "      <th>title</th>\n",
       "      <th>author</th>\n",
       "      <th>created_datetime_utc</th>\n",
       "      <th>selftext</th>\n",
       "      <th>url</th>\n",
       "      <th>upvote_ratio</th>\n",
       "      <th>ups</th>\n",
       "      <th>total_awards_received</th>\n",
       "      <th>num_comments</th>\n",
       "      <th>num_crossposts</th>\n",
       "      <th>is_self</th>\n",
       "      <th>is_video</th>\n",
       "      <th>media_only</th>\n",
       "      <th>id</th>\n",
       "      <th>created_utc</th>\n",
       "      <th>selftext_html</th>\n",
       "      <th>author_fullname</th>\n",
       "    </tr>\n",
       "  </thead>\n",
       "  <tbody>\n",
       "    <tr>\n",
       "      <th>0</th>\n",
       "      <td>Nio day🚀🚀</td>\n",
       "      <td>Evdrmr</td>\n",
       "      <td>2021-01-01 23:55:39</td>\n",
       "      <td>None</td>\n",
       "      <td>https://i.redd.it/ytvyk6p47t861.jpg</td>\n",
       "      <td>0.70</td>\n",
       "      <td>11</td>\n",
       "      <td>0</td>\n",
       "      <td>15</td>\n",
       "      <td>0</td>\n",
       "      <td>False</td>\n",
       "      <td>False</td>\n",
       "      <td>False</td>\n",
       "      <td>kom7tp</td>\n",
       "      <td>1.609545e+09</td>\n",
       "      <td>None</td>\n",
       "      <td>t2_5o7wfxis</td>\n",
       "    </tr>\n",
       "    <tr>\n",
       "      <th>1</th>\n",
       "      <td>Stop making “meta” posts about awards. You ain...</td>\n",
       "      <td>None</td>\n",
       "      <td>2021-01-01 23:51:49</td>\n",
       "      <td>[removed]\\n</td>\n",
       "      <td>https://www.reddit.com/r/wallstreetbets/commen...</td>\n",
       "      <td>1.00</td>\n",
       "      <td>1</td>\n",
       "      <td>0</td>\n",
       "      <td>0</td>\n",
       "      <td>0</td>\n",
       "      <td>True</td>\n",
       "      <td>False</td>\n",
       "      <td>False</td>\n",
       "      <td>kom59t</td>\n",
       "      <td>1.609545e+09</td>\n",
       "      <td>&lt;!-- SC_OFF --&gt;&lt;div class=\"md\"&gt;&lt;p&gt;[removed]&lt;/p...</td>\n",
       "      <td>NaN</td>\n",
       "    </tr>\n",
       "    <tr>\n",
       "      <th>2</th>\n",
       "      <td>Did I do something wrong (r/stocks)</td>\n",
       "      <td>nathantheman</td>\n",
       "      <td>2021-01-01 23:49:52</td>\n",
       "      <td>None</td>\n",
       "      <td>https://i.redd.it/if5ewo146t861.jpg</td>\n",
       "      <td>1.00</td>\n",
       "      <td>1</td>\n",
       "      <td>0</td>\n",
       "      <td>0</td>\n",
       "      <td>0</td>\n",
       "      <td>False</td>\n",
       "      <td>False</td>\n",
       "      <td>False</td>\n",
       "      <td>kom3zp</td>\n",
       "      <td>1.609545e+09</td>\n",
       "      <td>None</td>\n",
       "      <td>t2_dwidc</td>\n",
       "    </tr>\n",
       "    <tr>\n",
       "      <th>3</th>\n",
       "      <td>Fuck r/stocks all my homies hate r/stocks</td>\n",
       "      <td>Danne080</td>\n",
       "      <td>2021-01-01 23:49:26</td>\n",
       "      <td>[removed]\\n</td>\n",
       "      <td>https://www.reddit.com/r/wallstreetbets/commen...</td>\n",
       "      <td>0.71</td>\n",
       "      <td>12</td>\n",
       "      <td>0</td>\n",
       "      <td>15</td>\n",
       "      <td>0</td>\n",
       "      <td>True</td>\n",
       "      <td>False</td>\n",
       "      <td>False</td>\n",
       "      <td>kom3oq</td>\n",
       "      <td>1.609545e+09</td>\n",
       "      <td>&lt;!-- SC_OFF --&gt;&lt;div class=\"md\"&gt;&lt;p&gt;[removed]&lt;/p...</td>\n",
       "      <td>t2_cyikut2</td>\n",
       "    </tr>\n",
       "    <tr>\n",
       "      <th>4</th>\n",
       "      <td>$ACAM 🚀🚀🚀🚀 Go big or go home - I’ll be posting...</td>\n",
       "      <td>None</td>\n",
       "      <td>2021-01-01 23:46:49</td>\n",
       "      <td>[deleted]\\n</td>\n",
       "      <td>https://i.redd.it/bigbcmck5t861.jpg</td>\n",
       "      <td>1.00</td>\n",
       "      <td>1</td>\n",
       "      <td>0</td>\n",
       "      <td>0</td>\n",
       "      <td>0</td>\n",
       "      <td>False</td>\n",
       "      <td>False</td>\n",
       "      <td>False</td>\n",
       "      <td>kom1z8</td>\n",
       "      <td>1.609545e+09</td>\n",
       "      <td>&lt;!-- SC_OFF --&gt;&lt;div class=\"md\"&gt;&lt;p&gt;[deleted]&lt;/p...</td>\n",
       "      <td>NaN</td>\n",
       "    </tr>\n",
       "    <tr>\n",
       "      <th>...</th>\n",
       "      <td>...</td>\n",
       "      <td>...</td>\n",
       "      <td>...</td>\n",
       "      <td>...</td>\n",
       "      <td>...</td>\n",
       "      <td>...</td>\n",
       "      <td>...</td>\n",
       "      <td>...</td>\n",
       "      <td>...</td>\n",
       "      <td>...</td>\n",
       "      <td>...</td>\n",
       "      <td>...</td>\n",
       "      <td>...</td>\n",
       "      <td>...</td>\n",
       "      <td>...</td>\n",
       "      <td>...</td>\n",
       "      <td>...</td>\n",
       "    </tr>\n",
       "    <tr>\n",
       "      <th>960960</th>\n",
       "      <td>ASO technical breakout and DD</td>\n",
       "      <td>rldkyce</td>\n",
       "      <td>2021-05-06 00:02:57</td>\n",
       "      <td>good evening apes, fellow smooth brains\\nfirst...</td>\n",
       "      <td>https://www.reddit.com/r/wallstreetbets/commen...</td>\n",
       "      <td>0.78</td>\n",
       "      <td>44</td>\n",
       "      <td>10</td>\n",
       "      <td>54</td>\n",
       "      <td>0</td>\n",
       "      <td>True</td>\n",
       "      <td>False</td>\n",
       "      <td>False</td>\n",
       "      <td>n5udz9</td>\n",
       "      <td>1.620259e+09</td>\n",
       "      <td>&lt;!-- SC_OFF --&gt;&lt;div class=\"md\"&gt;&lt;p&gt;good evening...</td>\n",
       "      <td>t2_4p2nwfnu</td>\n",
       "    </tr>\n",
       "    <tr>\n",
       "      <th>960961</th>\n",
       "      <td>First YOLO on CRSR</td>\n",
       "      <td>None</td>\n",
       "      <td>2021-05-06 00:02:55</td>\n",
       "      <td>[deleted]\\n</td>\n",
       "      <td>https://i.redd.it/l0729o9g5ex61.png</td>\n",
       "      <td>0.57</td>\n",
       "      <td>2</td>\n",
       "      <td>0</td>\n",
       "      <td>1</td>\n",
       "      <td>0</td>\n",
       "      <td>False</td>\n",
       "      <td>False</td>\n",
       "      <td>False</td>\n",
       "      <td>n5udy3</td>\n",
       "      <td>1.620259e+09</td>\n",
       "      <td>&lt;!-- SC_OFF --&gt;&lt;div class=\"md\"&gt;&lt;p&gt;[deleted]&lt;/p...</td>\n",
       "      <td>NaN</td>\n",
       "    </tr>\n",
       "    <tr>\n",
       "      <th>960962</th>\n",
       "      <td>Rkt to the moon!</td>\n",
       "      <td>Disastrous-Egg9959</td>\n",
       "      <td>2021-05-06 00:02:43</td>\n",
       "      <td>[removed]\\n</td>\n",
       "      <td>https://www.reddit.com/r/wallstreetbets/commen...</td>\n",
       "      <td>0.48</td>\n",
       "      <td>0</td>\n",
       "      <td>0</td>\n",
       "      <td>11</td>\n",
       "      <td>0</td>\n",
       "      <td>True</td>\n",
       "      <td>False</td>\n",
       "      <td>False</td>\n",
       "      <td>n5udsv</td>\n",
       "      <td>1.620259e+09</td>\n",
       "      <td>&lt;!-- SC_OFF --&gt;&lt;div class=\"md\"&gt;&lt;p&gt;[removed]&lt;/p...</td>\n",
       "      <td>t2_7hzx72of</td>\n",
       "    </tr>\n",
       "    <tr>\n",
       "      <th>960963</th>\n",
       "      <td>My therapist told me I’m delusional for thinki...</td>\n",
       "      <td>None</td>\n",
       "      <td>2021-05-06 00:02:38</td>\n",
       "      <td>[deleted]\\n</td>\n",
       "      <td>https://i.redd.it/f2up498f5ex61.jpg</td>\n",
       "      <td>0.33</td>\n",
       "      <td>0</td>\n",
       "      <td>0</td>\n",
       "      <td>1</td>\n",
       "      <td>0</td>\n",
       "      <td>False</td>\n",
       "      <td>False</td>\n",
       "      <td>False</td>\n",
       "      <td>n5udq9</td>\n",
       "      <td>1.620259e+09</td>\n",
       "      <td>&lt;!-- SC_OFF --&gt;&lt;div class=\"md\"&gt;&lt;p&gt;[deleted]&lt;/p...</td>\n",
       "      <td>NaN</td>\n",
       "    </tr>\n",
       "    <tr>\n",
       "      <th>960964</th>\n",
       "      <td>$CCIV - Lucid motors testing their FSD in Frem...</td>\n",
       "      <td>None</td>\n",
       "      <td>2021-05-06 00:00:46</td>\n",
       "      <td>[deleted]\\n</td>\n",
       "      <td>https://www.reddit.com/gallery/n5ucbx</td>\n",
       "      <td>1.00</td>\n",
       "      <td>1</td>\n",
       "      <td>0</td>\n",
       "      <td>1</td>\n",
       "      <td>0</td>\n",
       "      <td>False</td>\n",
       "      <td>False</td>\n",
       "      <td>False</td>\n",
       "      <td>n5ucbx</td>\n",
       "      <td>1.620259e+09</td>\n",
       "      <td>&lt;!-- SC_OFF --&gt;&lt;div class=\"md\"&gt;&lt;p&gt;[deleted]&lt;/p...</td>\n",
       "      <td>NaN</td>\n",
       "    </tr>\n",
       "  </tbody>\n",
       "</table>\n",
       "<p>960965 rows × 17 columns</p>\n",
       "</div>"
      ],
      "text/plain": [
       "                                                    title              author  \\\n",
       "0                                               Nio day🚀🚀              Evdrmr   \n",
       "1       Stop making “meta” posts about awards. You ain...                None   \n",
       "2                     Did I do something wrong (r/stocks)        nathantheman   \n",
       "3               Fuck r/stocks all my homies hate r/stocks            Danne080   \n",
       "4       $ACAM 🚀🚀🚀🚀 Go big or go home - I’ll be posting...                None   \n",
       "...                                                   ...                 ...   \n",
       "960960                      ASO technical breakout and DD             rldkyce   \n",
       "960961                                 First YOLO on CRSR                None   \n",
       "960962                                   Rkt to the moon!  Disastrous-Egg9959   \n",
       "960963  My therapist told me I’m delusional for thinki...                None   \n",
       "960964  $CCIV - Lucid motors testing their FSD in Frem...                None   \n",
       "\n",
       "       created_datetime_utc  \\\n",
       "0       2021-01-01 23:55:39   \n",
       "1       2021-01-01 23:51:49   \n",
       "2       2021-01-01 23:49:52   \n",
       "3       2021-01-01 23:49:26   \n",
       "4       2021-01-01 23:46:49   \n",
       "...                     ...   \n",
       "960960  2021-05-06 00:02:57   \n",
       "960961  2021-05-06 00:02:55   \n",
       "960962  2021-05-06 00:02:43   \n",
       "960963  2021-05-06 00:02:38   \n",
       "960964  2021-05-06 00:00:46   \n",
       "\n",
       "                                                 selftext  \\\n",
       "0                                                    None   \n",
       "1                                             [removed]\\n   \n",
       "2                                                    None   \n",
       "3                                             [removed]\\n   \n",
       "4                                             [deleted]\\n   \n",
       "...                                                   ...   \n",
       "960960  good evening apes, fellow smooth brains\\nfirst...   \n",
       "960961                                        [deleted]\\n   \n",
       "960962                                        [removed]\\n   \n",
       "960963                                        [deleted]\\n   \n",
       "960964                                        [deleted]\\n   \n",
       "\n",
       "                                                      url  upvote_ratio  ups  \\\n",
       "0                     https://i.redd.it/ytvyk6p47t861.jpg          0.70   11   \n",
       "1       https://www.reddit.com/r/wallstreetbets/commen...          1.00    1   \n",
       "2                     https://i.redd.it/if5ewo146t861.jpg          1.00    1   \n",
       "3       https://www.reddit.com/r/wallstreetbets/commen...          0.71   12   \n",
       "4                     https://i.redd.it/bigbcmck5t861.jpg          1.00    1   \n",
       "...                                                   ...           ...  ...   \n",
       "960960  https://www.reddit.com/r/wallstreetbets/commen...          0.78   44   \n",
       "960961                https://i.redd.it/l0729o9g5ex61.png          0.57    2   \n",
       "960962  https://www.reddit.com/r/wallstreetbets/commen...          0.48    0   \n",
       "960963                https://i.redd.it/f2up498f5ex61.jpg          0.33    0   \n",
       "960964              https://www.reddit.com/gallery/n5ucbx          1.00    1   \n",
       "\n",
       "        total_awards_received  num_comments  num_crossposts  is_self  \\\n",
       "0                           0            15               0    False   \n",
       "1                           0             0               0     True   \n",
       "2                           0             0               0    False   \n",
       "3                           0            15               0     True   \n",
       "4                           0             0               0    False   \n",
       "...                       ...           ...             ...      ...   \n",
       "960960                     10            54               0     True   \n",
       "960961                      0             1               0    False   \n",
       "960962                      0            11               0     True   \n",
       "960963                      0             1               0    False   \n",
       "960964                      0             1               0    False   \n",
       "\n",
       "        is_video  media_only      id   created_utc  \\\n",
       "0          False       False  kom7tp  1.609545e+09   \n",
       "1          False       False  kom59t  1.609545e+09   \n",
       "2          False       False  kom3zp  1.609545e+09   \n",
       "3          False       False  kom3oq  1.609545e+09   \n",
       "4          False       False  kom1z8  1.609545e+09   \n",
       "...          ...         ...     ...           ...   \n",
       "960960     False       False  n5udz9  1.620259e+09   \n",
       "960961     False       False  n5udy3  1.620259e+09   \n",
       "960962     False       False  n5udsv  1.620259e+09   \n",
       "960963     False       False  n5udq9  1.620259e+09   \n",
       "960964     False       False  n5ucbx  1.620259e+09   \n",
       "\n",
       "                                            selftext_html author_fullname  \n",
       "0                                                    None     t2_5o7wfxis  \n",
       "1       <!-- SC_OFF --><div class=\"md\"><p>[removed]</p...             NaN  \n",
       "2                                                    None        t2_dwidc  \n",
       "3       <!-- SC_OFF --><div class=\"md\"><p>[removed]</p...      t2_cyikut2  \n",
       "4       <!-- SC_OFF --><div class=\"md\"><p>[deleted]</p...             NaN  \n",
       "...                                                   ...             ...  \n",
       "960960  <!-- SC_OFF --><div class=\"md\"><p>good evening...     t2_4p2nwfnu  \n",
       "960961  <!-- SC_OFF --><div class=\"md\"><p>[deleted]</p...             NaN  \n",
       "960962  <!-- SC_OFF --><div class=\"md\"><p>[removed]</p...     t2_7hzx72of  \n",
       "960963  <!-- SC_OFF --><div class=\"md\"><p>[deleted]</p...             NaN  \n",
       "960964  <!-- SC_OFF --><div class=\"md\"><p>[deleted]</p...             NaN  \n",
       "\n",
       "[960965 rows x 17 columns]"
      ]
     },
     "execution_count": 7,
     "metadata": {},
     "output_type": "execute_result"
    }
   ],
   "source": [
    "wsb = pd.read_pickle('../wsb_cleaned.pkl')\n",
    "wsb\n"
   ]
  },
  {
   "cell_type": "code",
   "execution_count": 17,
   "metadata": {},
   "outputs": [
    {
     "data": {
      "text/html": [
       "<div>\n",
       "<style scoped>\n",
       "    .dataframe tbody tr th:only-of-type {\n",
       "        vertical-align: middle;\n",
       "    }\n",
       "\n",
       "    .dataframe tbody tr th {\n",
       "        vertical-align: top;\n",
       "    }\n",
       "\n",
       "    .dataframe thead th {\n",
       "        text-align: right;\n",
       "    }\n",
       "</style>\n",
       "<table border=\"1\" class=\"dataframe\">\n",
       "  <thead>\n",
       "    <tr style=\"text-align: right;\">\n",
       "      <th></th>\n",
       "      <th>title</th>\n",
       "      <th>author</th>\n",
       "      <th>created_datetime_utc</th>\n",
       "      <th>selftext</th>\n",
       "      <th>url</th>\n",
       "      <th>upvote_ratio</th>\n",
       "      <th>ups</th>\n",
       "      <th>total_awards_received</th>\n",
       "      <th>num_comments</th>\n",
       "      <th>num_crossposts</th>\n",
       "      <th>is_self</th>\n",
       "      <th>is_video</th>\n",
       "      <th>media_only</th>\n",
       "      <th>id</th>\n",
       "      <th>created_utc</th>\n",
       "      <th>selftext_html</th>\n",
       "      <th>author_fullname</th>\n",
       "    </tr>\n",
       "    <tr>\n",
       "      <th>day</th>\n",
       "      <th></th>\n",
       "      <th></th>\n",
       "      <th></th>\n",
       "      <th></th>\n",
       "      <th></th>\n",
       "      <th></th>\n",
       "      <th></th>\n",
       "      <th></th>\n",
       "      <th></th>\n",
       "      <th></th>\n",
       "      <th></th>\n",
       "      <th></th>\n",
       "      <th></th>\n",
       "      <th></th>\n",
       "      <th></th>\n",
       "      <th></th>\n",
       "      <th></th>\n",
       "    </tr>\n",
       "  </thead>\n",
       "  <tbody>\n",
       "    <tr>\n",
       "      <th>Friday</th>\n",
       "      <td>164439</td>\n",
       "      <td>164439</td>\n",
       "      <td>164439</td>\n",
       "      <td>122827</td>\n",
       "      <td>164439</td>\n",
       "      <td>164439</td>\n",
       "      <td>164439</td>\n",
       "      <td>164439</td>\n",
       "      <td>164439</td>\n",
       "      <td>164439</td>\n",
       "      <td>164439</td>\n",
       "      <td>164439</td>\n",
       "      <td>164439</td>\n",
       "      <td>164439</td>\n",
       "      <td>164439</td>\n",
       "      <td>122827</td>\n",
       "      <td>116412</td>\n",
       "    </tr>\n",
       "    <tr>\n",
       "      <th>Monday</th>\n",
       "      <td>124980</td>\n",
       "      <td>124980</td>\n",
       "      <td>124980</td>\n",
       "      <td>90204</td>\n",
       "      <td>124980</td>\n",
       "      <td>124980</td>\n",
       "      <td>124980</td>\n",
       "      <td>124980</td>\n",
       "      <td>124980</td>\n",
       "      <td>124980</td>\n",
       "      <td>124980</td>\n",
       "      <td>124980</td>\n",
       "      <td>124980</td>\n",
       "      <td>124980</td>\n",
       "      <td>124980</td>\n",
       "      <td>90204</td>\n",
       "      <td>88656</td>\n",
       "    </tr>\n",
       "    <tr>\n",
       "      <th>Saturday</th>\n",
       "      <td>80059</td>\n",
       "      <td>80059</td>\n",
       "      <td>80059</td>\n",
       "      <td>60077</td>\n",
       "      <td>80059</td>\n",
       "      <td>80059</td>\n",
       "      <td>80059</td>\n",
       "      <td>80059</td>\n",
       "      <td>80059</td>\n",
       "      <td>80059</td>\n",
       "      <td>80059</td>\n",
       "      <td>80059</td>\n",
       "      <td>80059</td>\n",
       "      <td>80059</td>\n",
       "      <td>80059</td>\n",
       "      <td>60077</td>\n",
       "      <td>55708</td>\n",
       "    </tr>\n",
       "    <tr>\n",
       "      <th>Sunday</th>\n",
       "      <td>65930</td>\n",
       "      <td>65930</td>\n",
       "      <td>65930</td>\n",
       "      <td>48706</td>\n",
       "      <td>65930</td>\n",
       "      <td>65930</td>\n",
       "      <td>65930</td>\n",
       "      <td>65930</td>\n",
       "      <td>65930</td>\n",
       "      <td>65930</td>\n",
       "      <td>65930</td>\n",
       "      <td>65930</td>\n",
       "      <td>65930</td>\n",
       "      <td>65930</td>\n",
       "      <td>65930</td>\n",
       "      <td>48706</td>\n",
       "      <td>45998</td>\n",
       "    </tr>\n",
       "    <tr>\n",
       "      <th>Thursday</th>\n",
       "      <td>261045</td>\n",
       "      <td>261045</td>\n",
       "      <td>261045</td>\n",
       "      <td>193359</td>\n",
       "      <td>261045</td>\n",
       "      <td>261045</td>\n",
       "      <td>261045</td>\n",
       "      <td>261045</td>\n",
       "      <td>261045</td>\n",
       "      <td>261045</td>\n",
       "      <td>261045</td>\n",
       "      <td>261045</td>\n",
       "      <td>261045</td>\n",
       "      <td>261045</td>\n",
       "      <td>261045</td>\n",
       "      <td>193359</td>\n",
       "      <td>195167</td>\n",
       "    </tr>\n",
       "    <tr>\n",
       "      <th>Tuesday</th>\n",
       "      <td>124737</td>\n",
       "      <td>124737</td>\n",
       "      <td>124737</td>\n",
       "      <td>85862</td>\n",
       "      <td>124737</td>\n",
       "      <td>124737</td>\n",
       "      <td>124737</td>\n",
       "      <td>124737</td>\n",
       "      <td>124737</td>\n",
       "      <td>124737</td>\n",
       "      <td>124737</td>\n",
       "      <td>124737</td>\n",
       "      <td>124737</td>\n",
       "      <td>124737</td>\n",
       "      <td>124737</td>\n",
       "      <td>85862</td>\n",
       "      <td>89645</td>\n",
       "    </tr>\n",
       "    <tr>\n",
       "      <th>Wednesday</th>\n",
       "      <td>139775</td>\n",
       "      <td>139775</td>\n",
       "      <td>139775</td>\n",
       "      <td>98999</td>\n",
       "      <td>139775</td>\n",
       "      <td>139775</td>\n",
       "      <td>139775</td>\n",
       "      <td>139775</td>\n",
       "      <td>139775</td>\n",
       "      <td>139775</td>\n",
       "      <td>139775</td>\n",
       "      <td>139775</td>\n",
       "      <td>139775</td>\n",
       "      <td>139775</td>\n",
       "      <td>139775</td>\n",
       "      <td>98999</td>\n",
       "      <td>102857</td>\n",
       "    </tr>\n",
       "  </tbody>\n",
       "</table>\n",
       "</div>"
      ],
      "text/plain": [
       "            title  author  created_datetime_utc  selftext     url  \\\n",
       "day                                                                 \n",
       "Friday     164439  164439                164439    122827  164439   \n",
       "Monday     124980  124980                124980     90204  124980   \n",
       "Saturday    80059   80059                 80059     60077   80059   \n",
       "Sunday      65930   65930                 65930     48706   65930   \n",
       "Thursday   261045  261045                261045    193359  261045   \n",
       "Tuesday    124737  124737                124737     85862  124737   \n",
       "Wednesday  139775  139775                139775     98999  139775   \n",
       "\n",
       "           upvote_ratio     ups  total_awards_received  num_comments  \\\n",
       "day                                                                    \n",
       "Friday           164439  164439                 164439        164439   \n",
       "Monday           124980  124980                 124980        124980   \n",
       "Saturday          80059   80059                  80059         80059   \n",
       "Sunday            65930   65930                  65930         65930   \n",
       "Thursday         261045  261045                 261045        261045   \n",
       "Tuesday          124737  124737                 124737        124737   \n",
       "Wednesday        139775  139775                 139775        139775   \n",
       "\n",
       "           num_crossposts  is_self  is_video  media_only      id  created_utc  \\\n",
       "day                                                                             \n",
       "Friday             164439   164439    164439      164439  164439       164439   \n",
       "Monday             124980   124980    124980      124980  124980       124980   \n",
       "Saturday            80059    80059     80059       80059   80059        80059   \n",
       "Sunday              65930    65930     65930       65930   65930        65930   \n",
       "Thursday           261045   261045    261045      261045  261045       261045   \n",
       "Tuesday            124737   124737    124737      124737  124737       124737   \n",
       "Wednesday          139775   139775    139775      139775  139775       139775   \n",
       "\n",
       "           selftext_html  author_fullname  \n",
       "day                                        \n",
       "Friday            122827           116412  \n",
       "Monday             90204            88656  \n",
       "Saturday           60077            55708  \n",
       "Sunday             48706            45998  \n",
       "Thursday          193359           195167  \n",
       "Tuesday            85862            89645  \n",
       "Wednesday          98999           102857  "
      ]
     },
     "execution_count": 17,
     "metadata": {},
     "output_type": "execute_result"
    }
   ],
   "source": []
  },
  {
   "cell_type": "code",
   "execution_count": 18,
   "metadata": {},
   "outputs": [
    {
     "data": {
      "text/plain": [
       "<AxesSubplot:xlabel='day'>"
      ]
     },
     "execution_count": 18,
     "metadata": {},
     "output_type": "execute_result"
    },
    {
     "data": {
      "image/png": "[encoded data removed]",
      "text/plain": [
       "<Figure size 432x288 with 1 Axes>"
      ]
     },
     "metadata": {
      "needs_background": "light"
     },
     "output_type": "display_data"
    }
   ],
   "source": [
    "day_of_the_week = {0: 'Monday', 1: 'Tuesday', 2: 'Wednesday', 3: 'Thursday', 4: 'Friday', 5: 'Saturday', 6: 'Sunday'}\n",
    "wsb['day'] = wsb['created_datetime_utc'].apply( lambda x :day_of_the_week[x.weekday()] )\n",
    "#wsb.groupby('day').agg('count')\n",
    "wsb.groupby('day').agg('count')['title'].plot(kind = 'bar')\n",
    "# Note that this disagrees with https://www.kaggle.com/sprakshith/beginner-s-guide-to-sentiment-analysis\n",
    "# This could be because of timezone artifacts... \n"
   ]
  },
  {
   "cell_type": "code",
   "execution_count": 39,
   "metadata": {},
   "outputs": [],
   "source": [
    "wsb['weektime'] = wsb['created_datetime_utc'].apply( lambda x : x.weekday()*24 + x.hour)\n",
    "# Gets the number of hours since the start of the week"
   ]
  },
  {
   "cell_type": "code",
   "execution_count": 70,
   "metadata": {
    "scrolled": true
   },
   "outputs": [
    {
     "data": {
      "image/png": "[encoded data removed]",
      "text/plain": [
       "<Figure size 1872x648 with 1 Axes>"
      ]
     },
     "metadata": {
      "needs_background": "light"
     },
     "output_type": "display_data"
    }
   ],
   "source": [
    "\n",
    "fig, ax = plt.subplots(figsize=(26, 9))\n",
    "\n",
    "counted = wsb.groupby('weektime').agg('count')['ups']\n",
    "max_count = max(counted)\n",
    "min_count = min(counted)\n",
    "\n",
    "wsb.groupby('weektime').agg('count')['ups'].plot(ax = ax, kind = 'bar')\n",
    "\n",
    "#adding vertical line for midnight (in utc)\n",
    "for i in range(7):\n",
    "    ax.plot( np.zeros(max_count - min_count) + i*24 ,np.linspace( min_count, max_count, max_count - min_count),color = 'orange',linewidth=2.0)"
   ]
  },
  {
   "cell_type": "code",
   "execution_count": 75,
   "metadata": {},
   "outputs": [
    {
     "data": {
      "text/plain": [
       "'ups'"
      ]
     },
     "execution_count": 75,
     "metadata": {},
     "output_type": "execute_result"
    }
   ],
   "source": [
    "max_count"
   ]
  },
  {
   "cell_type": "code",
   "execution_count": 79,
   "metadata": {},
   "outputs": [
    {
     "data": {
      "image/png": "[encoded data removed]",
      "text/plain": [
       "<Figure size 1872x648 with 1 Axes>"
      ]
     },
     "metadata": {
      "needs_background": "light"
     },
     "output_type": "display_data"
    }
   ],
   "source": [
    "def plot_stat(stat = 'sum'):\n",
    "\n",
    "    fig, ax = plt.subplots(figsize=(26, 9))\n",
    "\n",
    "    agged_df = wsb[wsb.ups >= 2000][['ups', 'weektime']].groupby('weektime').agg(stat)\n",
    "    agged_df.plot(ax = ax, kind = 'bar')\n",
    "\n",
    "    max_count = max(agged_df['ups'])\n",
    "    min_count = min(agged_df['ups'])\n",
    "    num = int(max_count - min_count)\n",
    "    #adding vertical line for midnight (in utc)\n",
    "    for i in range(7):\n",
    "        ax.plot( np.zeros(num) + i*24 ,np.linspace( min_count, max_count,num),color = 'orange',linewidth=2.0)\n",
    "\n",
    "plot_stat('sum')\n",
    "    \n",
    "# There's a clear periodicity, but how much of this is due just to the periodicity in the number of posts..."
   ]
  },
  {
   "cell_type": "code",
   "execution_count": 81,
   "metadata": {
    "scrolled": true
   },
   "outputs": [
    {
     "data": {
      "image/png": "[encoded data removed]",
      "text/plain": [
       "<Figure size 1872x648 with 1 Axes>"
      ]
     },
     "metadata": {
      "needs_background": "light"
     },
     "output_type": "display_data"
    }
   ],
   "source": [
    "plot_stat('mean')\n",
    "  "
   ]
  },
  {
   "cell_type": "code",
   "execution_count": 83,
   "metadata": {},
   "outputs": [
    {
     "data": {
      "image/png": "[encoded data removed]",
      "text/plain": [
       "<Figure size 1872x648 with 1 Axes>"
      ]
     },
     "metadata": {
      "needs_background": "light"
     },
     "output_type": "display_data"
    }
   ],
   "source": [
    "plot_stat('std')\n",
    "  "
   ]
  },
  {
   "cell_type": "code",
   "execution_count": 3,
   "metadata": {},
   "outputs": [],
   "source": [
    "regex = re.compile('[^a-zA-Z ]')\n",
    "\n",
    "for col in ['title', 'author', 'selftext']:\n",
    "    wsb[col] = wsb[col].apply(lambda x : regex.sub('', str(x) ))"
   ]
  },
  {
   "cell_type": "code",
   "execution_count": 9,
   "metadata": {
    "scrolled": true
   },
   "outputs": [],
   "source": [
    "# wsb_text = wsb[(wsb[\"selftext\"] == True) & ( wsb.ups >= 200)]\n",
    "#corpus = list( wsb_text[\"self_text\"])\n",
    "#https://scikit-learn.org/stable/modules/generated/sklearn.feature_extraction.text.CountVectorizer.html\n",
    "#https://scikit-learn.org/stable/tutorial/text_analytics/working_with_text_data.html\n",
    "\n"
   ]
  },
  {
   "cell_type": "code",
   "execution_count": null,
   "metadata": {},
   "outputs": [],
   "source": []
  },
  {
   "cell_type": "code",
   "execution_count": 88,
   "metadata": {},
   "outputs": [
    {
     "name": "stdout",
     "output_type": "stream",
     "text": [
      "960965\n"
     ]
    }
   ],
   "source": [
    "\n",
    "#print(vectorizer.get_feature_names())"
   ]
  },
  {
   "cell_type": "code",
   "execution_count": 122,
   "metadata": {
    "scrolled": true
   },
   "outputs": [
    {
     "name": "stdout",
     "output_type": "stream",
     "text": [
      "41939\n"
     ]
    }
   ],
   "source": [
    "wsb['ignored'] = wsb['ups'] <= 100\n",
    "df = wsb #[ wsb['ups'] >= 20]\n",
    "print(sum(wsb['ignored']))\n"
   ]
  },
  {
   "cell_type": "code",
   "execution_count": 149,
   "metadata": {
    "scrolled": true
   },
   "outputs": [
    {
     "name": "stdout",
     "output_type": "stream",
     "text": [
      "60298\n"
     ]
    },
    {
     "data": {
      "text/plain": [
       "960965"
      ]
     },
     "execution_count": 149,
     "metadata": {},
     "output_type": "execute_result"
    }
   ],
   "source": [
    "print(len(wsb[wsb['ups'] >= 20]))\n",
    "len(wsb)"
   ]
  },
  {
   "cell_type": "code",
   "execution_count": 142,
   "metadata": {},
   "outputs": [
    {
     "data": {
      "text/plain": [
       "<AxesSubplot:ylabel='Frequency'>"
      ]
     },
     "execution_count": 142,
     "metadata": {},
     "output_type": "execute_result"
    },
    {
     "data": {
      "image/png": "[encoded data removed]",
      "text/plain": [
       "<Figure size 432x288 with 1 Axes>"
      ]
     },
     "metadata": {
      "needs_background": "light"
     },
     "output_type": "display_data"
    }
   ],
   "source": [
    "wsb[wsb['ups'] >= 100]['upvote_ratio'].plot( kind = 'hist', bins = 100)\n",
    "# Have to filter out the ignored posts , which are the vast majority.\n",
    "# This distribution roughly makes sense... since heavily downvoted posts don't get seen."
   ]
  },
  {
   "cell_type": "code",
   "execution_count": 134,
   "metadata": {},
   "outputs": [
    {
     "name": "stdout",
     "output_type": "stream",
     "text": [
      "1.0\n"
     ]
    }
   ],
   "source": [
    "wsb['unpopular'] = wsb['upvote_ratio'] <= 1\n",
    "wsb_noticed = wsb[~wsb['ignored']]\n",
    "df = wsb_noticed #[ wsb['ups'] >= 20]\n",
    "print(sum(wsb_noticed['unpopular'])/len(wsb_noticed))\n"
   ]
  },
  {
   "cell_type": "code",
   "execution_count": null,
   "metadata": {},
   "outputs": [],
   "source": [
    "\n",
    "corpus = list(df[\"title\"])\n",
    "vectorizer = CountVectorizer()\n",
    "X = vectorizer.fit_transform(corpus)"
   ]
  },
  {
   "cell_type": "code",
   "execution_count": 127,
   "metadata": {},
   "outputs": [
    {
     "name": "stdout",
     "output_type": "stream",
     "text": [
      "correct prediction ratio: 0.9588860422251458\n",
      "compare 0.033094938983576176\n"
     ]
    },
    {
     "data": {
      "text/plain": [
       "array([[290658,   2584],\n",
       "       [  9885,    152]], dtype=int64)"
      ]
     },
     "execution_count": 127,
     "metadata": {},
     "output_type": "execute_result"
    }
   ],
   "source": [
    "import sklearn.naive_bayes as NB\n",
    "\n",
    "y = df.unpopular\n",
    "\n",
    "X_train, X_test, y_train, y_test = train_test_split(X, y, test_size=0.33, random_state=46)\n",
    "\n",
    "\n",
    "clf = NB.BernoulliNB().fit(X = X_train, y = y_train)\n",
    "\n",
    "preds = clf.predict(X_test)\n",
    "print( \"correct prediction ratio:\" , sum ( preds == y_test) / len(y_test))\n",
    "\n",
    "#results = pd.DataFrame()\n",
    "#results[\"predicted\"] = clf.predict(X_test)\n",
    "#results[\"true\"] = list(y_test)\n",
    "#sns.scatterplot(data = results, x = \"predicted\", y = \"true\")\n",
    "\n",
    "print( \"compare\" , sum(y_test)/len(y_test))\n",
    "\n",
    "from sklearn.metrics import confusion_matrix\n",
    "confusion_matrix(y_test, preds)"
   ]
  },
  {
   "cell_type": "code",
   "execution_count": 5,
   "metadata": {},
   "outputs": [
    {
     "data": {
      "text/plain": [
       "<AxesSubplot:xlabel='predicted', ylabel='true'>"
      ]
     },
     "execution_count": 5,
     "metadata": {},
     "output_type": "execute_result"
    },
    {
     "data": {
      "image/png": "[encoded data removed]",
      "text/plain": [
       "<Figure size 432x288 with 1 Axes>"
      ]
     },
     "metadata": {
      "needs_background": "light"
     },
     "output_type": "display_data"
    }
   ],
   "source": [
    "\n",
    "\n",
    "# y = list(map ( lambda x : sigmoid(x)  , wsb.upvote_ratio))\n",
    "y = df.ups\n",
    "\n",
    "X_train, X_test, y_train, y_test = train_test_split(X, y, test_size=0.33, random_state=46)\n",
    "\n",
    "\n",
    "clf = sklm.Lasso().fit(X_train, y_train)\n",
    "\n",
    "results = pd.DataFrame()\n",
    "\n",
    "results[\"predicted\"] = clf.predict(X_test)\n",
    "results[\"true\"] = list(y_test)\n",
    "sns.scatterplot(data = results, x = \"predicted\", y = \"true\")\n"
   ]
  },
  {
   "cell_type": "code",
   "execution_count": 151,
   "metadata": {},
   "outputs": [],
   "source": []
  },
  {
   "cell_type": "code",
   "execution_count": null,
   "metadata": {},
   "outputs": [],
   "source": []
  },
  {
   "cell_type": "code",
   "execution_count": 150,
   "metadata": {},
   "outputs": [
    {
     "data": {
      "text/plain": [
       "36941    7\n",
       "38176    1\n",
       "16550    1\n",
       "20341    1\n",
       "99534    1\n",
       "        ..\n",
       "38007    1\n",
       "89018    1\n",
       "33071    1\n",
       "67360    1\n",
       "15648    1\n",
       "Name: ups, Length: 482981, dtype: int64"
      ]
     },
     "execution_count": 150,
     "metadata": {},
     "output_type": "execute_result"
    }
   ],
   "source": []
  },
  {
   "cell_type": "code",
   "execution_count": 6,
   "metadata": {},
   "outputs": [],
   "source": [
    "#"
   ]
  },
  {
   "cell_type": "code",
   "execution_count": 87,
   "metadata": {},
   "outputs": [],
   "source": [
    "#https://scikit-learn.org/stable/modules/generated/sklearn.feature_extraction.text.CountVectorizer.html\n",
    "\n",
    "vectorizer = CountVectorizer()\n",
    "X = vectorizer.fit_transform(corpus)\n",
    "#print(vectorizer.get_feature_names())"
   ]
  },
  {
   "cell_type": "code",
   "execution_count": 86,
   "metadata": {},
   "outputs": [],
   "source": [
    "\n",
    "#print(vectorizer2.get_feature_names())"
   ]
  },
  {
   "cell_type": "code",
   "execution_count": 89,
   "metadata": {},
   "outputs": [],
   "source": [
    "from sklearn.feature_extraction.text import TfidfTransformer\n",
    "\n",
    "\n",
    "from sklearn.pipeline import Pipeline\n",
    "text_clf = Pipeline([\n",
    "    ('vect', CountVectorizer()),\n",
    "    ('tfidf', TfidfTransformer()),\n",
    "    ('clf', LinearRegression()),\n",
    "])"
   ]
  },
  {
   "cell_type": "code",
   "execution_count": 113,
   "metadata": {},
   "outputs": [],
   "source": [
    "#https://scikit-learn.org/stable/tutorial/text_analytics/working_with_text_data.html\n",
    "from sklearn.model_selection import train_test_split\n",
    "from sklearn.linear_model import LinearRegression\n",
    "import numpy as np\n",
    "\n",
    "def sigmoid(x):\n",
    "    return 1/ ( 1 + np.exp(-x))\n",
    "\n",
    "y = list(map ( lambda x : sigmoid(x)  , wsb_text.upvote_ratio))\n",
    "X_train, X_test, y_train, y_test = train_test_split(X2.toarray(), y, test_size=0.33, random_state=42)\n",
    "\n",
    "\n",
    "clf = LinearRegression(positive=True).fit(X_train, y_train)\n"
   ]
  },
  {
   "cell_type": "code",
   "execution_count": 116,
   "metadata": {},
   "outputs": [
    {
     "data": {
      "text/plain": [
       "<AxesSubplot:xlabel='predicted', ylabel='true'>"
      ]
     },
     "execution_count": 116,
     "metadata": {},
     "output_type": "execute_result"
    },
    {
     "data": {
      "image/png": "[encoded data removed]",
      "text/plain": [
       "<Figure size 432x288 with 1 Axes>"
      ]
     },
     "metadata": {
      "needs_background": "light"
     },
     "output_type": "display_data"
    }
   ],
   "source": [
    "\n",
    "results = pd.DataFrame()\n",
    "results[\"predicted\"] = clf.predict(X_test)\n",
    "results[\"true\"] = y_test\n",
    "sns.scatterplot(data = results, x = \"predicted\", y = \"true\")\n"
   ]
  },
  {
   "cell_type": "code",
   "execution_count": 106,
   "metadata": {},
   "outputs": [
    {
     "data": {
      "text/plain": [
       "count     4992.000000\n",
       "mean        18.896635\n",
       "std        323.637532\n",
       "min          0.000000\n",
       "25%          1.000000\n",
       "50%          1.000000\n",
       "75%          1.000000\n",
       "max      19066.000000\n",
       "Name: score, dtype: float64"
      ]
     },
     "execution_count": 106,
     "metadata": {},
     "output_type": "execute_result"
    }
   ],
   "source": [
    "wsb_text.score.describe()"
   ]
  },
  {
   "cell_type": "code",
   "execution_count": null,
   "metadata": {},
   "outputs": [],
   "source": [
    "fig, ax = plt.subplots(figsize = (5,5))"
   ]
  },
  {
   "cell_type": "code",
   "execution_count": 160,
   "metadata": {},
   "outputs": [
    {
     "data": {
      "text/plain": [
       "<seaborn.axisgrid.FacetGrid at 0x24d6800f760>"
      ]
     },
     "execution_count": 160,
     "metadata": {},
     "output_type": "execute_result"
    },
    {
     "data": {
      "image/png": "[encoded data removed]",
      "text/plain": [
       "<Figure size 360x360 with 1 Axes>"
      ]
     },
     "metadata": {
      "needs_background": "light"
     },
     "output_type": "display_data"
    }
   ],
   "source": [
    "\n",
    "sns.lmplot(data = wsb, x = 'num_comments', y = 'ups')"
   ]
  },
  {
   "cell_type": "code",
   "execution_count": 158,
   "metadata": {},
   "outputs": [
    {
     "data": {
      "text/plain": [
       "<seaborn.axisgrid.FacetGrid at 0x24d604f0520>"
      ]
     },
     "execution_count": 158,
     "metadata": {},
     "output_type": "execute_result"
    },
    {
     "data": {
      "image/png": "[encoded data removed]",
      "text/plain": [
       "<Figure size 360x360 with 1 Axes>"
      ]
     },
     "metadata": {
      "needs_background": "light"
     },
     "output_type": "display_data"
    }
   ],
   "source": [
    "sns.lmplot(data = wsb[wsb.ups >= 20], x = 'num_comments', y = 'ups')"
   ]
  },
  {
   "cell_type": "code",
   "execution_count": 163,
   "metadata": {},
   "outputs": [
    {
     "ename": "KeyError",
     "evalue": "\"['total_awards'] not in index\"",
     "output_type": "error",
     "traceback": [
      "\u001b[1;31m---------------------------------------------------------------------------\u001b[0m",
      "\u001b[1;31mKeyError\u001b[0m                                  Traceback (most recent call last)",
      "\u001b[1;32m<ipython-input-163-7788ee239901>\u001b[0m in \u001b[0;36m<module>\u001b[1;34m\u001b[0m\n\u001b[1;32m----> 1\u001b[1;33m \u001b[0msns\u001b[0m\u001b[1;33m.\u001b[0m\u001b[0mpairplot\u001b[0m\u001b[1;33m(\u001b[0m\u001b[0mdata\u001b[0m \u001b[1;33m=\u001b[0m \u001b[0mwsb\u001b[0m\u001b[1;33m[\u001b[0m\u001b[0mwsb\u001b[0m\u001b[1;33m.\u001b[0m\u001b[0mups\u001b[0m \u001b[1;33m>=\u001b[0m \u001b[1;36m20\u001b[0m\u001b[1;33m]\u001b[0m\u001b[1;33m[\u001b[0m\u001b[1;33m[\u001b[0m \u001b[1;34m'num_comments'\u001b[0m\u001b[1;33m,\u001b[0m  \u001b[1;34m'ups'\u001b[0m\u001b[1;33m,\u001b[0m \u001b[1;34m'total_awards'\u001b[0m\u001b[1;33m]\u001b[0m\u001b[1;33m]\u001b[0m\u001b[1;33m)\u001b[0m\u001b[1;33m\u001b[0m\u001b[1;33m\u001b[0m\u001b[0m\n\u001b[0m",
      "\u001b[1;32m~\\anaconda3\\envs\\Erdos_Institute\\lib\\site-packages\\pandas\\core\\frame.py\u001b[0m in \u001b[0;36m__getitem__\u001b[1;34m(self, key)\u001b[0m\n\u001b[0;32m   3028\u001b[0m             \u001b[1;32mif\u001b[0m \u001b[0mis_iterator\u001b[0m\u001b[1;33m(\u001b[0m\u001b[0mkey\u001b[0m\u001b[1;33m)\u001b[0m\u001b[1;33m:\u001b[0m\u001b[1;33m\u001b[0m\u001b[1;33m\u001b[0m\u001b[0m\n\u001b[0;32m   3029\u001b[0m                 \u001b[0mkey\u001b[0m \u001b[1;33m=\u001b[0m \u001b[0mlist\u001b[0m\u001b[1;33m(\u001b[0m\u001b[0mkey\u001b[0m\u001b[1;33m)\u001b[0m\u001b[1;33m\u001b[0m\u001b[1;33m\u001b[0m\u001b[0m\n\u001b[1;32m-> 3030\u001b[1;33m             \u001b[0mindexer\u001b[0m \u001b[1;33m=\u001b[0m \u001b[0mself\u001b[0m\u001b[1;33m.\u001b[0m\u001b[0mloc\u001b[0m\u001b[1;33m.\u001b[0m\u001b[0m_get_listlike_indexer\u001b[0m\u001b[1;33m(\u001b[0m\u001b[0mkey\u001b[0m\u001b[1;33m,\u001b[0m \u001b[0maxis\u001b[0m\u001b[1;33m=\u001b[0m\u001b[1;36m1\u001b[0m\u001b[1;33m,\u001b[0m \u001b[0mraise_missing\u001b[0m\u001b[1;33m=\u001b[0m\u001b[1;32mTrue\u001b[0m\u001b[1;33m)\u001b[0m\u001b[1;33m[\u001b[0m\u001b[1;36m1\u001b[0m\u001b[1;33m]\u001b[0m\u001b[1;33m\u001b[0m\u001b[1;33m\u001b[0m\u001b[0m\n\u001b[0m\u001b[0;32m   3031\u001b[0m \u001b[1;33m\u001b[0m\u001b[0m\n\u001b[0;32m   3032\u001b[0m         \u001b[1;31m# take() does not accept boolean indexers\u001b[0m\u001b[1;33m\u001b[0m\u001b[1;33m\u001b[0m\u001b[1;33m\u001b[0m\u001b[0m\n",
      "\u001b[1;32m~\\anaconda3\\envs\\Erdos_Institute\\lib\\site-packages\\pandas\\core\\indexing.py\u001b[0m in \u001b[0;36m_get_listlike_indexer\u001b[1;34m(self, key, axis, raise_missing)\u001b[0m\n\u001b[0;32m   1264\u001b[0m             \u001b[0mkeyarr\u001b[0m\u001b[1;33m,\u001b[0m \u001b[0mindexer\u001b[0m\u001b[1;33m,\u001b[0m \u001b[0mnew_indexer\u001b[0m \u001b[1;33m=\u001b[0m \u001b[0max\u001b[0m\u001b[1;33m.\u001b[0m\u001b[0m_reindex_non_unique\u001b[0m\u001b[1;33m(\u001b[0m\u001b[0mkeyarr\u001b[0m\u001b[1;33m)\u001b[0m\u001b[1;33m\u001b[0m\u001b[1;33m\u001b[0m\u001b[0m\n\u001b[0;32m   1265\u001b[0m \u001b[1;33m\u001b[0m\u001b[0m\n\u001b[1;32m-> 1266\u001b[1;33m         \u001b[0mself\u001b[0m\u001b[1;33m.\u001b[0m\u001b[0m_validate_read_indexer\u001b[0m\u001b[1;33m(\u001b[0m\u001b[0mkeyarr\u001b[0m\u001b[1;33m,\u001b[0m \u001b[0mindexer\u001b[0m\u001b[1;33m,\u001b[0m \u001b[0maxis\u001b[0m\u001b[1;33m,\u001b[0m \u001b[0mraise_missing\u001b[0m\u001b[1;33m=\u001b[0m\u001b[0mraise_missing\u001b[0m\u001b[1;33m)\u001b[0m\u001b[1;33m\u001b[0m\u001b[1;33m\u001b[0m\u001b[0m\n\u001b[0m\u001b[0;32m   1267\u001b[0m         \u001b[1;32mreturn\u001b[0m \u001b[0mkeyarr\u001b[0m\u001b[1;33m,\u001b[0m \u001b[0mindexer\u001b[0m\u001b[1;33m\u001b[0m\u001b[1;33m\u001b[0m\u001b[0m\n\u001b[0;32m   1268\u001b[0m \u001b[1;33m\u001b[0m\u001b[0m\n",
      "\u001b[1;32m~\\anaconda3\\envs\\Erdos_Institute\\lib\\site-packages\\pandas\\core\\indexing.py\u001b[0m in \u001b[0;36m_validate_read_indexer\u001b[1;34m(self, key, indexer, axis, raise_missing)\u001b[0m\n\u001b[0;32m   1314\u001b[0m             \u001b[1;32mif\u001b[0m \u001b[0mraise_missing\u001b[0m\u001b[1;33m:\u001b[0m\u001b[1;33m\u001b[0m\u001b[1;33m\u001b[0m\u001b[0m\n\u001b[0;32m   1315\u001b[0m                 \u001b[0mnot_found\u001b[0m \u001b[1;33m=\u001b[0m \u001b[0mlist\u001b[0m\u001b[1;33m(\u001b[0m\u001b[0mset\u001b[0m\u001b[1;33m(\u001b[0m\u001b[0mkey\u001b[0m\u001b[1;33m)\u001b[0m \u001b[1;33m-\u001b[0m \u001b[0mset\u001b[0m\u001b[1;33m(\u001b[0m\u001b[0max\u001b[0m\u001b[1;33m)\u001b[0m\u001b[1;33m)\u001b[0m\u001b[1;33m\u001b[0m\u001b[1;33m\u001b[0m\u001b[0m\n\u001b[1;32m-> 1316\u001b[1;33m                 \u001b[1;32mraise\u001b[0m \u001b[0mKeyError\u001b[0m\u001b[1;33m(\u001b[0m\u001b[1;34mf\"{not_found} not in index\"\u001b[0m\u001b[1;33m)\u001b[0m\u001b[1;33m\u001b[0m\u001b[1;33m\u001b[0m\u001b[0m\n\u001b[0m\u001b[0;32m   1317\u001b[0m \u001b[1;33m\u001b[0m\u001b[0m\n\u001b[0;32m   1318\u001b[0m             \u001b[0mnot_found\u001b[0m \u001b[1;33m=\u001b[0m \u001b[0mkey\u001b[0m\u001b[1;33m[\u001b[0m\u001b[0mmissing_mask\u001b[0m\u001b[1;33m]\u001b[0m\u001b[1;33m\u001b[0m\u001b[1;33m\u001b[0m\u001b[0m\n",
      "\u001b[1;31mKeyError\u001b[0m: \"['total_awards'] not in index\""
     ]
    }
   ],
   "source": [
    "sns.pairplot(data = wsb[wsb.ups >= 20][[ 'num_comments',  'ups', 'total_awards']])"
   ]
  },
  {
   "cell_type": "code",
   "execution_count": null,
   "metadata": {},
   "outputs": [],
   "source": [
    "from sklearn import linear_model\n",
    "\n",
    "X = wsb['num_comments', 'tota']"
   ]
  }
 ],
 "metadata": {
  "kernelspec": {
   "display_name": "Python 3",
   "language": "python",
   "name": "python3"
  },
  "language_info": {
   "codemirror_mode": {
    "name": "ipython",
    "version": 3
   },
   "file_extension": ".py",
   "mimetype": "text/x-python",
   "name": "python",
   "nbconvert_exporter": "python",
   "pygments_lexer": "ipython3",
   "version": "3.8.8"
  }
 },
 "nbformat": 4,
 "nbformat_minor": 4
}
