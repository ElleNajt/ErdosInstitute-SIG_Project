{
 "cells": [
  {
   "cell_type": "code",
   "execution_count": 11,
   "id": "003d28cd",
   "metadata": {},
   "outputs": [
    {
     "name": "stderr",
     "output_type": "stream",
     "text": [
      "C:\\Users\\lnajt\\anaconda3\\envs\\ML\\lib\\site-packages\\IPython\\core\\interactiveshell.py:3169: DtypeWarning: Columns (26,32,45,79,82,87,116,117,118,121,122,123,124) have mixed types.Specify dtype option on import or set low_memory=False.\n",
      "  has_raised = await self.run_ast_nodes(code_ast.body, cell_name,\n"
     ]
    }
   ],
   "source": [
    "from edahelper import *\n",
    "\n",
    "wsb_og = pd.read_csv(\"../../../Data/subreddit_WallStreetBets/full.csv\")\n"
   ]
  },
  {
   "cell_type": "code",
   "execution_count": 9,
   "id": "31cd2f0e",
   "metadata": {},
   "outputs": [],
   "source": [
    "import datetime\n",
    "\n",
    "def DataSetup(dfog, exclude_removed=True, drop_na_cols=['title']):\n",
    "    if exclude_removed:\n",
    "        tempdf=dfog.loc[(((dfog.removed_by_category.isnull()))) & ((dfog.is_self==True))]\n",
    "        #tempdf=dfog.loc[(((dfog.removed_by_category.isnull()))) & ((dfog.is_self==True) & ~(dfog[\"title\"].str.contains(\"Thread|thread|Sunday Live Chat|consolidation zone|Containment Zone|Daily Discussion|Daily discussion|Saturday Chat|What Are Your Moves Tomorrow|What Are Your Moves Today|MEGATHREAD\",na=False)))]\n",
    "    else:\n",
    "        tempdf=dfog.loc[dfog.is_self==True]\n",
    "        #tempdf=dfog.loc[((dfog.is_self==True) & ~(dfog[\"title\"].str.contains(\"Thread|thread|Sunday Live Chat|consolidation zone|Containment Zone|Daily Discussion|Daily discussion|Saturday Chat|What Are Your Moves Tomorrow|What Are Your Moves Today|MEGATHREAD\",na=False)))]\n",
    "    tempdf=tempdf.dropna(subset = drop_na_cols)\n",
    "    tempdf['utc']=tempdf.created_utc.apply(lambda x : datetime.datetime.utcfromtimestamp(x))\n",
    "    return tempdf\n",
    "\n",
    "wsb[\"date\"] = wsb[\"created_utc\"].apply(lambda x : datetime.datetime.utcfromtimestamp(x).date() )\n",
    "wsb = DataSetup(wsb)"
   ]
  },
  {
   "cell_type": "code",
   "execution_count": 12,
   "id": "c5a93ddc",
   "metadata": {},
   "outputs": [
    {
     "data": {
      "text/plain": [
       "0.04797272259106819"
      ]
     },
     "execution_count": 12,
     "metadata": {},
     "output_type": "execute_result"
    }
   ],
   "source": [
    "len(wsb)/len(wsb_og)"
   ]
  },
  {
   "cell_type": "code",
   "execution_count": 52,
   "id": "5f3cb6b2",
   "metadata": {},
   "outputs": [
    {
     "data": {
      "text/html": [
       "<div>\n",
       "<style scoped>\n",
       "    .dataframe tbody tr th:only-of-type {\n",
       "        vertical-align: middle;\n",
       "    }\n",
       "\n",
       "    .dataframe tbody tr th {\n",
       "        vertical-align: top;\n",
       "    }\n",
       "\n",
       "    .dataframe thead th {\n",
       "        text-align: right;\n",
       "    }\n",
       "</style>\n",
       "<table border=\"1\" class=\"dataframe\">\n",
       "  <thead>\n",
       "    <tr style=\"text-align: right;\">\n",
       "      <th></th>\n",
       "      <th>title</th>\n",
       "      <th>ups</th>\n",
       "    </tr>\n",
       "  </thead>\n",
       "  <tbody>\n",
       "    <tr>\n",
       "      <th>990859</th>\n",
       "      <td>Good idea to go into banking area?</td>\n",
       "      <td>0</td>\n",
       "    </tr>\n",
       "    <tr>\n",
       "      <th>381353</th>\n",
       "      <td>Do you think that General Motors could follow Tesla in their revolution path on Electric Vehicles ? Pros and Cons please.</td>\n",
       "      <td>0</td>\n",
       "    </tr>\n",
       "    <tr>\n",
       "      <th>381443</th>\n",
       "      <td>DISCORD INVITE LINK INVALID/EXPIRED? Or maybe the group is just full? Does anyone know why? Much appreciated, thanks.</td>\n",
       "      <td>0</td>\n",
       "    </tr>\n",
       "    <tr>\n",
       "      <th>381453</th>\n",
       "      <td>Why is it such a good thing that Chamath is in on GME?????????????????????????????????????????????????</td>\n",
       "      <td>0</td>\n",
       "    </tr>\n",
       "    <tr>\n",
       "      <th>381475</th>\n",
       "      <td>Listen here retards, instead of giving each other gay reddit gold, put the money in a PAC. You need some well bribed politicians in your back pocket for when the SEC comes for you</td>\n",
       "      <td>0</td>\n",
       "    </tr>\n",
       "    <tr>\n",
       "      <th>...</th>\n",
       "      <td>...</td>\n",
       "      <td>...</td>\n",
       "    </tr>\n",
       "    <tr>\n",
       "      <th>529993</th>\n",
       "      <td>DO NOT SELL! Robinhood has blocked the buying of more shares. If you try to sell you will get fucked because who are you going to sell it to if nobody can buy it? They are trying to make you flood the market with sales offers and bring the price down. Dont fall for it!</td>\n",
       "      <td>110134</td>\n",
       "    </tr>\n",
       "    <tr>\n",
       "      <th>484662</th>\n",
       "      <td>Like this post if you are holding!!💎 The real squeeze is yet to happen🚀</td>\n",
       "      <td>139115</td>\n",
       "    </tr>\n",
       "    <tr>\n",
       "      <th>555023</th>\n",
       "      <td>An Open Letter to Melvin Capital, CNBC, Boomers, and WSB</td>\n",
       "      <td>143485</td>\n",
       "    </tr>\n",
       "    <tr>\n",
       "      <th>574376</th>\n",
       "      <td>Can we all take a moment and appreciate the Mods who have grinded through this and held our community together. Thank you.</td>\n",
       "      <td>194994</td>\n",
       "    </tr>\n",
       "    <tr>\n",
       "      <th>528140</th>\n",
       "      <td>CLASS ACTION AGAINST ROBINHOOD. Allowing people to only sell is the definition of market manipulation. A class action must be started, Robinhood has made plenty of money off selling info about our trades to the hedge funds to be able to pay out a little for causing people to loose money now</td>\n",
       "      <td>221943</td>\n",
       "    </tr>\n",
       "  </tbody>\n",
       "</table>\n",
       "<p>60457 rows × 2 columns</p>\n",
       "</div>"
      ],
      "text/plain": [
       "                                                                                                                                                                                                                                                                                                      title  \\\n",
       "990859                                                                                                                                                                                                                                                                   Good idea to go into banking area?   \n",
       "381353                                                                                                                                                                            Do you think that General Motors could follow Tesla in their revolution path on Electric Vehicles ? Pros and Cons please.   \n",
       "381443                                                                                                                                                                                DISCORD INVITE LINK INVALID/EXPIRED? Or maybe the group is just full? Does anyone know why? Much appreciated, thanks.   \n",
       "381453                                                                                                                                                                                               Why is it such a good thing that Chamath is in on GME?????????????????????????????????????????????????   \n",
       "381475                                                                                                                  Listen here retards, instead of giving each other gay reddit gold, put the money in a PAC. You need some well bribed politicians in your back pocket for when the SEC comes for you   \n",
       "...                                                                                                                                                                                                                                                                                                     ...   \n",
       "529993                        DO NOT SELL! Robinhood has blocked the buying of more shares. If you try to sell you will get fucked because who are you going to sell it to if nobody can buy it? They are trying to make you flood the market with sales offers and bring the price down. Dont fall for it!   \n",
       "484662                                                                                                                                                                                                                              Like this post if you are holding!!💎 The real squeeze is yet to happen🚀   \n",
       "555023                                                                                                                                                                                                                                             An Open Letter to Melvin Capital, CNBC, Boomers, and WSB   \n",
       "574376                                                                                                                                                                           Can we all take a moment and appreciate the Mods who have grinded through this and held our community together. Thank you.   \n",
       "528140  CLASS ACTION AGAINST ROBINHOOD. Allowing people to only sell is the definition of market manipulation. A class action must be started, Robinhood has made plenty of money off selling info about our trades to the hedge funds to be able to pay out a little for causing people to loose money now   \n",
       "\n",
       "           ups  \n",
       "990859       0  \n",
       "381353       0  \n",
       "381443       0  \n",
       "381453       0  \n",
       "381475       0  \n",
       "...        ...  \n",
       "529993  110134  \n",
       "484662  139115  \n",
       "555023  143485  \n",
       "574376  194994  \n",
       "528140  221943  \n",
       "\n",
       "[60457 rows x 2 columns]"
      ]
     },
     "execution_count": 52,
     "metadata": {},
     "output_type": "execute_result"
    }
   ],
   "source": [
    "pd.options.display.max_colwidth = 800\n",
    "wsb.sort_values(by = 'ups')[['title', 'ups']]"
   ]
  },
  {
   "cell_type": "markdown",
   "id": "07dd6894",
   "metadata": {},
   "source": [
    "## Score / ups\n",
    "The number of upvotes"
   ]
  },
  {
   "cell_type": "markdown",
   "id": "7cf24463",
   "metadata": {},
   "source": [
    "### The preponderance of ignored submissions\n",
    "\n",
    "One of the first things that is noticeable is that the vast majority of posts have only a handful of upvotes.\n",
    "\n",
    "See for instance the frequency at which different upvote values occur:"
   ]
  },
  {
   "cell_type": "code",
   "execution_count": 44,
   "id": "c576cd6a",
   "metadata": {},
   "outputs": [
    {
     "data": {
      "text/plain": [
       "'abcabcabcabcabcabcabcabcabcabcabcabcabcabcabcabcabcabcabcabcabcabcabcabcabcabcabcabcabcabcabcabcabcabcabcabcabcabcabcabc'"
      ]
     },
     "execution_count": 44,
     "metadata": {},
     "output_type": "execute_result"
    }
   ],
   "source": [
    "40 * \"abc\""
   ]
  },
  {
   "cell_type": "code",
   "execution_count": 22,
   "id": "232f5443",
   "metadata": {},
   "outputs": [
    {
     "data": {
      "text/plain": [
       "0     0.066212\n",
       "1     0.051673\n",
       "3     0.027375\n",
       "5     0.027276\n",
       "7     0.026035\n",
       "6     0.025952\n",
       "4     0.025390\n",
       "8     0.025274\n",
       "9     0.023339\n",
       "2     0.023107\n",
       "10    0.022032\n",
       "11    0.021040\n",
       "13    0.018757\n",
       "12    0.018443\n",
       "14    0.016656\n",
       "15    0.016061\n",
       "16    0.015664\n",
       "18    0.014870\n",
       "17    0.014109\n",
       "20    0.012984\n",
       "Name: ups, dtype: float64"
      ]
     },
     "execution_count": 22,
     "metadata": {},
     "output_type": "execute_result"
    }
   ],
   "source": [
    "wsb.ups.value_counts().head(20)/len(wsb)"
   ]
  },
  {
   "cell_type": "markdown",
   "id": "9488cc81",
   "metadata": {},
   "source": []
  },
  {
   "cell_type": "code",
   "execution_count": 43,
   "id": "d22003aa",
   "metadata": {
    "scrolled": true
   },
   "outputs": [
    {
     "data": {
      "text/plain": [
       "<matplotlib.lines.Line2D at 0x213132003d0>"
      ]
     },
     "execution_count": 43,
     "metadata": {},
     "output_type": "execute_result"
    },
    {
     "data": {
      "image/png": "[encoded data removed]",
      "text/plain": [
       "<Figure size 432x288 with 1 Axes>"
      ]
     },
     "metadata": {
      "needs_background": "light"
     },
     "output_type": "display_data"
    }
   ],
   "source": [
    "pos_only = wsb[wsb.ups > 0]\n",
    "pos_only.ups.apply( lambda x : np.log(x)).hist(bins = 30)\n",
    "plt.axvline(pos_only.ups.apply( lambda x : np.log(x)).max())"
   ]
  },
  {
   "cell_type": "code",
   "execution_count": 39,
   "id": "49dd7447",
   "metadata": {},
   "outputs": [
    {
     "data": {
      "text/plain": [
       "<matplotlib.lines.Line2D at 0x213f90da550>"
      ]
     },
     "execution_count": 39,
     "metadata": {},
     "output_type": "execute_result"
    },
    {
     "data": {
      "image/png": "[encoded data removed]",
      "text/plain": [
       "<Figure size 432x288 with 1 Axes>"
      ]
     },
     "metadata": {
      "needs_background": "light"
     },
     "output_type": "display_data"
    }
   ],
   "source": [
    "pos_only = wsb[wsb.ups > 0].ups#.apply( lambda x : np.log(x))\n",
    "pos_only.hist(bins = 40)\n",
    "plt.axvline(pos_only.max())"
   ]
  },
  {
   "cell_type": "code",
   "execution_count": 31,
   "id": "de40f05b",
   "metadata": {},
   "outputs": [
    {
     "data": {
      "text/plain": [
       "12.310175871130001"
      ]
     },
     "execution_count": 31,
     "metadata": {},
     "output_type": "execute_result"
    }
   ],
   "source": [
    "pos_only.ups.apply( lambda x : np.log(x)).max()"
   ]
  },
  {
   "cell_type": "code",
   "execution_count": 14,
   "id": "7a2dfdec",
   "metadata": {},
   "outputs": [
    {
     "data": {
      "text/plain": [
       "1.0"
      ]
     },
     "execution_count": 14,
     "metadata": {},
     "output_type": "execute_result"
    }
   ],
   "source": [
    "np.log(np.e)"
   ]
  },
  {
   "cell_type": "code",
   "execution_count": 35,
   "id": "73ff469f",
   "metadata": {},
   "outputs": [
    {
     "data": {
      "text/plain": [
       "3.1354942159291497"
      ]
     },
     "execution_count": 35,
     "metadata": {},
     "output_type": "execute_result"
    }
   ],
   "source": [
    "pos_only.ups.apply( lambda x : np.log(x)).median()"
   ]
  },
  {
   "cell_type": "code",
   "execution_count": 16,
   "id": "5bc33904",
   "metadata": {},
   "outputs": [
    {
     "name": "stdout",
     "output_type": "stream",
     "text": [
      "0.7174753637609433\n"
     ]
    },
    {
     "data": {
      "text/plain": [
       "<AxesSubplot:ylabel='Frequency'>"
      ]
     },
     "execution_count": 16,
     "metadata": {},
     "output_type": "execute_result"
    },
    {
     "data": {
      "image/png": "[encoded data removed]",
      "text/plain": [
       "<Figure size 432x288 with 1 Axes>"
      ]
     },
     "metadata": {
      "needs_background": "light"
     },
     "output_type": "display_data"
    }
   ],
   "source": [
    "wsb['log_ups'] = wsb.ups.apply(lambda x : np.log(x))\n",
    "print(len(wsb[wsb.ups == 1])/len(wsb))\n",
    "wsb[wsb.log_ups >= 0].ups.plot(kind = 'hist', bins = 20)"
   ]
  },
  {
   "cell_type": "code",
   "execution_count": null,
   "id": "dcafb923",
   "metadata": {},
   "outputs": [],
   "source": []
  },
  {
   "cell_type": "markdown",
   "id": "6b39fb29",
   "metadata": {},
   "source": [
    "## Upvote ratio\n",
    "\n",
    "Because most of the posts linger around 1 vote, and presumably never get seen, for upvote ratios less than one to become common you have to filter out the never seen posts.\n",
    "\n",
    "Additionally, posts with upvote_ratio < .8 are very rare even after having filtered out the ignored posts."
   ]
  },
  {
   "cell_type": "code",
   "execution_count": 11,
   "id": "5fe3ff76",
   "metadata": {
    "scrolled": true
   },
   "outputs": [
    {
     "data": {
      "text/plain": [
       "<AxesSubplot:ylabel='Frequency'>"
      ]
     },
     "execution_count": 11,
     "metadata": {},
     "output_type": "execute_result"
    },
    {
     "data": {
      "image/png": "[encoded data removed]",
      "text/plain": [
       "<Figure size 432x288 with 1 Axes>"
      ]
     },
     "metadata": {
      "needs_background": "light"
     },
     "output_type": "display_data"
    }
   ],
   "source": [
    "wsb['upvote_ratio'].plot( kind = 'hist', bins = 100)\n"
   ]
  },
  {
   "cell_type": "code",
   "execution_count": 13,
   "id": "964b8d48",
   "metadata": {},
   "outputs": [
    {
     "data": {
      "text/plain": [
       "<AxesSubplot:ylabel='Frequency'>"
      ]
     },
     "execution_count": 13,
     "metadata": {},
     "output_type": "execute_result"
    },
    {
     "data": {
      "image/png": "[encoded data removed]",
      "text/plain": [
       "<Figure size 432x288 with 1 Axes>"
      ]
     },
     "metadata": {
      "needs_background": "light"
     },
     "output_type": "display_data"
    }
   ],
   "source": [
    "wsb[wsb['ups'] >= 20]['upvote_ratio'].plot( kind = 'hist', bins = 100)\n",
    "# This distribution roughly makes sense... since heavily downvoted posts don't get seen."
   ]
  },
  {
   "cell_type": "code",
   "execution_count": 12,
   "id": "3d6e853a",
   "metadata": {},
   "outputs": [
    {
     "data": {
      "text/plain": [
       "<AxesSubplot:ylabel='Frequency'>"
      ]
     },
     "execution_count": 12,
     "metadata": {},
     "output_type": "execute_result"
    },
    {
     "data": {
      "image/png": "[encoded data removed]",
      "text/plain": [
       "<Figure size 432x288 with 1 Axes>"
      ]
     },
     "metadata": {
      "needs_background": "light"
     },
     "output_type": "display_data"
    }
   ],
   "source": [
    "wsb[wsb['ups'] >= 100]['upvote_ratio'].plot( kind = 'hist', bins = 100)\n",
    "# This distribution roughly makes sense... since heavily downvoted posts don't get seen."
   ]
  },
  {
   "cell_type": "markdown",
   "id": "34f03c3e",
   "metadata": {},
   "source": [
    "## Authors\n",
    "\n",
    "Which authors are the most popular? \n",
    "Are there authors that are consistently popular? Or do highly upvoted posts tend to be someones 15 minutes of fame?"
   ]
  },
  {
   "cell_type": "code",
   "execution_count": 22,
   "id": "790c9136",
   "metadata": {},
   "outputs": [
    {
     "data": {
      "text/html": [
       "<div>\n",
       "<style scoped>\n",
       "    .dataframe tbody tr th:only-of-type {\n",
       "        vertical-align: middle;\n",
       "    }\n",
       "\n",
       "    .dataframe tbody tr th {\n",
       "        vertical-align: top;\n",
       "    }\n",
       "\n",
       "    .dataframe thead th {\n",
       "        text-align: right;\n",
       "    }\n",
       "</style>\n",
       "<table border=\"1\" class=\"dataframe\">\n",
       "  <thead>\n",
       "    <tr style=\"text-align: right;\">\n",
       "      <th></th>\n",
       "      <th>ups</th>\n",
       "    </tr>\n",
       "    <tr>\n",
       "      <th>author</th>\n",
       "      <th></th>\n",
       "    </tr>\n",
       "  </thead>\n",
       "  <tbody>\n",
       "    <tr>\n",
       "      <th>None</th>\n",
       "      <td>8718074</td>\n",
       "    </tr>\n",
       "    <tr>\n",
       "      <th>DeepFuckingValue</th>\n",
       "      <td>1551072</td>\n",
       "    </tr>\n",
       "    <tr>\n",
       "      <th>OPINION_IS_UNPOPULAR</th>\n",
       "      <td>1258349</td>\n",
       "    </tr>\n",
       "    <tr>\n",
       "      <th>keenfeed</th>\n",
       "      <td>1051350</td>\n",
       "    </tr>\n",
       "    <tr>\n",
       "      <th>game_stone</th>\n",
       "      <td>743846</td>\n",
       "    </tr>\n",
       "    <tr>\n",
       "      <th>dhiral1994</th>\n",
       "      <td>517203</td>\n",
       "    </tr>\n",
       "    <tr>\n",
       "      <th>SomeGuyInDeutschland</th>\n",
       "      <td>411137</td>\n",
       "    </tr>\n",
       "    <tr>\n",
       "      <th>MIA4real</th>\n",
       "      <td>371842</td>\n",
       "    </tr>\n",
       "    <tr>\n",
       "      <th>jordanpeterson9</th>\n",
       "      <td>348100</td>\n",
       "    </tr>\n",
       "    <tr>\n",
       "      <th>vrweensy</th>\n",
       "      <td>318020</td>\n",
       "    </tr>\n",
       "  </tbody>\n",
       "</table>\n",
       "</div>"
      ],
      "text/plain": [
       "                          ups\n",
       "author                       \n",
       "None                  8718074\n",
       "DeepFuckingValue      1551072\n",
       "OPINION_IS_UNPOPULAR  1258349\n",
       "keenfeed              1051350\n",
       "game_stone             743846\n",
       "dhiral1994             517203\n",
       "SomeGuyInDeutschland   411137\n",
       "MIA4real               371842\n",
       "jordanpeterson9        348100\n",
       "vrweensy               318020"
      ]
     },
     "execution_count": 22,
     "metadata": {},
     "output_type": "execute_result"
    }
   ],
   "source": [
    "total_upvotes = wsb[['author', 'ups']].groupby(\"author\").agg(\"sum\").sort_values(by = 'ups', ascending = False)\n",
    "total_upvotes.head(10)"
   ]
  },
  {
   "cell_type": "code",
   "execution_count": 27,
   "id": "9d677863",
   "metadata": {},
   "outputs": [],
   "source": [
    "median_upvotes = wsb[['author', 'ups']].groupby(\"author\").agg([\"median\", \"count\"]).sort_values(by = ('ups', 'median'), ascending = False)"
   ]
  },
  {
   "cell_type": "code",
   "execution_count": 36,
   "id": "d2abf75c",
   "metadata": {},
   "outputs": [
    {
     "data": {
      "text/html": [
       "<div>\n",
       "<style scoped>\n",
       "    .dataframe tbody tr th:only-of-type {\n",
       "        vertical-align: middle;\n",
       "    }\n",
       "\n",
       "    .dataframe tbody tr th {\n",
       "        vertical-align: top;\n",
       "    }\n",
       "\n",
       "    .dataframe thead tr th {\n",
       "        text-align: left;\n",
       "    }\n",
       "\n",
       "    .dataframe thead tr:last-of-type th {\n",
       "        text-align: right;\n",
       "    }\n",
       "</style>\n",
       "<table border=\"1\" class=\"dataframe\">\n",
       "  <thead>\n",
       "    <tr>\n",
       "      <th></th>\n",
       "      <th colspan=\"2\" halign=\"left\">ups</th>\n",
       "    </tr>\n",
       "    <tr>\n",
       "      <th></th>\n",
       "      <th>median</th>\n",
       "      <th>count</th>\n",
       "    </tr>\n",
       "    <tr>\n",
       "      <th>author</th>\n",
       "      <th></th>\n",
       "      <th></th>\n",
       "    </tr>\n",
       "  </thead>\n",
       "  <tbody>\n",
       "    <tr>\n",
       "      <th>SomeGuyInDeutschland</th>\n",
       "      <td>411137.0</td>\n",
       "      <td>1</td>\n",
       "    </tr>\n",
       "    <tr>\n",
       "      <th>mpwrd</th>\n",
       "      <td>210591.0</td>\n",
       "      <td>1</td>\n",
       "    </tr>\n",
       "    <tr>\n",
       "      <th>84935</th>\n",
       "      <td>209354.0</td>\n",
       "      <td>1</td>\n",
       "    </tr>\n",
       "    <tr>\n",
       "      <th>kampingcarl</th>\n",
       "      <td>162833.0</td>\n",
       "      <td>1</td>\n",
       "    </tr>\n",
       "    <tr>\n",
       "      <th>CockInAClock</th>\n",
       "      <td>140996.0</td>\n",
       "      <td>1</td>\n",
       "    </tr>\n",
       "    <tr>\n",
       "      <th>Bundaga</th>\n",
       "      <td>139455.0</td>\n",
       "      <td>1</td>\n",
       "    </tr>\n",
       "    <tr>\n",
       "      <th>liftingtailsofcats</th>\n",
       "      <td>137862.0</td>\n",
       "      <td>1</td>\n",
       "    </tr>\n",
       "    <tr>\n",
       "      <th>jeepers_sheepers</th>\n",
       "      <td>126138.0</td>\n",
       "      <td>1</td>\n",
       "    </tr>\n",
       "    <tr>\n",
       "      <th>LilHMoney</th>\n",
       "      <td>123084.0</td>\n",
       "      <td>1</td>\n",
       "    </tr>\n",
       "    <tr>\n",
       "      <th>yellow_duck12</th>\n",
       "      <td>120417.0</td>\n",
       "      <td>1</td>\n",
       "    </tr>\n",
       "  </tbody>\n",
       "</table>\n",
       "</div>"
      ],
      "text/plain": [
       "                           ups      \n",
       "                        median count\n",
       "author                              \n",
       "SomeGuyInDeutschland  411137.0     1\n",
       "mpwrd                 210591.0     1\n",
       "84935                 209354.0     1\n",
       "kampingcarl           162833.0     1\n",
       "CockInAClock          140996.0     1\n",
       "Bundaga               139455.0     1\n",
       "liftingtailsofcats    137862.0     1\n",
       "jeepers_sheepers      126138.0     1\n",
       "LilHMoney             123084.0     1\n",
       "yellow_duck12         120417.0     1"
      ]
     },
     "execution_count": 36,
     "metadata": {},
     "output_type": "execute_result"
    }
   ],
   "source": [
    "median_upvotes.head(10)"
   ]
  },
  {
   "cell_type": "markdown",
   "id": "793f358c",
   "metadata": {},
   "source": [
    "I thought SomeGuyInDeutschland had more popular posts than this? (Seems like he did, but before the new year: https://www.reddit.com/user/SomeGuyInDeutschland/posts/ )"
   ]
  },
  {
   "cell_type": "code",
   "execution_count": 35,
   "id": "4c23995b",
   "metadata": {},
   "outputs": [
    {
     "data": {
      "text/html": [
       "<div>\n",
       "<style scoped>\n",
       "    .dataframe tbody tr th:only-of-type {\n",
       "        vertical-align: middle;\n",
       "    }\n",
       "\n",
       "    .dataframe tbody tr th {\n",
       "        vertical-align: top;\n",
       "    }\n",
       "\n",
       "    .dataframe thead tr th {\n",
       "        text-align: left;\n",
       "    }\n",
       "\n",
       "    .dataframe thead tr:last-of-type th {\n",
       "        text-align: right;\n",
       "    }\n",
       "</style>\n",
       "<table border=\"1\" class=\"dataframe\">\n",
       "  <thead>\n",
       "    <tr>\n",
       "      <th></th>\n",
       "      <th colspan=\"4\" halign=\"left\">ups</th>\n",
       "    </tr>\n",
       "    <tr>\n",
       "      <th></th>\n",
       "      <th>sum</th>\n",
       "      <th>count</th>\n",
       "      <th>mean</th>\n",
       "      <th>median</th>\n",
       "    </tr>\n",
       "    <tr>\n",
       "      <th>author</th>\n",
       "      <th></th>\n",
       "      <th></th>\n",
       "      <th></th>\n",
       "      <th></th>\n",
       "    </tr>\n",
       "  </thead>\n",
       "  <tbody>\n",
       "    <tr>\n",
       "      <th>SomeGuyInDeutschland</th>\n",
       "      <td>411137</td>\n",
       "      <td>1</td>\n",
       "      <td>411137.0</td>\n",
       "      <td>411137.0</td>\n",
       "    </tr>\n",
       "    <tr>\n",
       "      <th>mpwrd</th>\n",
       "      <td>210591</td>\n",
       "      <td>1</td>\n",
       "      <td>210591.0</td>\n",
       "      <td>210591.0</td>\n",
       "    </tr>\n",
       "    <tr>\n",
       "      <th>84935</th>\n",
       "      <td>209354</td>\n",
       "      <td>1</td>\n",
       "      <td>209354.0</td>\n",
       "      <td>209354.0</td>\n",
       "    </tr>\n",
       "    <tr>\n",
       "      <th>kampingcarl</th>\n",
       "      <td>162833</td>\n",
       "      <td>1</td>\n",
       "      <td>162833.0</td>\n",
       "      <td>162833.0</td>\n",
       "    </tr>\n",
       "    <tr>\n",
       "      <th>CockInAClock</th>\n",
       "      <td>140996</td>\n",
       "      <td>1</td>\n",
       "      <td>140996.0</td>\n",
       "      <td>140996.0</td>\n",
       "    </tr>\n",
       "    <tr>\n",
       "      <th>Bundaga</th>\n",
       "      <td>139455</td>\n",
       "      <td>1</td>\n",
       "      <td>139455.0</td>\n",
       "      <td>139455.0</td>\n",
       "    </tr>\n",
       "    <tr>\n",
       "      <th>liftingtailsofcats</th>\n",
       "      <td>137862</td>\n",
       "      <td>1</td>\n",
       "      <td>137862.0</td>\n",
       "      <td>137862.0</td>\n",
       "    </tr>\n",
       "    <tr>\n",
       "      <th>jeepers_sheepers</th>\n",
       "      <td>126138</td>\n",
       "      <td>1</td>\n",
       "      <td>126138.0</td>\n",
       "      <td>126138.0</td>\n",
       "    </tr>\n",
       "    <tr>\n",
       "      <th>LilHMoney</th>\n",
       "      <td>123084</td>\n",
       "      <td>1</td>\n",
       "      <td>123084.0</td>\n",
       "      <td>123084.0</td>\n",
       "    </tr>\n",
       "    <tr>\n",
       "      <th>yellow_duck12</th>\n",
       "      <td>120417</td>\n",
       "      <td>1</td>\n",
       "      <td>120417.0</td>\n",
       "      <td>120417.0</td>\n",
       "    </tr>\n",
       "  </tbody>\n",
       "</table>\n",
       "</div>"
      ],
      "text/plain": [
       "                         ups                          \n",
       "                         sum count      mean    median\n",
       "author                                                \n",
       "SomeGuyInDeutschland  411137     1  411137.0  411137.0\n",
       "mpwrd                 210591     1  210591.0  210591.0\n",
       "84935                 209354     1  209354.0  209354.0\n",
       "kampingcarl           162833     1  162833.0  162833.0\n",
       "CockInAClock          140996     1  140996.0  140996.0\n",
       "Bundaga               139455     1  139455.0  139455.0\n",
       "liftingtailsofcats    137862     1  137862.0  137862.0\n",
       "jeepers_sheepers      126138     1  126138.0  126138.0\n",
       "LilHMoney             123084     1  123084.0  123084.0\n",
       "yellow_duck12         120417     1  120417.0  120417.0"
      ]
     },
     "execution_count": 35,
     "metadata": {},
     "output_type": "execute_result"
    }
   ],
   "source": [
    "author_popularity = wsb[[\"author\", \"ups\"]].groupby(\"author\").agg([\"sum\", \"count\", \"mean\", 'median'])\n",
    "author_popularity.sort_values(by = (\"ups\", \"mean\"), ascending = False).head(10)\n",
    "# A lot of the popular posts are one hit wonders..."
   ]
  },
  {
   "cell_type": "code",
   "execution_count": 34,
   "id": "f25fe08b",
   "metadata": {},
   "outputs": [
    {
     "data": {
      "text/html": [
       "<div>\n",
       "<style scoped>\n",
       "    .dataframe tbody tr th:only-of-type {\n",
       "        vertical-align: middle;\n",
       "    }\n",
       "\n",
       "    .dataframe tbody tr th {\n",
       "        vertical-align: top;\n",
       "    }\n",
       "\n",
       "    .dataframe thead tr th {\n",
       "        text-align: left;\n",
       "    }\n",
       "\n",
       "    .dataframe thead tr:last-of-type th {\n",
       "        text-align: right;\n",
       "    }\n",
       "</style>\n",
       "<table border=\"1\" class=\"dataframe\">\n",
       "  <thead>\n",
       "    <tr>\n",
       "      <th></th>\n",
       "      <th colspan=\"4\" halign=\"left\">ups</th>\n",
       "    </tr>\n",
       "    <tr>\n",
       "      <th></th>\n",
       "      <th>sum</th>\n",
       "      <th>count</th>\n",
       "      <th>mean</th>\n",
       "      <th>median</th>\n",
       "    </tr>\n",
       "    <tr>\n",
       "      <th>author</th>\n",
       "      <th></th>\n",
       "      <th></th>\n",
       "      <th></th>\n",
       "      <th></th>\n",
       "    </tr>\n",
       "  </thead>\n",
       "  <tbody>\n",
       "    <tr>\n",
       "      <th>keenfeed</th>\n",
       "      <td>1051350</td>\n",
       "      <td>26</td>\n",
       "      <td>40436.538462</td>\n",
       "      <td>6302.0</td>\n",
       "    </tr>\n",
       "    <tr>\n",
       "      <th>game_stone</th>\n",
       "      <td>743846</td>\n",
       "      <td>16</td>\n",
       "      <td>46490.375000</td>\n",
       "      <td>1418.0</td>\n",
       "    </tr>\n",
       "    <tr>\n",
       "      <th>DeepFuckingValue</th>\n",
       "      <td>1551072</td>\n",
       "      <td>14</td>\n",
       "      <td>110790.857143</td>\n",
       "      <td>87935.0</td>\n",
       "    </tr>\n",
       "    <tr>\n",
       "      <th>bawse1</th>\n",
       "      <td>286204</td>\n",
       "      <td>7</td>\n",
       "      <td>40886.285714</td>\n",
       "      <td>33078.0</td>\n",
       "    </tr>\n",
       "    <tr>\n",
       "      <th>zachp004</th>\n",
       "      <td>253434</td>\n",
       "      <td>5</td>\n",
       "      <td>50686.800000</td>\n",
       "      <td>26280.0</td>\n",
       "    </tr>\n",
       "    <tr>\n",
       "      <th>punkmaster69</th>\n",
       "      <td>164777</td>\n",
       "      <td>4</td>\n",
       "      <td>41194.250000</td>\n",
       "      <td>48778.5</td>\n",
       "    </tr>\n",
       "    <tr>\n",
       "      <th>Fargraven</th>\n",
       "      <td>172713</td>\n",
       "      <td>4</td>\n",
       "      <td>43178.250000</td>\n",
       "      <td>21272.5</td>\n",
       "    </tr>\n",
       "    <tr>\n",
       "      <th>shhaayy</th>\n",
       "      <td>212009</td>\n",
       "      <td>4</td>\n",
       "      <td>53002.250000</td>\n",
       "      <td>8476.5</td>\n",
       "    </tr>\n",
       "    <tr>\n",
       "      <th>IDoLikeMyShishkebabs</th>\n",
       "      <td>221828</td>\n",
       "      <td>4</td>\n",
       "      <td>55457.000000</td>\n",
       "      <td>22353.0</td>\n",
       "    </tr>\n",
       "    <tr>\n",
       "      <th>waaaaaaaaaaaaaaahhhh</th>\n",
       "      <td>148654</td>\n",
       "      <td>4</td>\n",
       "      <td>37163.500000</td>\n",
       "      <td>387.0</td>\n",
       "    </tr>\n",
       "  </tbody>\n",
       "</table>\n",
       "</div>"
      ],
      "text/plain": [
       "                          ups                              \n",
       "                          sum count           mean   median\n",
       "author                                                     \n",
       "keenfeed              1051350    26   40436.538462   6302.0\n",
       "game_stone             743846    16   46490.375000   1418.0\n",
       "DeepFuckingValue      1551072    14  110790.857143  87935.0\n",
       "bawse1                 286204     7   40886.285714  33078.0\n",
       "zachp004               253434     5   50686.800000  26280.0\n",
       "punkmaster69           164777     4   41194.250000  48778.5\n",
       "Fargraven              172713     4   43178.250000  21272.5\n",
       "shhaayy                212009     4   53002.250000   8476.5\n",
       "IDoLikeMyShishkebabs   221828     4   55457.000000  22353.0\n",
       "waaaaaaaaaaaaaaahhhh   148654     4   37163.500000    387.0"
      ]
     },
     "execution_count": 34,
     "metadata": {},
     "output_type": "execute_result"
    }
   ],
   "source": [
    "author_popularity.sort_values(by = (\"ups\", \"mean\"), ascending = False).head(200).sort_values(by = (\"ups\", \"count\"), ascending = False).head(10)"
   ]
  },
  {
   "cell_type": "code",
   "execution_count": null,
   "id": "b3ed7638",
   "metadata": {},
   "outputs": [],
   "source": []
  }
 ],
 "metadata": {
  "kernelspec": {
   "display_name": "Python 3",
   "language": "python",
   "name": "python3"
  },
  "language_info": {
   "codemirror_mode": {
    "name": "ipython",
    "version": 3
   },
   "file_extension": ".py",
   "mimetype": "text/x-python",
   "name": "python",
   "nbconvert_exporter": "python",
   "pygments_lexer": "ipython3",
   "version": "3.8.10"
  }
 },
 "nbformat": 4,
 "nbformat_minor": 5
}
