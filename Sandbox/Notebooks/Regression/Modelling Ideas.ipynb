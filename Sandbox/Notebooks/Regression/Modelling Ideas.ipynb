{
 "cells": [
  {
   "cell_type": "markdown",
   "id": "a4bfb252",
   "metadata": {},
   "source": [
    "\n",
    "1. Author Statistics \n",
    "\n",
    "\n",
    "2. Time features\n",
    "\n",
    "\n",
    "3. NLP features\n",
    "preprocess to figure out important words in the corpus?\n",
    "\n",
    "4. Features of the photo\n",
    "target of link\n",
    "\n",
    "5. Mentions other users?\n",
    "Q: Does w2v learn aliases?\n",
    "\n",
    "New features?\n",
    "Quantifying these features?\n",
    "Combining them?\n",
    "\n",
    "\n",
    "Todo:\n",
    "\n",
    "-- Try on the other subreddits we downloaded.\n",
    "-- Adding more constraints to xgboost / random forest. It's overfitting.\n"
   ]
  },
  {
   "cell_type": "code",
   "execution_count": 3,
   "id": "01fef7af",
   "metadata": {},
   "outputs": [],
   "source": [
    "\n",
    "from sklearn.cluster import KMeans\n",
    "model = KMeans(n_clusters= int(100/10),verbose=1 )"
   ]
  },
  {
   "cell_type": "code",
   "execution_count": 4,
   "id": "5f123947",
   "metadata": {},
   "outputs": [],
   "source": [
    "import numpy as np"
   ]
  },
  {
   "cell_type": "code",
   "execution_count": 7,
   "id": "b875a98d",
   "metadata": {},
   "outputs": [
    {
     "data": {
      "text/plain": [
       "array([[0., 0.],\n",
       "       [0., 0.]])"
      ]
     },
     "execution_count": 7,
     "metadata": {},
     "output_type": "execute_result"
    }
   ],
   "source": [
    "np.zeros(np.asarray([[ 1,2],[3,4]]).shape)"
   ]
  },
  {
   "cell_type": "code",
   "execution_count": null,
   "id": "b8152225",
   "metadata": {},
   "outputs": [],
   "source": []
  }
 ],
 "metadata": {
  "kernelspec": {
   "display_name": "Python 3",
   "language": "python",
   "name": "python3"
  },
  "language_info": {
   "codemirror_mode": {
    "name": "ipython",
    "version": 3
   },
   "file_extension": ".py",
   "mimetype": "text/x-python",
   "name": "python",
   "nbconvert_exporter": "python",
   "pygments_lexer": "ipython3",
   "version": "3.8.8"
  }
 },
 "nbformat": 4,
 "nbformat_minor": 5
}
