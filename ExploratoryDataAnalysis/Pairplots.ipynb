{
 "cells": [
  {
   "cell_type": "code",
   "execution_count": 6,
   "id": "fbb2fb8c",
   "metadata": {},
   "outputs": [],
   "source": [
    "from edahelper import *\n",
    "wsb = pd.read_pickle('../Data/wsb_cleaned.pkl')"
   ]
  },
  {
   "cell_type": "markdown",
   "id": "cdae9e54",
   "metadata": {},
   "source": [
    "## Are there any simple relations between the variables?"
   ]
  },
  {
   "cell_type": "code",
   "execution_count": 7,
   "id": "904c6bb8",
   "metadata": {},
   "outputs": [
    {
     "data": {
      "text/plain": [
       "Index(['title', 'author', 'created_datetime_utc', 'selftext', 'url',\n",
       "       'upvote_ratio', 'ups', 'total_awards_received', 'num_comments',\n",
       "       'num_crossposts', 'is_self', 'is_video', 'media_only', 'id',\n",
       "       'created_utc', 'selftext_html', 'author_fullname'],\n",
       "      dtype='object')"
      ]
     },
     "execution_count": 7,
     "metadata": {},
     "output_type": "execute_result"
    }
   ],
   "source": [
    "wsb.columns"
   ]
  },
  {
   "cell_type": "code",
   "execution_count": null,
   "id": "65bbb161",
   "metadata": {},
   "outputs": [],
   "source": []
  },
  {
   "cell_type": "code",
   "execution_count": null,
   "id": "d0d6e255",
   "metadata": {},
   "outputs": [],
   "source": []
  },
  {
   "cell_type": "code",
   "execution_count": null,
   "id": "f6b20d70",
   "metadata": {},
   "outputs": [],
   "source": [
    "sns.pairplot(data = wsb[wsb.ups >= 20][[ 'num_comments',  'ups', 'total_awards_received', 'num_crossposts']])"
   ]
  },
  {
   "cell_type": "code",
   "execution_count": null,
   "id": "77b801a9",
   "metadata": {},
   "outputs": [],
   "source": []
  }
 ],
 "metadata": {
  "kernelspec": {
   "display_name": "Python 3",
   "language": "python",
   "name": "python3"
  },
  "language_info": {
   "codemirror_mode": {
    "name": "ipython",
    "version": 3
   },
   "file_extension": ".py",
   "mimetype": "text/x-python",
   "name": "python",
   "nbconvert_exporter": "python",
   "pygments_lexer": "ipython3",
   "version": "3.8.8"
  }
 },
 "nbformat": 4,
 "nbformat_minor": 5
}
