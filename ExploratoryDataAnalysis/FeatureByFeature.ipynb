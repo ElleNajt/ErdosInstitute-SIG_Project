{
 "cells": [
  {
   "cell_type": "code",
   "execution_count": 1,
   "id": "5f8905d1",
   "metadata": {},
   "outputs": [],
   "source": [
    "from edahelper import *\n",
    "wsb = pd.read_pickle('../Data/wsb_cleaned.pkl')\n"
   ]
  },
  {
   "cell_type": "markdown",
   "id": "52556035",
   "metadata": {},
   "source": [
    "## Score / ups\n",
    "The number of upvotes"
   ]
  },
  {
   "cell_type": "markdown",
   "id": "f960e3c7",
   "metadata": {},
   "source": [
    "### The preponderance of ignored submissions\n",
    "\n",
    "One of the first things that is noticeable is that the vast majority of posts have only a handful of upvotes.\n",
    "\n",
    "See for instance the frequency at which different upvote values occur:"
   ]
  },
  {
   "cell_type": "code",
   "execution_count": 8,
   "id": "a74b9485",
   "metadata": {},
   "outputs": [
    {
     "data": {
      "text/plain": [
       "1     0.758082\n",
       "0     0.043643\n",
       "2     0.043257\n",
       "3     0.017425\n",
       "4     0.009767\n",
       "5     0.009049\n",
       "6     0.007795\n",
       "7     0.006791\n",
       "8     0.005979\n",
       "9     0.005154\n",
       "10    0.004537\n",
       "11    0.004180\n",
       "12    0.003658\n",
       "13    0.003422\n",
       "14    0.002989\n",
       "15    0.002773\n",
       "16    0.002467\n",
       "17    0.002246\n",
       "18    0.002111\n",
       "19    0.001927\n",
       "Name: ups, dtype: float64"
      ]
     },
     "execution_count": 8,
     "metadata": {},
     "output_type": "execute_result"
    }
   ],
   "source": [
    "wsb.ups.value_counts().head(20)/len(wsb)"
   ]
  },
  {
   "cell_type": "markdown",
   "id": "870d2ab1",
   "metadata": {},
   "source": []
  },
  {
   "cell_type": "code",
   "execution_count": null,
   "id": "5e66921e",
   "metadata": {},
   "outputs": [],
   "source": []
  },
  {
   "cell_type": "code",
   "execution_count": null,
   "id": "e351e968",
   "metadata": {},
   "outputs": [],
   "source": []
  },
  {
   "cell_type": "code",
   "execution_count": null,
   "id": "01d9688f",
   "metadata": {},
   "outputs": [],
   "source": []
  },
  {
   "cell_type": "markdown",
   "id": "79156787",
   "metadata": {},
   "source": [
    "## Upvote ratio\n",
    "\n",
    "Because most of the posts linger around 1 vote, and presumably never get seen, for upvote ratios less than one to become common you have to filter out the never seen posts.\n",
    "\n",
    "Additionally, posts with upvote_ratio < .8 are very rare even after having filtered out the ignored posts."
   ]
  },
  {
   "cell_type": "code",
   "execution_count": 11,
   "id": "603808a0",
   "metadata": {
    "scrolled": true
   },
   "outputs": [
    {
     "data": {
      "text/plain": [
       "<AxesSubplot:ylabel='Frequency'>"
      ]
     },
     "execution_count": 11,
     "metadata": {},
     "output_type": "execute_result"
    },
    {
     "data": {
      "image/png": "[encoded data removed]",
      "text/plain": [
       "<Figure size 432x288 with 1 Axes>"
      ]
     },
     "metadata": {
      "needs_background": "light"
     },
     "output_type": "display_data"
    }
   ],
   "source": [
    "wsb['upvote_ratio'].plot( kind = 'hist', bins = 100)\n"
   ]
  },
  {
   "cell_type": "code",
   "execution_count": 13,
   "id": "216e60dd",
   "metadata": {},
   "outputs": [
    {
     "data": {
      "text/plain": [
       "<AxesSubplot:ylabel='Frequency'>"
      ]
     },
     "execution_count": 13,
     "metadata": {},
     "output_type": "execute_result"
    },
    {
     "data": {
      "image/png": "[encoded data removed]",
      "text/plain": [
       "<Figure size 432x288 with 1 Axes>"
      ]
     },
     "metadata": {
      "needs_background": "light"
     },
     "output_type": "display_data"
    }
   ],
   "source": [
    "wsb[wsb['ups'] >= 20]['upvote_ratio'].plot( kind = 'hist', bins = 100)\n",
    "# This distribution roughly makes sense... since heavily downvoted posts don't get seen."
   ]
  },
  {
   "cell_type": "code",
   "execution_count": 12,
   "id": "45ad65ad",
   "metadata": {},
   "outputs": [
    {
     "data": {
      "text/plain": [
       "<AxesSubplot:ylabel='Frequency'>"
      ]
     },
     "execution_count": 12,
     "metadata": {},
     "output_type": "execute_result"
    },
    {
     "data": {
      "image/png": "[encoded data removed]",
      "text/plain": [
       "<Figure size 432x288 with 1 Axes>"
      ]
     },
     "metadata": {
      "needs_background": "light"
     },
     "output_type": "display_data"
    }
   ],
   "source": [
    "wsb[wsb['ups'] >= 100]['upvote_ratio'].plot( kind = 'hist', bins = 100)\n",
    "# This distribution roughly makes sense... since heavily downvoted posts don't get seen."
   ]
  },
  {
   "cell_type": "code",
   "execution_count": null,
   "id": "feb82f49",
   "metadata": {},
   "outputs": [],
   "source": []
  }
 ],
 "metadata": {
  "kernelspec": {
   "display_name": "Python 3",
   "language": "python",
   "name": "python3"
  },
  "language_info": {
   "codemirror_mode": {
    "name": "ipython",
    "version": 3
   },
   "file_extension": ".py",
   "mimetype": "text/x-python",
   "name": "python",
   "nbconvert_exporter": "python",
   "pygments_lexer": "ipython3",
   "version": "3.8.8"
  }
 },
 "nbformat": 4,
 "nbformat_minor": 5
}
