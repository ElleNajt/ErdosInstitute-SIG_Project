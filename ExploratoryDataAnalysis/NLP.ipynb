{
 "cells": [
  {
   "cell_type": "code",
   "execution_count": 1,
   "id": "fe7691f8",
   "metadata": {},
   "outputs": [],
   "source": [
    "from edahelper import *\n",
    "wsb = pd.read_pickle('../Data/wsb_cleaned.pkl')\n",
    "\n",
    "# wsb_text = wsb[(wsb[\"selftext\"] == True) & ( wsb.ups >= 200)]\n",
    "#corpus = list( wsb_text[\"self_text\"])\n",
    "#https://scikit-learn.org/stable/modules/generated/sklearn.feature_extraction.text.CountVectorizer.html\n",
    "#https://scikit-learn.org/stable/tutorial/text_analytics/working_with_text_data.html\n",
    "\n"
   ]
  },
  {
   "cell_type": "code",
   "execution_count": null,
   "id": "c9d998d7",
   "metadata": {},
   "outputs": [],
   "source": [
    "## Removing characters that are not alphanumeric or spaces\n",
    "\n",
    "regex = re.compile('[^a-zA-Z ]')\n",
    "\n",
    "for col in ['title', 'author', 'selftext']:\n",
    "    wsb[col] = wsb[col].apply(lambda x : regex.sub('', str(x) ))"
   ]
  },
  {
   "cell_type": "code",
   "execution_count": null,
   "id": "fda20634",
   "metadata": {},
   "outputs": [],
   "source": []
  },
  {
   "cell_type": "code",
   "execution_count": null,
   "id": "1b5bf680",
   "metadata": {},
   "outputs": [],
   "source": []
  },
  {
   "cell_type": "code",
   "execution_count": null,
   "id": "60cba0da",
   "metadata": {},
   "outputs": [],
   "source": []
  },
  {
   "cell_type": "code",
   "execution_count": null,
   "id": "d511256d",
   "metadata": {},
   "outputs": [],
   "source": [
    "wsb['unpopular'] = wsb['upvote_ratio'] <= 1\n",
    "wsb_noticed = wsb[~wsb['ignored']]\n",
    "df = wsb_noticed #[ wsb['ups'] >= 20]\n",
    "print(sum(wsb_noticed['unpopular'])/len(wsb_noticed))\n"
   ]
  },
  {
   "cell_type": "code",
   "execution_count": null,
   "id": "197d86a1",
   "metadata": {},
   "outputs": [],
   "source": [
    "\n",
    "corpus = list(df[\"title\"])\n",
    "vectorizer = CountVectorizer()\n",
    "X = vectorizer.fit_transform(corpus)"
   ]
  },
  {
   "cell_type": "code",
   "execution_count": null,
   "id": "476d2f35",
   "metadata": {},
   "outputs": [],
   "source": []
  },
  {
   "cell_type": "code",
   "execution_count": null,
   "id": "0632ab0b",
   "metadata": {},
   "outputs": [],
   "source": []
  },
  {
   "cell_type": "code",
   "execution_count": null,
   "id": "5bd12fb1",
   "metadata": {},
   "outputs": [],
   "source": [
    "import sklearn.naive_bayes as NB\n",
    "\n",
    "y = df.unpopular\n",
    "\n",
    "X_train, X_test, y_train, y_test = train_test_split(X, y, test_size=0.33, random_state=46)\n",
    "\n",
    "\n",
    "clf = NB.BernoulliNB().fit(X = X_train, y = y_train)\n",
    "\n",
    "preds = clf.predict(X_test)\n",
    "print( \"correct prediction ratio:\" , sum ( preds == y_test) / len(y_test))\n",
    "\n",
    "#results = pd.DataFrame()\n",
    "#results[\"predicted\"] = clf.predict(X_test)\n",
    "#results[\"true\"] = list(y_test)\n",
    "#sns.scatterplot(data = results, x = \"predicted\", y = \"true\")\n",
    "\n",
    "print( \"compare\" , sum(y_test)/len(y_test))\n",
    "\n",
    "from sklearn.metrics import confusion_matrix\n",
    "confusion_matrix(y_test, preds)"
   ]
  },
  {
   "cell_type": "code",
   "execution_count": null,
   "id": "6dba2b01",
   "metadata": {},
   "outputs": [],
   "source": []
  },
  {
   "cell_type": "code",
   "execution_count": null,
   "id": "68bd5d07",
   "metadata": {},
   "outputs": [],
   "source": [
    "\n",
    "\n",
    "# y = list(map ( lambda x : sigmoid(x)  , wsb.upvote_ratio))\n",
    "y = df.ups\n",
    "\n",
    "X_train, X_test, y_train, y_test = train_test_split(X, y, test_size=0.33, random_state=46)\n",
    "\n",
    "\n",
    "clf = sklm.Lasso().fit(X_train, y_train)\n",
    "\n",
    "results = pd.DataFrame()\n",
    "\n",
    "results[\"predicted\"] = clf.predict(X_test)\n",
    "results[\"true\"] = list(y_test)\n",
    "sns.scatterplot(data = results, x = \"predicted\", y = \"true\")\n"
   ]
  },
  {
   "cell_type": "code",
   "execution_count": null,
   "id": "7dffbc1b",
   "metadata": {},
   "outputs": [],
   "source": []
  }
 ],
 "metadata": {
  "kernelspec": {
   "display_name": "Python 3",
   "language": "python",
   "name": "python3"
  },
  "language_info": {
   "codemirror_mode": {
    "name": "ipython",
    "version": 3
   },
   "file_extension": ".py",
   "mimetype": "text/x-python",
   "name": "python",
   "nbconvert_exporter": "python",
   "pygments_lexer": "ipython3",
   "version": "3.8.8"
  }
 },
 "nbformat": 4,
 "nbformat_minor": 5
}
