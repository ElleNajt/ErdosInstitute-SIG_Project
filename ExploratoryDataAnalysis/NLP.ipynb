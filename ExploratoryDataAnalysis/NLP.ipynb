{
 "cells": [
  {
   "cell_type": "code",
   "execution_count": 1,
   "id": "fe7691f8",
   "metadata": {},
   "outputs": [],
   "source": [
    "from edahelper import *\n",
    "wsb = pd.read_pickle('../Data/wsb_cleaned.pkl')\n",
    "\n",
    "\n",
    "#https://scikit-learn.org/stable/modules/generated/sklearn.feature_extraction.text.CountVectorizer.html\n",
    "#https://scikit-learn.org/stable/tutorial/text_analytics/working_with_text_data.html\n",
    "\n"
   ]
  },
  {
   "cell_type": "code",
   "execution_count": null,
   "id": "da0182a2",
   "metadata": {},
   "outputs": [],
   "source": []
  },
  {
   "cell_type": "code",
   "execution_count": null,
   "id": "c6f3dcd4",
   "metadata": {},
   "outputs": [],
   "source": [
    "## Removing characters that are not alphanumeric or spaces\n",
    "\n",
    "regex = re.compile('[^a-zA-Z ]')\n",
    "\n",
    "for col in ['title', 'author', 'selftext']:\n",
    "    wsb[col] = wsb[col].apply(lambda x : regex.sub('', str(x) ))"
   ]
  },
  {
   "cell_type": "markdown",
   "id": "a00f1f2b",
   "metadata": {},
   "source": [
    "Can we predict if a "
   ]
  },
  {
   "cell_type": "code",
   "execution_count": null,
   "id": "5a5e5c14",
   "metadata": {},
   "outputs": [],
   "source": []
  },
  {
   "cell_type": "code",
   "execution_count": null,
   "id": "8dd165ab",
   "metadata": {},
   "outputs": [],
   "source": []
  },
  {
   "cell_type": "code",
   "execution_count": null,
   "id": "f5e4a6ca",
   "metadata": {},
   "outputs": [],
   "source": [
    "wsb['unpopular'] = wsb['upvote_ratio'] <= 1\n",
    "wsb_noticed = wsb[~wsb['ignored']]\n",
    "df = wsb_noticed #[ wsb['ups'] >= 20]\n",
    "print(sum(wsb_noticed['unpopular'])/len(wsb_noticed))\n"
   ]
  },
  {
   "cell_type": "code",
   "execution_count": null,
   "id": "d7d7b505",
   "metadata": {},
   "outputs": [],
   "source": [
    "\n",
    "corpus = list(df[\"title\"])\n",
    "vectorizer = CountVectorizer()\n",
    "X = vectorizer.fit_transform(corpus)"
   ]
  },
  {
   "cell_type": "code",
   "execution_count": null,
   "id": "62dc7ab1",
   "metadata": {},
   "outputs": [],
   "source": []
  },
  {
   "cell_type": "code",
   "execution_count": null,
   "id": "5465bd2a",
   "metadata": {},
   "outputs": [],
   "source": []
  },
  {
   "cell_type": "code",
   "execution_count": null,
   "id": "e84abcb9",
   "metadata": {},
   "outputs": [],
   "source": [
    "import sklearn.naive_bayes as NB\n",
    "\n",
    "y = df.unpopular\n",
    "\n",
    "X_train, X_test, y_train, y_test = train_test_split(X, y, test_size=0.33, random_state=46)\n",
    "\n",
    "\n",
    "clf = NB.BernoulliNB().fit(X = X_train, y = y_train)\n",
    "\n",
    "preds = clf.predict(X_test)\n",
    "print( \"correct prediction ratio:\" , sum ( preds == y_test) / len(y_test))\n",
    "\n",
    "#results = pd.DataFrame()\n",
    "#results[\"predicted\"] = clf.predict(X_test)\n",
    "#results[\"true\"] = list(y_test)\n",
    "#sns.scatterplot(data = results, x = \"predicted\", y = \"true\")\n",
    "\n",
    "print( \"compare\" , sum(y_test)/len(y_test))\n",
    "\n",
    "from sklearn.metrics import confusion_matrix\n",
    "confusion_matrix(y_test, preds)"
   ]
  },
  {
   "cell_type": "code",
   "execution_count": null,
   "id": "af1eeb00",
   "metadata": {},
   "outputs": [],
   "source": []
  },
  {
   "cell_type": "code",
   "execution_count": null,
   "id": "a8eecc4c",
   "metadata": {},
   "outputs": [],
   "source": [
    "\n",
    "\n",
    "# y = list(map ( lambda x : sigmoid(x)  , wsb.upvote_ratio))\n",
    "y = df.ups\n",
    "\n",
    "X_train, X_test, y_train, y_test = train_test_split(X, y, test_size=0.33, random_state=46)\n",
    "\n",
    "\n",
    "clf = sklm.Lasso().fit(X_train, y_train)\n",
    "\n",
    "results = pd.DataFrame()\n",
    "\n",
    "results[\"predicted\"] = clf.predict(X_test)\n",
    "results[\"true\"] = list(y_test)\n",
    "sns.scatterplot(data = results, x = \"predicted\", y = \"true\")\n"
   ]
  },
  {
   "cell_type": "code",
   "execution_count": null,
   "id": "ccf25d55",
   "metadata": {},
   "outputs": [],
   "source": [
    "#https://scikit-learn.org/stable/modules/generated/sklearn.feature_extraction.text.CountVectorizer.html\n",
    "\n",
    "vectorizer = CountVectorizer()\n",
    "X = vectorizer.fit_transform(corpus)\n",
    "#print(vectorizer.get_feature_names())"
   ]
  },
  {
   "cell_type": "code",
   "execution_count": null,
   "id": "8d341a06",
   "metadata": {},
   "outputs": [],
   "source": [
    "from sklearn.feature_extraction.text import TfidfTransformer\n",
    "\n",
    "\n",
    "from sklearn.pipeline import Pipeline\n",
    "text_clf = Pipeline([\n",
    "    ('vect', CountVectorizer()),\n",
    "    ('tfidf', TfidfTransformer()),\n",
    "    ('clf', LinearRegression()),\n",
    "])"
   ]
  },
  {
   "cell_type": "code",
   "execution_count": null,
   "id": "9158cca7",
   "metadata": {},
   "outputs": [],
   "source": [
    "#https://scikit-learn.org/stable/tutorial/text_analytics/working_with_text_data.html\n",
    "from sklearn.model_selection import train_test_split\n",
    "from sklearn.linear_model import LinearRegression\n",
    "import numpy as np\n",
    "\n",
    "def sigmoid(x):\n",
    "    return 1/ ( 1 + np.exp(-x))\n",
    "\n",
    "y = list(map ( lambda x : sigmoid(x)  , wsb_text.upvote_ratio))\n",
    "X_train, X_test, y_train, y_test = train_test_split(X2.toarray(), y, test_size=0.33, random_state=42)\n",
    "\n",
    "\n",
    "clf = LinearRegression(positive=True).fit(X_train, y_train)\n"
   ]
  },
  {
   "cell_type": "code",
   "execution_count": null,
   "id": "6125beff",
   "metadata": {},
   "outputs": [],
   "source": [
    "\n",
    "results = pd.DataFrame()\n",
    "results[\"predicted\"] = clf.predict(X_test)\n",
    "results[\"true\"] = y_test\n",
    "sns.scatterplot(data = results, x = \"predicted\", y = \"true\")\n"
   ]
  }
 ],
 "metadata": {
  "kernelspec": {
   "display_name": "Python 3",
   "language": "python",
   "name": "python3"
  },
  "language_info": {
   "codemirror_mode": {
    "name": "ipython",
    "version": 3
   },
   "file_extension": ".py",
   "mimetype": "text/x-python",
   "name": "python",
   "nbconvert_exporter": "python",
   "pygments_lexer": "ipython3",
   "version": "3.8.8"
  }
 },
 "nbformat": 4,
 "nbformat_minor": 5
}
