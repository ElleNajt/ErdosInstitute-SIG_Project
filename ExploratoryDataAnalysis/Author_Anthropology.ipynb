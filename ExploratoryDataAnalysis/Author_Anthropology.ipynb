{
 "cells": [
  {
   "cell_type": "code",
   "execution_count": 1,
   "id": "40d90def",
   "metadata": {},
   "outputs": [],
   "source": [
    "from edahelper import *\n",
    "wsb = pd.read_pickle('../Data/wsb_cleaned.pkl')"
   ]
  },
  {
   "cell_type": "code",
   "execution_count": 15,
   "id": "726d8668",
   "metadata": {},
   "outputs": [],
   "source": [
    "# Only keep posts where the author data is there.\n",
    "wsb = wsb.loc[wsb.author != \"None\"]"
   ]
  },
  {
   "cell_type": "code",
   "execution_count": 35,
   "id": "db9d0dc0",
   "metadata": {},
   "outputs": [],
   "source": [
    "author_posting = dict(wsb.author.value_counts())\n",
    "author_df = (wsb.groupby('author')[['ups']] .agg('sum' ))\n",
    "wsb['author_total_upvotes'] = wsb.author.apply( lambda x : author_df.loc[x]['ups'])"
   ]
  },
  {
   "cell_type": "code",
   "execution_count": 28,
   "id": "b416a36a",
   "metadata": {},
   "outputs": [],
   "source": [
    "wsb['author_proliferacy'] = wsb.author.apply( lambda x : author_posting[x])"
   ]
  },
  {
   "cell_type": "code",
   "execution_count": null,
   "id": "57bf38d9",
   "metadata": {},
   "outputs": [],
   "source": []
  },
  {
   "cell_type": "code",
   "execution_count": 32,
   "id": "d3595a3d",
   "metadata": {},
   "outputs": [],
   "source": []
  },
  {
   "cell_type": "code",
   "execution_count": null,
   "id": "3cc7240b",
   "metadata": {},
   "outputs": [],
   "source": []
  },
  {
   "cell_type": "code",
   "execution_count": 52,
   "id": "1037823b",
   "metadata": {},
   "outputs": [],
   "source": [
    "author_df = wsb[['author', 'ups']].groupby('author').agg( [lambda x: tuple(x), 'count', 'sum', 'mean'])"
   ]
  },
  {
   "cell_type": "code",
   "execution_count": 65,
   "id": "ad66c439",
   "metadata": {},
   "outputs": [
    {
     "data": {
      "text/plain": [
       "author\n",
       "OPINION_IS_UNPOPULAR    (1212, 2883, 3221, 36695, 9583, 15699, 8524, 50650, 28009, 19725, 7565, 30641, 18969, 553, 6618, 29905, 2344, 1555, 3665, 1939, 2132, 2305, 18663, 3473, 1405, 185, 1461, 280, 1167, 1239, 1430, 5525, 1326, 1881, 1057, 1425, 3737, 1391, 992, 14804, 1073, 25212, 4207, 1123, 6059, 30214, 1432, 3186, 26793, 32074, 3726, 3252, 12841, 20059, 1907, 44144, 2209, 1553, 1708, 0, 1501, 1542, 2570, 572, 0, 24569, 1397, 1295, 1900, 2175, 957, 29974, 1814, 2276, 47735, 382, 48293, 2407, 1617, 2115, 14667, 661, 28399, 1740, 2622, 631, 388, 29008, 1409, 7916, 2010, 1722, 392, 289, 29420, 1700, 1316, 269, 211, 28431, ...)\n",
       "dhiral1994                                                                                                                                 (1, 38, 197, 6662, 30232, 484, 230, 230, 1204, 0, 187, 533, 154, 88, 0, 1, 228, 1, 302, 2, 1, 681, 1331, 37, 191, 39, 1, 53, 1, 390, 1, 14, 442, 543, 122, 647, 467, 1487, 7, 588, 4000, 10073, 1306, 994, 415, 5445, 53824, 1729, 14841, 550, 83672, 2160, 13873, 65, 12251, 0, 33004, 2601, 48957, 192, 1, 3, 3, 153, 183, 157, 121, 10, 128, 918, 1096, 619, 18479, 81418, 37688, 8515, 140, 9506, 803, 5786, 3760, 1445, 132, 114, 95, 171, 294, 4, 3, 5463, 25, 20, 14, 605, 9, 18, 35, 100, 274, 565, ...)\n",
       "PubertEHumphrey                                                                                                                                                                                                                                                                                              (1, 0, 1, 15, 62, 1, 1, 1, 1, 1, 1, 1, 1, 1, 1, 6, 81, 34, 16, 13, 22, 13, 15, 39924, 14, 4, 2, 6, 11, 6, 7, 5, 37, 11, 27, 34, 16, 10, 28, 4, 6, 2, 1, 1, 1, 1, 1, 1, 59, 1, 7, 1, 1, 1, 1, 1, 1, 1, 0, 13, 1, 1, 1, 1, 1, 2, 1, 1, 1, 1, 1, 1, 2, 1, 1, 1, 1, 1, 1, 1, 1, 1, 1, 1, 2, 1, 1, 1, 1, 1, 2, 1, 1, 1, 26, 45, 0, 1, 1791, 1, ...)\n",
       "pdwp90                                                                                                                                                                                   (2, 1, 1, 4, 1, 1, 5, 669, 3, 11, 752, 4, 4, 3909, 879, 1054, 1316, 3252, 2496, 393, 163, 12, 13, 7, 14, 6, 727, 15, 1161, 5, 3, 249, 6900, 11554, 14048, 95, 1661, 1252, 80, 1119, 115, 3, 2, 5, 8815, 65, 6, 130, 30, 732, 8, 5, 5, 4449, 54, 1896, 305, 43, 13, 1778, 5, 6, 46, 2034, 141, 2037, 1338, 517, 838, 290, 2323, 3904, 58, 1523, 1341, 879, 366, 1117, 1037, 2948, 1590, 1459, 472, 443, 389, 3476, 1163, 753, 824, 501, 583, 634, 784, 649, 56, 31)\n",
       "AutoModerator                                                                                                                                                                                                                          (109, 353, 478, 400, 0, 500, 370, 378, 412, 349, 344, 666, 372, 2, 486, 379, 409, 461, 346, 1, 626, 640, 850, 899, 1048, 899, 468, 740, 320, 748, 601, 654, 591, 834, 512, 2228, 909, 1798, 2954, 2407, 2434, 17629, 2172, 8164, 8938, 13278, 12915, 13848, 0, 8691, 11601, 0, 7406, 7415, 0, 7498, 0, 0, 0, 0, 0, 0, 0, 0, 0, 0, 0, 0, 0, 0, 0, 0, 0, 0, 0, 0, 1, 0, 0, 0, 0, 0, 6, 0, 0, 0, 0, 2, 0, 0, 0, 0, 505)\n",
       "jacored                                                                                                                                                                                                                                                                                                                                                                                                                       (13, 11, 3, 34, 1, 1, 29, 1, 1, 1, 1, 1, 1, 1, 1, 1, 1, 1, 1, 1, 1, 1, 1, 1, 1, 1, 1, 1, 1, 1, 1, 1, 1, 1, 1, 1, 1, 2, 1, 1, 5956, 9, 1, 1, 1026, 1, 1, 1, 34429, 125360, 61, 1, 1, 1, 1, 1, 1, 3419, 23946, 167, 1, 129, 42)\n",
       "kokoloko1010                                                                                                                                                                                                                                                                                                                                                                                                                  (2, 1, 0, 0, 0, 25, 7, 1, 1, 1, 37, 13, 32, 20, 11, 40, 144, 9, 14, 11, 35, 44, 5, 5, 1, 2, 1, 1, 1, 1, 1, 888, 1, 1, 1, 1, 1, 26, 0, 26, 2, 1, 1837, 0, 1, 37268, 843, 2, 2, 0, 1, 1, 68, 219, 1, 1, 2, 3, 29, 37, 31, 1, 1)\n",
       "XSOUL_1337                                                                                                                                                                                                                                                                                                                                                                                                                                        (2, 2, 2, 2, 2, 2, 2, 2, 2, 26, 5, 9, 7, 1, 1, 2, 40, 3, 1, 1, 14, 63526, 24511, 29, 12, 7110, 1, 1, 5, 2, 2, 2, 71, 1, 1, 47, 31, 1, 10, 1, 2, 10, 1, 1, 1, 1, 1, 1, 1, 1, 1, 1, 1, 1, 1, 1, 1, 1, 1, 1)\n",
       "spacebull69                                                                                                                                                                                                                                                                                                                                                                                                                              (1, 1, 19, 3, 107, 1, 1, 2, 1, 1, 1, 6, 1, 1, 1, 1, 2, 1, 1, 1, 3, 1, 30, 5, 6, 1, 1, 2, 1372, 18975, 1, 1, 1, 1, 69, 2, 43389, 146, 10, 39, 104, 773, 4, 1211, 1, 30577, 2, 30, 1, 134, 3, 0, 1, 0, 52, 1, 38, 1)\n",
       "BadassTrader                                                                                                                                                                                                                                                                                                                                                                                                                                (1, 1, 109, 1, 1, 1, 11, 1, 152, 1004, 583, 1368, 25938, 150, 1, 1, 1, 1, 1, 1, 2, 72, 2, 1, 1, 1, 1, 1, 1, 1, 1, 1, 1, 1581, 137, 173, 1, 1, 1, 23275, 1, 1, 1, 56, 6, 1, 1, 1, 4, 1, 1, 21, 1, 1, 1, 8, 1, 3)\n",
       "MIA4real                                                                                                                                                                                                                                                                                                                                                                                        (4413, 6, 6, 1, 24, 53, 14, 5, 5555, 1, 1, 876, 86296, 576, 167, 256, 9737, 61543, 10960, 6, 323, 2328, 74543, 771, 109, 24, 10832, 106, 19, 1, 10013, 47, 3, 11, 3, 107, 1, 2, 94, 52, 137, 1, 1, 1, 40, 197, 5, 12, 65, 12, 89358, 20, 4, 2, 26, 4, 2072)\n",
       "Unsquidabls                                                                                                                                                                                                                                                                                                                                                                                                                 (1, 1, 1, 95, 1, 2828, 248, 207, 131, 1, 29, 15, 1, 1, 1, 1, 1, 1, 1504, 18, 62, 235, 137, 562, 1, 51, 2, 1, 39, 2, 1, 107, 786, 4870, 7, 40, 1199, 161, 72, 4, 1, 1176, 134, 1694, 1, 18, 1, 1, 3723, 4, 1, 1, 419, 25, 1, 11)\n",
       "thabat                                                                                                                                                                                                                                                                                                                                                                                                                                                              (1, 1, 1, 1, 2, 30, 1, 25, 1, 1, 1, 1, 1, 1, 1, 1, 1, 1, 1, 103, 44, 1, 1, 1, 1, 1, 262, 1, 1, 1, 1, 27, 149, 1, 1, 1, 219, 144, 1, 1, 1, 1, 1, 4, 3, 18716, 5, 578, 19, 4648, 49, 191)\n",
       "indonesian_activist                                                                                                                                                                                                                                                                                                                                                                                                     (660, 25, 0, 1, 356, 17, 2, 2, 1, 22, 0, 1, 81, 59, 1135, 6618, 1, 116, 140, 162, 5, 2329, 55, 229, 1, 50, 41, 0, 182, 1, 113, 41, 144392, 8606, 2, 1, 52, 148, 814, 23414, 839, 3, 32, 2442, 40, 193, 2826, 71, 753, 801, 457, 28)\n",
       "Craneteam                                                                                                                                                                                                                                                                                                                                                                                                              (2, 1, 2, 1, 2, 2, 1, 6, 1, 49, 16964, 136, 1, 23565, 48, 2, 43, 99, 10, 5275, 5677, 503, 11, 18, 10, 6, 1, 1359, 118, 46, 14, 16, 60, 52, 55, 346, 2, 31344, 20, 2692, 16, 9070, 16234, 336, 75, 8761, 13766, 28, 64, 73, 30, 6285)\n",
       "StimulAss69                                                                                                                                                                                                                                                                                                                                                                                                                                      (920, 981, 31, 1035, 74, 2786, 0, 1, 2, 2, 219, 1, 651, 8427, 1662, 684, 1, 30, 539, 210, 2798, 1, 105, 27058, 12, 29, 1, 1, 2, 1, 34, 1, 17056, 2, 82, 59, 2, 80, 1, 80, 3, 43, 10, 11, 8, 30, 52, 12, 8)\n",
       "poonhunter-69                                                                                                                                                                                                                                                                                                                                                                                                                                                                    (38, 75, 11, 1, 1, 1, 1, 1, 12, 2, 1, 794, 216, 1215, 6, 15, 26, 18, 32, 2795, 17086, 1, 3, 1, 1, 1, 1, 22, 1, 15, 15, 1, 1, 1, 1, 2, 2, 2, 1, 1, 1, 1, 1, 1, 1, 1, 4, 30)\n",
       "BENshakalaka                                                                                                                                                                                                                                                                                                                                                                                                                                                                                     (1, 25116, 85, 1, 1632, 1, 2, 7584, 1, 10, 7, 1, 282, 1, 1, 1, 2, 1, 132, 8, 2, 2, 1, 5, 28, 1, 1, 1, 61, 11, 1, 1, 1, 198, 1, 2, 4, 66, 1, 1, 1, 1, 1, 0)\n",
       "serefsiz                                                                                                                                                                                                                                                                                                                                                                                                                                                                          (0, 22520, 1, 76, 1, 2191, 1, 2, 284, 824, 17338, 6, 11, 1, 1, 323, 1, 241, 1, 14892, 1, 2593, 4789, 1, 1, 1, 1, 62, 1, 1, 1, 1, 901, 31, 47, 2, 1, 1, 1, 35, 9, 476, 36)\n",
       "c00chiemannnnn                                                                                                                                                                                                                                                                                                                                                                                                                                                                                                    (1, 6070, 1, 1, 377, 1, 1, 1, 1, 1, 1, 1, 2, 1, 1, 1, 1, 1, 1, 2, 1, 39, 67, 1, 1, 1, 1, 1, 3, 58, 5593, 1, 14, 13, 9, 15, 4, 232, 11, 3)\n",
       "Name: <lambda_0>, dtype: object"
      ]
     },
     "execution_count": 65,
     "metadata": {},
     "output_type": "execute_result"
    }
   ],
   "source": [
    "pd.set_option('display.max_colwidth', None)\n",
    "author_df[author_df[('ups', 'mean')] > 200].sort_values(by = ('ups', 'count'), ascending = False)['ups']['<lambda_0>'].head(20)"
   ]
  },
  {
   "cell_type": "code",
   "execution_count": 76,
   "id": "e19aeae4",
   "metadata": {},
   "outputs": [
    {
     "data": {
      "text/plain": [
       "author\n",
       "OPINION_IS_UNPOPULAR    AxesSubplot(0.125,0.125;0.775x0.755)\n",
       "PubertEHumphrey         AxesSubplot(0.125,0.125;0.775x0.755)\n",
       "dhiral1994              AxesSubplot(0.125,0.125;0.775x0.755)\n",
       "pdwp90                  AxesSubplot(0.125,0.125;0.775x0.755)\n",
       "Name: <lambda_0>, dtype: object"
      ]
     },
     "execution_count": 76,
     "metadata": {},
     "output_type": "execute_result"
    },
    {
     "data": {
      "image/png": "[encoded data removed]",
      "text/plain": [
       "<Figure size 432x288 with 1 Axes>"
      ]
     },
     "metadata": {
      "needs_background": "light"
     },
     "output_type": "display_data"
    }
   ],
   "source": [
    "author_df[author_df[('ups', 'mean')] > 200].sort_values(by = ('ups', 'count'), ascending = False)['ups']['<lambda_0>'].head(4).explode().groupby('author').plot(kind = 'hist', legend = True)"
   ]
  },
  {
   "cell_type": "markdown",
   "id": "1908e64c",
   "metadata": {},
   "source": [
    "They look kind of power law ish\n",
    "\n",
    "So, maybe a reasonable model is to assume that each posts upvotes comes from a power law distribution, with parameter that depends on the author. We can use empirical bayes to estimate the parameters for the authors."
   ]
  }
 ],
 "metadata": {
  "kernelspec": {
   "display_name": "Python 3",
   "language": "python",
   "name": "python3"
  },
  "language_info": {
   "codemirror_mode": {
    "name": "ipython",
    "version": 3
   },
   "file_extension": ".py",
   "mimetype": "text/x-python",
   "name": "python",
   "nbconvert_exporter": "python",
   "pygments_lexer": "ipython3",
   "version": "3.8.8"
  }
 },
 "nbformat": 4,
 "nbformat_minor": 5
}
