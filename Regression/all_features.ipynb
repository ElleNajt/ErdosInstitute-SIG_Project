{
 "cells": [
  {
   "cell_type": "code",
   "execution_count": 41,
   "id": "9e8cf83c",
   "metadata": {},
   "outputs": [
    {
     "name": "stderr",
     "output_type": "stream",
     "text": [
      "C:\\Users\\lnajt\\anaconda3\\envs\\Erdos_Institute\\lib\\site-packages\\gensim\\similarities\\__init__.py:15: UserWarning: The gensim.similarities.levenshtein submodule is disabled, because the optional Levenshtein package <https://pypi.org/project/python-Levenshtein/> is unavailable. Install Levenhstein (e.g. `pip install python-Levenshtein`) to suppress this warning.\n",
      "  warnings.warn(msg)\n"
     ]
    }
   ],
   "source": [
    "import pandas as pd\n",
    "from author_properties_transformers import author_influence\n",
    "from word2vec_transformers import conceptcluster, tokenizer\n",
    "\n",
    "\n",
    "from datetime import timezone, datetime\n",
    "from sklearn.model_selection import train_test_split\n",
    "\n",
    "from sklearn.svm import SVC\n",
    "\n",
    "from sklearn.linear_model import LinearRegression\n",
    "from sklearn.preprocessing import StandardScaler\n",
    "from sklearn.datasets import make_classification\n",
    "from sklearn.model_selection import train_test_split\n",
    "from sklearn.pipeline import Pipeline\n",
    "from sklearn.compose import ColumnTransformer, make_column_transformer\n",
    "from sklearn.pipeline import FeatureUnion\n",
    "from sklearn.pipeline import make_pipeline, make_union\n",
    "from sklearn.model_selection import cross_val_score\n",
    "import matplotlib.pyplot as plt\n",
    "import xgboost as xgb\n",
    "\n",
    "from sklearn.preprocessing import FunctionTransformer\n",
    "import seaborn as sns\n"
   ]
  },
  {
   "cell_type": "markdown",
   "id": "d70688a4",
   "metadata": {},
   "source": [
    "# Load and clean data:"
   ]
  },
  {
   "cell_type": "code",
   "execution_count": 2,
   "id": "d0327b11",
   "metadata": {},
   "outputs": [
    {
     "name": "stderr",
     "output_type": "stream",
     "text": [
      "C:\\Users\\lnajt\\anaconda3\\envs\\Erdos_Institute\\lib\\site-packages\\IPython\\core\\interactiveshell.py:3169: DtypeWarning: Columns (45,88,117,118,119,122,123,124,125) have mixed types.Specify dtype option on import or set low_memory=False.\n",
      "  has_raised = await self.run_ast_nodes(code_ast.body, cell_name,\n"
     ]
    }
   ],
   "source": [
    "df = pd.read_csv(\"../Data/wsb_full_not_deleted_withdt.csv\")\n",
    "df = df.loc[df.author != \"None\"]\n",
    "df [\"created_datetime_utc\"] = df[\"created_utc\"].apply(datetime.utcfromtimestamp)\n",
    "df['weektime'] = df['created_datetime_utc'].apply( lambda x : x.weekday()*24 + x.hour)\n",
    "df['time_of_day'] = df['created_datetime_utc'].apply( lambda x : x.hour)\n",
    "\n",
    "# make tokenized columns for the NLP methods\n",
    "tokenizer().in_place(X = df, cols = ['title', 'selftext'])"
   ]
  },
  {
   "cell_type": "code",
   "execution_count": 3,
   "id": "9554fba8",
   "metadata": {},
   "outputs": [],
   "source": [
    "\n",
    "df_cleaned = df[ [  'id', 'tokenized_title', 'author', 'ups', 'weektime', 'time_of_day', 'tokenized_selftext']]"
   ]
  },
  {
   "cell_type": "code",
   "execution_count": 50,
   "id": "52e0022c",
   "metadata": {},
   "outputs": [
    {
     "data": {
      "text/html": [
       "<div>\n",
       "<style scoped>\n",
       "    .dataframe tbody tr th:only-of-type {\n",
       "        vertical-align: middle;\n",
       "    }\n",
       "\n",
       "    .dataframe tbody tr th {\n",
       "        vertical-align: top;\n",
       "    }\n",
       "\n",
       "    .dataframe thead th {\n",
       "        text-align: right;\n",
       "    }\n",
       "</style>\n",
       "<table border=\"1\" class=\"dataframe\">\n",
       "  <thead>\n",
       "    <tr style=\"text-align: right;\">\n",
       "      <th></th>\n",
       "      <th>id</th>\n",
       "      <th>tokenized_title</th>\n",
       "      <th>author</th>\n",
       "      <th>ups</th>\n",
       "      <th>weektime</th>\n",
       "      <th>time_of_day</th>\n",
       "      <th>tokenized_selftext</th>\n",
       "    </tr>\n",
       "  </thead>\n",
       "  <tbody>\n",
       "    <tr>\n",
       "      <th>0</th>\n",
       "      <td>eipw3g</td>\n",
       "      <td>[[buy, intu, dd]]</td>\n",
       "      <td>unclerudy</td>\n",
       "      <td>5</td>\n",
       "      <td>71</td>\n",
       "      <td>23</td>\n",
       "      <td>[[httpswwwschaeffersresearchcomcontentanalysis...</td>\n",
       "    </tr>\n",
       "    <tr>\n",
       "      <th>1</th>\n",
       "      <td>eipbbd</td>\n",
       "      <td>[[new, years, challenge, k, makeit, or, breakit]]</td>\n",
       "      <td>DrSecret007</td>\n",
       "      <td>50</td>\n",
       "      <td>71</td>\n",
       "      <td>23</td>\n",
       "      <td>[[alright, wsbso, i, recently, came, into, abo...</td>\n",
       "    </tr>\n",
       "    <tr>\n",
       "      <th>2</th>\n",
       "      <td>eip6af</td>\n",
       "      <td>[[how, many, of, you, tisms, are, doing, the, ...</td>\n",
       "      <td>phoq5</td>\n",
       "      <td>27</td>\n",
       "      <td>70</td>\n",
       "      <td>22</td>\n",
       "      <td>[[i, saw, an, older, thread, on, it, curious, ...</td>\n",
       "    </tr>\n",
       "    <tr>\n",
       "      <th>3</th>\n",
       "      <td>eiop2z</td>\n",
       "      <td>[[dd, on, pot, stocks]]</td>\n",
       "      <td>Black_Ink</td>\n",
       "      <td>6</td>\n",
       "      <td>70</td>\n",
       "      <td>22</td>\n",
       "      <td>[[first, day, of, legal, weed, in, illinois, p...</td>\n",
       "    </tr>\n",
       "    <tr>\n",
       "      <th>4</th>\n",
       "      <td>einz9m</td>\n",
       "      <td>[[markets, are, on, the, cusp, of, a, correcti...</td>\n",
       "      <td>OptionRunners</td>\n",
       "      <td>173</td>\n",
       "      <td>69</td>\n",
       "      <td>21</td>\n",
       "      <td>[[i, was, going, to, tag, this, as, technical,...</td>\n",
       "    </tr>\n",
       "    <tr>\n",
       "      <th>...</th>\n",
       "      <td>...</td>\n",
       "      <td>...</td>\n",
       "      <td>...</td>\n",
       "      <td>...</td>\n",
       "      <td>...</td>\n",
       "      <td>...</td>\n",
       "      <td>...</td>\n",
       "    </tr>\n",
       "    <tr>\n",
       "      <th>97841</th>\n",
       "      <td>n5w09o</td>\n",
       "      <td>[[this, is, how, its, done, right]]</td>\n",
       "      <td>xander92109</td>\n",
       "      <td>0</td>\n",
       "      <td>73</td>\n",
       "      <td>1</td>\n",
       "      <td>[]</td>\n",
       "    </tr>\n",
       "    <tr>\n",
       "      <th>97842</th>\n",
       "      <td>n5vrfe</td>\n",
       "      <td>[[cost, basis, on, pltr, with, no, money, left...</td>\n",
       "      <td>BigNattyDaddyAMA</td>\n",
       "      <td>118</td>\n",
       "      <td>73</td>\n",
       "      <td>1</td>\n",
       "      <td>[]</td>\n",
       "    </tr>\n",
       "    <tr>\n",
       "      <th>97843</th>\n",
       "      <td>n5vr00</td>\n",
       "      <td>[[ohio, sports, betting, tomorrow, ready, to, ...</td>\n",
       "      <td>StacksDN</td>\n",
       "      <td>36</td>\n",
       "      <td>73</td>\n",
       "      <td>1</td>\n",
       "      <td>[]</td>\n",
       "    </tr>\n",
       "    <tr>\n",
       "      <th>97844</th>\n",
       "      <td>n5uj8y</td>\n",
       "      <td>[[can, i, recover, from, this], [iq, call, opt...</td>\n",
       "      <td>Titans190</td>\n",
       "      <td>2</td>\n",
       "      <td>72</td>\n",
       "      <td>0</td>\n",
       "      <td>[]</td>\n",
       "    </tr>\n",
       "    <tr>\n",
       "      <th>97845</th>\n",
       "      <td>n5udz9</td>\n",
       "      <td>[[aso, technical, breakout, and, dd]]</td>\n",
       "      <td>rldkyce</td>\n",
       "      <td>44</td>\n",
       "      <td>72</td>\n",
       "      <td>0</td>\n",
       "      <td>[[good, evening, apes, fellow, smooth, brainsf...</td>\n",
       "    </tr>\n",
       "  </tbody>\n",
       "</table>\n",
       "<p>95359 rows × 7 columns</p>\n",
       "</div>"
      ],
      "text/plain": [
       "           id                                    tokenized_title  \\\n",
       "0      eipw3g                                  [[buy, intu, dd]]   \n",
       "1      eipbbd  [[new, years, challenge, k, makeit, or, breakit]]   \n",
       "2      eip6af  [[how, many, of, you, tisms, are, doing, the, ...   \n",
       "3      eiop2z                            [[dd, on, pot, stocks]]   \n",
       "4      einz9m  [[markets, are, on, the, cusp, of, a, correcti...   \n",
       "...       ...                                                ...   \n",
       "97841  n5w09o                [[this, is, how, its, done, right]]   \n",
       "97842  n5vrfe  [[cost, basis, on, pltr, with, no, money, left...   \n",
       "97843  n5vr00  [[ohio, sports, betting, tomorrow, ready, to, ...   \n",
       "97844  n5uj8y  [[can, i, recover, from, this], [iq, call, opt...   \n",
       "97845  n5udz9              [[aso, technical, breakout, and, dd]]   \n",
       "\n",
       "                 author  ups  weektime  time_of_day  \\\n",
       "0             unclerudy    5        71           23   \n",
       "1           DrSecret007   50        71           23   \n",
       "2                 phoq5   27        70           22   \n",
       "3             Black_Ink    6        70           22   \n",
       "4         OptionRunners  173        69           21   \n",
       "...                 ...  ...       ...          ...   \n",
       "97841       xander92109    0        73            1   \n",
       "97842  BigNattyDaddyAMA  118        73            1   \n",
       "97843          StacksDN   36        73            1   \n",
       "97844         Titans190    2        72            0   \n",
       "97845           rldkyce   44        72            0   \n",
       "\n",
       "                                      tokenized_selftext  \n",
       "0      [[httpswwwschaeffersresearchcomcontentanalysis...  \n",
       "1      [[alright, wsbso, i, recently, came, into, abo...  \n",
       "2      [[i, saw, an, older, thread, on, it, curious, ...  \n",
       "3      [[first, day, of, legal, weed, in, illinois, p...  \n",
       "4      [[i, was, going, to, tag, this, as, technical,...  \n",
       "...                                                  ...  \n",
       "97841                                                 []  \n",
       "97842                                                 []  \n",
       "97843                                                 []  \n",
       "97844                                                 []  \n",
       "97845  [[good, evening, apes, fellow, smooth, brainsf...  \n",
       "\n",
       "[95359 rows x 7 columns]"
      ]
     },
     "execution_count": 50,
     "metadata": {},
     "output_type": "execute_result"
    }
   ],
   "source": [
    "df_cleaned"
   ]
  },
  {
   "cell_type": "code",
   "execution_count": 39,
   "id": "7e92862d",
   "metadata": {
    "scrolled": false
   },
   "outputs": [],
   "source": []
  },
  {
   "cell_type": "markdown",
   "id": "1cfdc2ec",
   "metadata": {},
   "source": [
    "## Create feature transformers for author features, time features, and nlp features.\n",
    "For details on the author and nlp transformers see, ../Feature_Design/author_properties_transformers and ../Feature_Design/word2vec_transformers"
   ]
  },
  {
   "cell_type": "code",
   "execution_count": 51,
   "id": "57b325b8",
   "metadata": {},
   "outputs": [],
   "source": [
    "author_stat_features = FeatureUnion([('aggsum', author_influence(kind = 'sum')), \n",
    "                           ('aggmean', author_influence(kind = 'mean')), \n",
    "                           ('aggmedian', author_influence(kind = 'median')),\n",
    "                            ('aggcount', author_influence(kind = 'count')),\n",
    "                              #('aggpowerlaw', author_influence(kind = 'power_law')) # slows things down a lot      \n",
    "                           \n",
    "                           ])\n"
   ]
  },
  {
   "cell_type": "code",
   "execution_count": 52,
   "id": "c22e3783",
   "metadata": {},
   "outputs": [],
   "source": [
    "\n",
    "time_features = make_union( make_column_transformer(  \n",
    "                                (FunctionTransformer(lambda x : x), [\"weektime\", \"time_of_day\"] ),\n",
    "                                                   )            \n",
    "                          )\n"
   ]
  },
  {
   "cell_type": "code",
   "execution_count": 55,
   "id": "0e51d7f1",
   "metadata": {},
   "outputs": [],
   "source": [
    "nlp_features = make_union( conceptcluster(verbose = False) )"
   ]
  },
  {
   "cell_type": "code",
   "execution_count": null,
   "id": "f8d6b891",
   "metadata": {},
   "outputs": [],
   "source": [
    "# other features -- whether score >= 100\n",
    "# predictors for whether different kinds of awards were given\n"
   ]
  },
  {
   "cell_type": "code",
   "execution_count": 56,
   "id": "1592c905",
   "metadata": {},
   "outputs": [],
   "source": [
    "\n",
    "\n",
    "all_features = make_union ( author_stat_features, time_features, nlp_features )"
   ]
  },
  {
   "cell_type": "markdown",
   "id": "e2dc4566",
   "metadata": {},
   "source": [
    "## Run a regression experiment:\n",
    "\n",
    "Trying to predict upvotes using those features. No luck so far. \n",
    "\n",
    "Comments: xgboost overfits, linear regression underfits.\n",
    " "
   ]
  },
  {
   "cell_type": "code",
   "execution_count": null,
   "id": "5e822eab",
   "metadata": {
    "scrolled": true
   },
   "outputs": [
    {
     "name": "stdout",
     "output_type": "stream",
     "text": [
      "working on LinearRegression()\n"
     ]
    },
    {
     "data": {
      "image/png": "[encoded data removed]",
      "text/plain": [
       "<Figure size 432x288 with 1 Axes>"
      ]
     },
     "metadata": {
      "needs_background": "light"
     },
     "output_type": "display_data"
    },
    {
     "data": {
      "image/png": "[encoded data removed]",
      "text/plain": [
       "<Figure size 432x288 with 1 Axes>"
      ]
     },
     "metadata": {
      "needs_background": "light"
     },
     "output_type": "display_data"
    },
    {
     "name": "stdout",
     "output_type": "stream",
     "text": [
      "[-3.28492807 -2.69096556 -1.41687955  0.02545571 -0.08725629]\n",
      "working on XGBRegressor(base_score=None, booster=None, colsample_bylevel=None,\n",
      "             colsample_bynode=None, colsample_bytree=None, gamma=None,\n",
      "             gpu_id=None, importance_type='gain', interaction_constraints=None,\n",
      "             learning_rate=None, max_delta_step=None, max_depth=None,\n",
      "             min_child_weight=None, missing=nan, monotone_constraints=None,\n",
      "             n_estimators=100, n_jobs=None, num_parallel_tree=None,\n",
      "             random_state=2, reg_alpha=None, reg_lambda=None,\n",
      "             scale_pos_weight=None, subsample=None, tree_method=None,\n",
      "             validate_parameters=None, verbosity=None)\n"
     ]
    }
   ],
   "source": [
    "def run_experiment(model, df):\n",
    "    \n",
    "    \n",
    "\n",
    "\n",
    "\n",
    "    X_train, X_test, y_train, y_test = train_test_split(df, df.ups,\n",
    "                                                    random_state=0)\n",
    "\n",
    "    print(\"working on\", model)\n",
    "\n",
    "    pipe = make_pipeline(all_features, model)\n",
    "    pipe.fit(X_train, y_train)\n",
    "\n",
    "    pipe.predict(X_test)\n",
    "\n",
    "    sns.scatterplot(x = pipe.predict(X_test), y = y_test)\n",
    "    plt.show()\n",
    "    sns.scatterplot(x = pipe.predict(X_train), y = y_train)\n",
    "    plt.show()\n",
    "    \n",
    "    scores = cross_val_score(pipe, df, df.ups)\n",
    "    print(scores)\n",
    "\n",
    "for model in [LinearRegression(), xgb.XGBRegressor(random_state=2)]:\n",
    "    run_experiment(model, df_cleaned)\n"
   ]
  },
  {
   "cell_type": "code",
   "execution_count": null,
   "id": "8894955f",
   "metadata": {},
   "outputs": [],
   "source": []
  },
  {
   "cell_type": "code",
   "execution_count": 12,
   "id": "909443cb",
   "metadata": {},
   "outputs": [],
   "source": [
    "# Todo: Do CV to tune hyperparameters."
   ]
  },
  {
   "cell_type": "code",
   "execution_count": null,
   "id": "6f0d5075",
   "metadata": {},
   "outputs": [],
   "source": []
  },
  {
   "cell_type": "code",
   "execution_count": null,
   "id": "63342199",
   "metadata": {},
   "outputs": [],
   "source": []
  },
  {
   "cell_type": "code",
   "execution_count": null,
   "id": "8048639c",
   "metadata": {},
   "outputs": [],
   "source": [
    "\n",
    "\n",
    "\n"
   ]
  },
  {
   "cell_type": "code",
   "execution_count": null,
   "id": "077db6d0",
   "metadata": {},
   "outputs": [],
   "source": []
  },
  {
   "cell_type": "code",
   "execution_count": null,
   "id": "3f30f976",
   "metadata": {},
   "outputs": [],
   "source": []
  },
  {
   "cell_type": "code",
   "execution_count": null,
   "id": "e31637fc",
   "metadata": {},
   "outputs": [],
   "source": []
  },
  {
   "cell_type": "code",
   "execution_count": null,
   "id": "949b9cb0",
   "metadata": {},
   "outputs": [],
   "source": []
  },
  {
   "cell_type": "code",
   "execution_count": null,
   "id": "7d196671",
   "metadata": {},
   "outputs": [],
   "source": []
  },
  {
   "cell_type": "code",
   "execution_count": null,
   "id": "4775b2ee",
   "metadata": {},
   "outputs": [],
   "source": []
  },
  {
   "cell_type": "code",
   "execution_count": null,
   "id": "f3427668",
   "metadata": {},
   "outputs": [],
   "source": []
  }
 ],
 "metadata": {
  "kernelspec": {
   "display_name": "Python 3",
   "language": "python",
   "name": "python3"
  },
  "language_info": {
   "codemirror_mode": {
    "name": "ipython",
    "version": 3
   },
   "file_extension": ".py",
   "mimetype": "text/x-python",
   "name": "python",
   "nbconvert_exporter": "python",
   "pygments_lexer": "ipython3",
   "version": "3.8.8"
  }
 },
 "nbformat": 4,
 "nbformat_minor": 5
}
