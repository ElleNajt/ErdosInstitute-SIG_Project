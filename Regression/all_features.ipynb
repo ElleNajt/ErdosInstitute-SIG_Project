{
 "cells": [
  {
   "cell_type": "code",
   "execution_count": 92,
   "id": "94fc8d28",
   "metadata": {},
   "outputs": [],
   "source": [
    "import pandas as pd\n",
    "from author_properties_transformers import author_influence\n",
    "\n",
    "\n",
    "\n",
    "from datetime import timezone, datetime\n",
    "from sklearn.model_selection import train_test_split\n",
    "\n",
    "from sklearn.svm import SVC\n",
    "\n",
    "from sklearn.linear_model import LinearRegression\n",
    "from sklearn.preprocessing import StandardScaler\n",
    "from sklearn.datasets import make_classification\n",
    "from sklearn.model_selection import train_test_split\n",
    "from sklearn.pipeline import Pipeline\n",
    "from sklearn.compose import ColumnTransformer, make_column_transformer\n",
    "from sklearn.pipeline import FeatureUnion\n",
    "from sklearn.pipeline import make_pipeline, make_union\n",
    "from sklearn.model_selection import cross_val_score\n",
    "\n",
    "import xgboost as xgb\n",
    "\n",
    "from sklearn.preprocessing import FunctionTransformer\n",
    "import seaborn as sns"
   ]
  },
  {
   "cell_type": "code",
   "execution_count": 80,
   "id": "c202219d",
   "metadata": {},
   "outputs": [
    {
     "name": "stderr",
     "output_type": "stream",
     "text": [
      "C:\\Users\\lnajt\\anaconda3\\envs\\Erdos_Institute\\lib\\site-packages\\IPython\\core\\interactiveshell.py:3169: DtypeWarning: Columns (45,88,117,118,119,122,123,124,125) have mixed types.Specify dtype option on import or set low_memory=False.\n",
      "  has_raised = await self.run_ast_nodes(code_ast.body, cell_name,\n"
     ]
    }
   ],
   "source": [
    "df = pd.read_csv(\"../Data/wsb_full_not_deleted_withdt.csv\")\n",
    "\n",
    "df = df.loc[df.author != \"None\"]\n"
   ]
  },
  {
   "cell_type": "code",
   "execution_count": 81,
   "id": "17e784fe",
   "metadata": {},
   "outputs": [],
   "source": [
    "\n",
    "df [\"created_datetime_utc\"] = df[\"created_utc\"].apply(datetime.utcfromtimestamp)\n",
    "df['weektime'] = df['created_datetime_utc'].apply( lambda x : x.weekday()*24 + x.hour)\n",
    "df['time_of_day'] = df['created_datetime_utc'].apply( lambda x : x.hour)"
   ]
  },
  {
   "cell_type": "code",
   "execution_count": 82,
   "id": "427caad1",
   "metadata": {},
   "outputs": [],
   "source": [
    "df_cleaned = df[ [  'id', 'title', 'author', 'ups', 'weektime', 'time_of_day', 'selftext']]"
   ]
  },
  {
   "cell_type": "code",
   "execution_count": 3,
   "id": "53d5de7a",
   "metadata": {},
   "outputs": [],
   "source": []
  },
  {
   "cell_type": "code",
   "execution_count": null,
   "id": "5af3277f",
   "metadata": {
    "scrolled": false
   },
   "outputs": [],
   "source": []
  },
  {
   "cell_type": "code",
   "execution_count": null,
   "id": "dd8e4636",
   "metadata": {},
   "outputs": [],
   "source": []
  },
  {
   "cell_type": "code",
   "execution_count": null,
   "id": "3d009db7",
   "metadata": {},
   "outputs": [],
   "source": []
  },
  {
   "cell_type": "code",
   "execution_count": null,
   "id": "2261a63d",
   "metadata": {},
   "outputs": [],
   "source": []
  },
  {
   "cell_type": "code",
   "execution_count": 6,
   "id": "cd9bea4c",
   "metadata": {},
   "outputs": [],
   "source": []
  },
  {
   "cell_type": "code",
   "execution_count": 83,
   "id": "d85111b3",
   "metadata": {},
   "outputs": [],
   "source": [
    "author_stat_features = FeatureUnion([('aggsum', author_influence(kind = 'sum')), \n",
    "                           ('aggmean', author_influence(kind = 'mean')), \n",
    "                           ('aggmedian', author_influence(kind = 'median')),\n",
    "                            ('aggcount', author_influence(kind = 'count'))\n",
    "                           \n",
    "                           ])\n",
    "# testing:\n",
    "# todo: make sure that nothing gets modified inplace that shouldnt be...\n",
    "# author_stat_features\n",
    "# author_stat_features.fit(df)\n",
    "# pd.DataFrame(author_stat_features.transform(df))\n"
   ]
  },
  {
   "cell_type": "code",
   "execution_count": 84,
   "id": "a59308ac",
   "metadata": {},
   "outputs": [],
   "source": [
    "\n",
    "time_features = make_union( make_column_transformer(  (FunctionTransformer(lambda x : x), [\"weektime\", \"time_of_day\"] ),\n",
    "                                                   )            \n",
    "                          )\n",
    "\n",
    "#time_features.fit_transform(df_cleaned)\n"
   ]
  },
  {
   "cell_type": "code",
   "execution_count": null,
   "id": "e0fb8590",
   "metadata": {},
   "outputs": [],
   "source": [
    "nlp_features = FeatureUnion([\n",
    "    \n",
    "    \n",
    "    \n",
    "    \n",
    "])"
   ]
  },
  {
   "cell_type": "code",
   "execution_count": null,
   "id": "966137dd",
   "metadata": {},
   "outputs": [],
   "source": []
  },
  {
   "cell_type": "code",
   "execution_count": 85,
   "id": "f2a8d9a9",
   "metadata": {},
   "outputs": [],
   "source": [
    "\n",
    "\n",
    "all_features = make_union ( author_stat_features, time_features )"
   ]
  },
  {
   "cell_type": "code",
   "execution_count": null,
   "id": "90d631e7",
   "metadata": {},
   "outputs": [],
   "source": []
  },
  {
   "cell_type": "code",
   "execution_count": 87,
   "id": "a82fd7a8",
   "metadata": {
    "scrolled": true
   },
   "outputs": [
    {
     "data": {
      "text/plain": [
       "<AxesSubplot:ylabel='ups'>"
      ]
     },
     "execution_count": 87,
     "metadata": {},
     "output_type": "execute_result"
    },
    {
     "data": {
      "image/png": "[encoded data removed]",
      "text/plain": [
       "<Figure size 432x288 with 1 Axes>"
      ]
     },
     "metadata": {
      "needs_background": "light"
     },
     "output_type": "display_data"
    }
   ],
   "source": [
    "\n",
    "\n",
    "X_train, X_test, y_train, y_test = train_test_split(df_cleaned, df_cleaned.ups,\n",
    "                                                    random_state=0)\n",
    "\n",
    "\n",
    "lr = LinearRegression()\n",
    "\n",
    "pipe = make_pipeline(all_features, lr)\n",
    "pipe.fit(X_train, y_train)\n",
    "\n",
    "pipe.predict(X_test)\n",
    "\n",
    "sns.scatterplot(x = pipe.predict(X_test), y = y_test)"
   ]
  },
  {
   "cell_type": "code",
   "execution_count": 88,
   "id": "5a691ba7",
   "metadata": {},
   "outputs": [
    {
     "data": {
      "text/plain": [
       "<AxesSubplot:ylabel='ups'>"
      ]
     },
     "execution_count": 88,
     "metadata": {},
     "output_type": "execute_result"
    },
    {
     "data": {
      "image/png": "[encoded data removed]",
      "text/plain": [
       "<Figure size 432x288 with 1 Axes>"
      ]
     },
     "metadata": {
      "needs_background": "light"
     },
     "output_type": "display_data"
    }
   ],
   "source": [
    "sns.scatterplot(x = pipe.predict(X_train), y = y_train)"
   ]
  },
  {
   "cell_type": "code",
   "execution_count": 89,
   "id": "891b1d98",
   "metadata": {},
   "outputs": [],
   "source": [
    "\n",
    "scores = cross_val_score(pipe, df_cleaned, df_cleaned.ups)"
   ]
  },
  {
   "cell_type": "code",
   "execution_count": 90,
   "id": "2b8f8488",
   "metadata": {},
   "outputs": [
    {
     "data": {
      "text/plain": [
       "array([-3.28277545, -2.70359793, -1.42018051,  0.02421643, -0.08948711])"
      ]
     },
     "execution_count": 90,
     "metadata": {},
     "output_type": "execute_result"
    }
   ],
   "source": [
    "scores"
   ]
  },
  {
   "cell_type": "code",
   "execution_count": null,
   "id": "536e02c2",
   "metadata": {},
   "outputs": [],
   "source": []
  },
  {
   "cell_type": "code",
   "execution_count": 93,
   "id": "f91a0172",
   "metadata": {},
   "outputs": [
    {
     "data": {
      "text/plain": [
       "<AxesSubplot:ylabel='ups'>"
      ]
     },
     "execution_count": 93,
     "metadata": {},
     "output_type": "execute_result"
    },
    {
     "data": {
      "image/png": "[encoded data removed]",
      "text/plain": [
       "<Figure size 432x288 with 1 Axes>"
      ]
     },
     "metadata": {
      "needs_background": "light"
     },
     "output_type": "display_data"
    }
   ],
   "source": [
    "\n",
    "\n",
    "\n",
    "\n",
    "\n",
    "X_train, X_test, y_train, y_test = train_test_split(df_cleaned, df_cleaned.ups,\n",
    "                                                    random_state=0)\n",
    "\n",
    "\n",
    "xgr = xgb.XGBRegressor(random_state=2)\n",
    "\n",
    "pipe = make_pipeline(all_features, xgr)\n",
    "pipe.fit(X_train, y_train)\n",
    "\n",
    "pipe.predict(X_test)\n",
    "\n",
    "sns.scatterplot(x = pipe.predict(X_test), y = y_test)"
   ]
  },
  {
   "cell_type": "code",
   "execution_count": null,
   "id": "77c571f5",
   "metadata": {},
   "outputs": [],
   "source": [
    "sns.scatterplot(x = pipe.predict(X_train), y = y_train)"
   ]
  },
  {
   "cell_type": "code",
   "execution_count": null,
   "id": "05b00519",
   "metadata": {},
   "outputs": [],
   "source": []
  },
  {
   "cell_type": "code",
   "execution_count": null,
   "id": "82e27dce",
   "metadata": {},
   "outputs": [],
   "source": []
  }
 ],
 "metadata": {
  "kernelspec": {
   "display_name": "Python 3",
   "language": "python",
   "name": "python3"
  },
  "language_info": {
   "codemirror_mode": {
    "name": "ipython",
    "version": 3
   },
   "file_extension": ".py",
   "mimetype": "text/x-python",
   "name": "python",
   "nbconvert_exporter": "python",
   "pygments_lexer": "ipython3",
   "version": "3.8.8"
  }
 },
 "nbformat": 4,
 "nbformat_minor": 5
}
