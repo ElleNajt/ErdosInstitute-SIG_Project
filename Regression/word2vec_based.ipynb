{
 "cells": [
  {
   "cell_type": "code",
   "execution_count": 2,
   "id": "8d065c54",
   "metadata": {},
   "outputs": [
    {
     "name": "stderr",
     "output_type": "stream",
     "text": [
      "[nltk_data] Downloading package stopwords to\n",
      "[nltk_data]     C:\\Users\\lnajt\\AppData\\Roaming\\nltk_data...\n",
      "[nltk_data]   Unzipping corpora\\stopwords.zip.\n"
     ]
    },
    {
     "data": {
      "text/plain": [
       "True"
      ]
     },
     "execution_count": 2,
     "metadata": {},
     "output_type": "execute_result"
    }
   ],
   "source": [
    "# Following: https://towardsdatascience.com/using-word2vec-to-analyze-news-headlines-and-predict-article-success-cdeda5f14751\n",
    "\n",
    "import pandas as pd\n",
    "import gensim\n",
    "import seaborn as sns\n",
    "import matplotlib.pyplot as plt\n",
    "import numpy as np\n",
    "import re\n",
    "import xgboost as xgb\n",
    "import nltk\n",
    "nltk.download('stopwords')"
   ]
  },
  {
   "cell_type": "code",
   "execution_count": 3,
   "id": "fff89246",
   "metadata": {},
   "outputs": [
    {
     "data": {
      "text/html": [
       "<div>\n",
       "<style scoped>\n",
       "    .dataframe tbody tr th:only-of-type {\n",
       "        vertical-align: middle;\n",
       "    }\n",
       "\n",
       "    .dataframe tbody tr th {\n",
       "        vertical-align: top;\n",
       "    }\n",
       "\n",
       "    .dataframe thead th {\n",
       "        text-align: right;\n",
       "    }\n",
       "</style>\n",
       "<table border=\"1\" class=\"dataframe\">\n",
       "  <thead>\n",
       "    <tr style=\"text-align: right;\">\n",
       "      <th></th>\n",
       "      <th>Unnamed: 0</th>\n",
       "      <th>title</th>\n",
       "      <th>author</th>\n",
       "      <th>created_datetime_utc</th>\n",
       "      <th>selftext</th>\n",
       "      <th>url</th>\n",
       "      <th>upvote_ratio</th>\n",
       "      <th>ups</th>\n",
       "      <th>total_awards_received</th>\n",
       "      <th>num_comments</th>\n",
       "      <th>num_crossposts</th>\n",
       "      <th>is_self</th>\n",
       "      <th>is_video</th>\n",
       "      <th>media_only</th>\n",
       "      <th>id</th>\n",
       "      <th>created_utc</th>\n",
       "      <th>selftext_html</th>\n",
       "      <th>author_fullname</th>\n",
       "    </tr>\n",
       "  </thead>\n",
       "  <tbody>\n",
       "    <tr>\n",
       "      <th>0</th>\n",
       "      <td>0</td>\n",
       "      <td>Good time to get on $BLUE</td>\n",
       "      <td>None</td>\n",
       "      <td>2020-01-01 23:53:34</td>\n",
       "      <td>[deleted]\\n</td>\n",
       "      <td>https://www.reddit.com/r/wallstreetbets/commen...</td>\n",
       "      <td>0.75</td>\n",
       "      <td>6</td>\n",
       "      <td>0</td>\n",
       "      <td>17</td>\n",
       "      <td>0</td>\n",
       "      <td>True</td>\n",
       "      <td>False</td>\n",
       "      <td>False</td>\n",
       "      <td>eipxnr</td>\n",
       "      <td>1.577923e+09</td>\n",
       "      <td>&lt;!-- SC_OFF --&gt;&lt;div class=\"md\"&gt;&lt;p&gt;[deleted]&lt;/p...</td>\n",
       "      <td>NaN</td>\n",
       "    </tr>\n",
       "    <tr>\n",
       "      <th>1</th>\n",
       "      <td>1</td>\n",
       "      <td>i wanna buy a call but i don't want to bet too...</td>\n",
       "      <td>None</td>\n",
       "      <td>2020-01-01 23:53:28</td>\n",
       "      <td>[removed]\\n</td>\n",
       "      <td>https://www.reddit.com/r/wallstreetbets/commen...</td>\n",
       "      <td>0.45</td>\n",
       "      <td>0</td>\n",
       "      <td>0</td>\n",
       "      <td>22</td>\n",
       "      <td>0</td>\n",
       "      <td>True</td>\n",
       "      <td>False</td>\n",
       "      <td>False</td>\n",
       "      <td>eipxm4</td>\n",
       "      <td>1.577923e+09</td>\n",
       "      <td>&lt;!-- SC_OFF --&gt;&lt;div class=\"md\"&gt;&lt;p&gt;[removed]&lt;/p...</td>\n",
       "      <td>NaN</td>\n",
       "    </tr>\n",
       "    <tr>\n",
       "      <th>2</th>\n",
       "      <td>2</td>\n",
       "      <td>Buy INTU - DD</td>\n",
       "      <td>unclerudy</td>\n",
       "      <td>2020-01-01 23:50:05</td>\n",
       "      <td>https://www.schaeffersresearch.com/content/ana...</td>\n",
       "      <td>https://www.reddit.com/r/wallstreetbets/commen...</td>\n",
       "      <td>0.70</td>\n",
       "      <td>5</td>\n",
       "      <td>0</td>\n",
       "      <td>4</td>\n",
       "      <td>0</td>\n",
       "      <td>True</td>\n",
       "      <td>False</td>\n",
       "      <td>False</td>\n",
       "      <td>eipw3g</td>\n",
       "      <td>1.577923e+09</td>\n",
       "      <td>&lt;!-- SC_OFF --&gt;&lt;div class=\"md\"&gt;&lt;p&gt;&lt;a href=\"htt...</td>\n",
       "      <td>t2_7uwqo</td>\n",
       "    </tr>\n",
       "    <tr>\n",
       "      <th>3</th>\n",
       "      <td>3</td>\n",
       "      <td>If you thought your 2019 was bad, at least you...</td>\n",
       "      <td>bd_one</td>\n",
       "      <td>2020-01-01 23:47:09</td>\n",
       "      <td>NaN</td>\n",
       "      <td>https://i.imgflip.com/3kywdh.jpg</td>\n",
       "      <td>1.00</td>\n",
       "      <td>1</td>\n",
       "      <td>0</td>\n",
       "      <td>1</td>\n",
       "      <td>0</td>\n",
       "      <td>False</td>\n",
       "      <td>False</td>\n",
       "      <td>False</td>\n",
       "      <td>eipusd</td>\n",
       "      <td>1.577922e+09</td>\n",
       "      <td>NaN</td>\n",
       "      <td>t2_13de6v</td>\n",
       "    </tr>\n",
       "    <tr>\n",
       "      <th>4</th>\n",
       "      <td>4</td>\n",
       "      <td>I will remember</td>\n",
       "      <td>IpMedia</td>\n",
       "      <td>2020-01-01 23:30:47</td>\n",
       "      <td>[removed]\\n</td>\n",
       "      <td>https://www.reddit.com/r/wallstreetbets/commen...</td>\n",
       "      <td>0.86</td>\n",
       "      <td>11</td>\n",
       "      <td>0</td>\n",
       "      <td>4</td>\n",
       "      <td>0</td>\n",
       "      <td>True</td>\n",
       "      <td>False</td>\n",
       "      <td>False</td>\n",
       "      <td>eipn7c</td>\n",
       "      <td>1.577921e+09</td>\n",
       "      <td>&lt;!-- SC_OFF --&gt;&lt;div class=\"md\"&gt;&lt;p&gt;[removed]&lt;/p...</td>\n",
       "      <td>t2_bhcyy</td>\n",
       "    </tr>\n",
       "  </tbody>\n",
       "</table>\n",
       "</div>"
      ],
      "text/plain": [
       "   Unnamed: 0                                              title     author  \\\n",
       "0           0                          Good time to get on $BLUE       None   \n",
       "1           1  i wanna buy a call but i don't want to bet too...       None   \n",
       "2           2                                      Buy INTU - DD  unclerudy   \n",
       "3           3  If you thought your 2019 was bad, at least you...     bd_one   \n",
       "4           4                                    I will remember    IpMedia   \n",
       "\n",
       "  created_datetime_utc                                           selftext  \\\n",
       "0  2020-01-01 23:53:34                                        [deleted]\\n   \n",
       "1  2020-01-01 23:53:28                                        [removed]\\n   \n",
       "2  2020-01-01 23:50:05  https://www.schaeffersresearch.com/content/ana...   \n",
       "3  2020-01-01 23:47:09                                                NaN   \n",
       "4  2020-01-01 23:30:47                                        [removed]\\n   \n",
       "\n",
       "                                                 url  upvote_ratio  ups  \\\n",
       "0  https://www.reddit.com/r/wallstreetbets/commen...          0.75    6   \n",
       "1  https://www.reddit.com/r/wallstreetbets/commen...          0.45    0   \n",
       "2  https://www.reddit.com/r/wallstreetbets/commen...          0.70    5   \n",
       "3                   https://i.imgflip.com/3kywdh.jpg          1.00    1   \n",
       "4  https://www.reddit.com/r/wallstreetbets/commen...          0.86   11   \n",
       "\n",
       "   total_awards_received  num_comments  num_crossposts  is_self  is_video  \\\n",
       "0                      0            17               0     True     False   \n",
       "1                      0            22               0     True     False   \n",
       "2                      0             4               0     True     False   \n",
       "3                      0             1               0    False     False   \n",
       "4                      0             4               0     True     False   \n",
       "\n",
       "   media_only      id   created_utc  \\\n",
       "0       False  eipxnr  1.577923e+09   \n",
       "1       False  eipxm4  1.577923e+09   \n",
       "2       False  eipw3g  1.577923e+09   \n",
       "3       False  eipusd  1.577922e+09   \n",
       "4       False  eipn7c  1.577921e+09   \n",
       "\n",
       "                                       selftext_html author_fullname  \n",
       "0  <!-- SC_OFF --><div class=\"md\"><p>[deleted]</p...             NaN  \n",
       "1  <!-- SC_OFF --><div class=\"md\"><p>[removed]</p...             NaN  \n",
       "2  <!-- SC_OFF --><div class=\"md\"><p><a href=\"htt...        t2_7uwqo  \n",
       "3                                                NaN       t2_13de6v  \n",
       "4  <!-- SC_OFF --><div class=\"md\"><p>[removed]</p...        t2_bhcyy  "
      ]
     },
     "execution_count": 3,
     "metadata": {},
     "output_type": "execute_result"
    }
   ],
   "source": [
    "main_data = pd.read_csv('../Data/wsb_cleaned.csv')\n",
    "main_data.head()"
   ]
  },
  {
   "cell_type": "code",
   "execution_count": 4,
   "id": "ec47c2dd",
   "metadata": {},
   "outputs": [],
   "source": [
    "regex = re.compile('[^a-zA-Z ]')\n",
    "for col in ['title', 'author', 'selftext']:\n",
    "    main_data[col] = main_data[col].apply(lambda x : regex.sub('', str(x).lower() ))"
   ]
  },
  {
   "cell_type": "code",
   "execution_count": 5,
   "id": "34093a0b",
   "metadata": {},
   "outputs": [],
   "source": [
    "article_titles = main_data['title']\n",
    "titles_list = [title for title in article_titles]"
   ]
  },
  {
   "cell_type": "code",
   "execution_count": 6,
   "id": "bdd59d16",
   "metadata": {},
   "outputs": [],
   "source": [
    "big_title_string = ' '.join(titles_list)\n",
    "\n",
    "from nltk.tokenize import word_tokenize"
   ]
  },
  {
   "cell_type": "code",
   "execution_count": 7,
   "id": "3bb1fe7b",
   "metadata": {},
   "outputs": [],
   "source": [
    "tokens = word_tokenize(big_title_string)"
   ]
  },
  {
   "cell_type": "code",
   "execution_count": 8,
   "id": "c8c57ddb",
   "metadata": {},
   "outputs": [],
   "source": [
    "words = [word.lower() for word in tokens if word.isalpha()]"
   ]
  },
  {
   "cell_type": "code",
   "execution_count": 9,
   "id": "8a6692fe",
   "metadata": {},
   "outputs": [],
   "source": [
    "from nltk.corpus import stopwords\n",
    "stop_words = set(stopwords.words('english'))\n",
    "\n",
    "words = [word for word in words if not word in stop_words]"
   ]
  },
  {
   "cell_type": "code",
   "execution_count": 10,
   "id": "7fe0e8a9",
   "metadata": {},
   "outputs": [
    {
     "data": {
      "text/plain": [
       "['good', 'time', 'get', 'blue', 'wan', 'na', 'buy', 'call', 'dont', 'want']"
      ]
     },
     "execution_count": 10,
     "metadata": {},
     "output_type": "execute_result"
    }
   ],
   "source": [
    "words[:10]"
   ]
  },
  {
   "cell_type": "code",
   "execution_count": 13,
   "id": "bca7b682",
   "metadata": {},
   "outputs": [],
   "source": [
    "text = main_data['title']\n",
    "\n",
    "#sentences = [nltk.word_tokenize(sent) for sent in nltk.sent_tokenize(text)]\n",
    "sentences = [x.split(' ') for x in text]\n",
    "\n",
    "model = gensim.models.Word2Vec(sentences = sentences,  min_count=10, vector_size=200, epochs = 4)\n"
   ]
  },
  {
   "cell_type": "code",
   "execution_count": null,
   "id": "2b1db608",
   "metadata": {},
   "outputs": [],
   "source": [
    "# Filter the list of vectors to include only those that Word2Vec has a vector for\n",
    "vector_list = [model[word] for word in words if word in model.vocab]\n",
    "\n",
    "# Create a list of the words corresponding to these vectors\n",
    "words_filtered = [word for word in words if word in model.vocab]\n",
    "\n",
    "# Zip the words together with their vector representations\n",
    "word_vec_zip = zip(words_filtered, vector_list)\n",
    "\n",
    "# Cast to a dict so we can turn it into a DataFrame\n",
    "word_vec_dict = dict(word_vec_zip)\n",
    "df = pd.DataFrame.from_dict(word_vec_dict, orient='index')\n",
    "df.head(3)"
   ]
  },
  {
   "cell_type": "code",
   "execution_count": null,
   "id": "5d5b4a55",
   "metadata": {},
   "outputs": [],
   "source": [
    "from sklearn.manifold import TSNE\n",
    "\n",
    "# Initialize t-SNE\n",
    "tsne = TSNE(n_components = 2, init = 'random', random_state = 10, perplexity = 100)\n",
    "\n",
    "# Use only 400 rows to shorten processing time\n",
    "tsne_df = tsne.fit_transform(df[:400])"
   ]
  }
 ],
 "metadata": {
  "kernelspec": {
   "display_name": "Python 3",
   "language": "python",
   "name": "python3"
  },
  "language_info": {
   "codemirror_mode": {
    "name": "ipython",
    "version": 3
   },
   "file_extension": ".py",
   "mimetype": "text/x-python",
   "name": "python",
   "nbconvert_exporter": "python",
   "pygments_lexer": "ipython3",
   "version": "3.8.8"
  }
 },
 "nbformat": 4,
 "nbformat_minor": 5
}
