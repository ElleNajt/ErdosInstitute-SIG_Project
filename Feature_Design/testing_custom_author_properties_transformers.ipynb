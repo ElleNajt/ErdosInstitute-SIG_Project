{
 "cells": [
  {
   "cell_type": "code",
   "execution_count": 44,
   "id": "1ac32447",
   "metadata": {},
   "outputs": [],
   "source": [
    "import pandas as pd\n",
    "from author_properties_transformers import author_influence\n",
    "\n",
    "\n",
    "\n",
    "from datetime import timezone, datetime\n",
    "from sklearn.model_selection import train_test_split\n",
    "\n",
    "from sklearn.svm import SVC\n",
    "\n",
    "from sklearn.linear_model import LinearRegression\n",
    "from sklearn.preprocessing import StandardScaler\n",
    "from sklearn.datasets import make_classification\n",
    "from sklearn.model_selection import train_test_split\n",
    "from sklearn.pipeline import Pipeline\n",
    "from sklearn.compose import ColumnTransformer, make_column_transformer\n",
    "from sklearn.pipeline import FeatureUnion\n",
    "from sklearn.pipeline import make_pipeline, make_union\n",
    "from sklearn.model_selection import cross_val_score\n",
    "\n",
    "from sklearn.preprocessing import FunctionTransformer\n",
    "import seaborn as sns"
   ]
  },
  {
   "cell_type": "code",
   "execution_count": 26,
   "id": "38c74e77",
   "metadata": {},
   "outputs": [
    {
     "name": "stderr",
     "output_type": "stream",
     "text": [
      "C:\\Users\\lnajt\\anaconda3\\envs\\Erdos_Institute\\lib\\site-packages\\IPython\\core\\interactiveshell.py:3169: DtypeWarning: Columns (79,88,117,118,119,122,123,124,125) have mixed types.Specify dtype option on import or set low_memory=False.\n",
      "  has_raised = await self.run_ast_nodes(code_ast.body, cell_name,\n"
     ]
    }
   ],
   "source": [
    "df = pd.read_csv(\"../Data/wsb_full_not_deleted_withdt.csv\")\n",
    "\n",
    "df = df.loc[df.author != \"None\"]\n"
   ]
  },
  {
   "cell_type": "code",
   "execution_count": 46,
   "id": "d89501dc",
   "metadata": {},
   "outputs": [],
   "source": [
    "\n",
    "df [\"created_datetime_utc\"] = df[\"created_utc\"].apply(datetime.utcfromtimestamp)\n"
   ]
  },
  {
   "cell_type": "code",
   "execution_count": 47,
   "id": "a89bcc97",
   "metadata": {},
   "outputs": [],
   "source": [
    "df_cleaned = df[ [  'id', 'title', 'author', 'ups', 'created_datetime_utc']]"
   ]
  },
  {
   "cell_type": "code",
   "execution_count": 3,
   "id": "ccd10e6b",
   "metadata": {},
   "outputs": [],
   "source": []
  },
  {
   "cell_type": "code",
   "execution_count": 29,
   "id": "2765679b",
   "metadata": {
    "scrolled": false
   },
   "outputs": [
    {
     "data": {
      "text/plain": [
       "'\\n\\nfor summary_type in [\\'sum\\', \\'mean\\', \\'median\\', \\'count\\' ]:\\n    pop_agg = author_influence()\\n    pop_agg.kind = summary_type\\n    pop_agg.fit(df)\\n    df[\"agg\" + summary_type] = pop_agg.transform(df)\\n    print(\"finished with\", summary_type)\\n    \\ndf\\n\\n'"
      ]
     },
     "execution_count": 29,
     "metadata": {},
     "output_type": "execute_result"
    }
   ],
   "source": [
    "'''\n",
    "\n",
    "for summary_type in ['sum', 'mean', 'median', 'count' ]:\n",
    "    pop_agg = author_influence()\n",
    "    pop_agg.kind = summary_type\n",
    "    pop_agg.fit(df_cleaned)\n",
    "    df_cleaned[\"agg\" + summary_type] = pop_agg.transform(df)\n",
    "    print(\"finished with\", summary_type)\n",
    "    \n",
    "df_cleaned\n",
    "\n",
    "'''\n",
    "#"
   ]
  },
  {
   "cell_type": "code",
   "execution_count": 66,
   "id": "679e19eb",
   "metadata": {},
   "outputs": [
    {
     "data": {
      "text/plain": [
       "2"
      ]
     },
     "execution_count": 66,
     "metadata": {},
     "output_type": "execute_result"
    }
   ],
   "source": [
    "df_cleaned.created_datetime_utc[0].weekday()"
   ]
  },
  {
   "cell_type": "code",
   "execution_count": 69,
   "id": "f13337b6",
   "metadata": {},
   "outputs": [
    {
     "name": "stderr",
     "output_type": "stream",
     "text": [
      "<ipython-input-69-109eaf30f3f1>:1: SettingWithCopyWarning: \n",
      "A value is trying to be set on a copy of a slice from a DataFrame.\n",
      "Try using .loc[row_indexer,col_indexer] = value instead\n",
      "\n",
      "See the caveats in the documentation: https://pandas.pydata.org/pandas-docs/stable/user_guide/indexing.html#returning-a-view-versus-a-copy\n",
      "  df_cleaned['weektime'] = df_cleaned['created_datetime_utc'].apply( lambda x : x.weekday()*24 + x.hour)\n",
      "<ipython-input-69-109eaf30f3f1>:2: SettingWithCopyWarning: \n",
      "A value is trying to be set on a copy of a slice from a DataFrame.\n",
      "Try using .loc[row_indexer,col_indexer] = value instead\n",
      "\n",
      "See the caveats in the documentation: https://pandas.pydata.org/pandas-docs/stable/user_guide/indexing.html#returning-a-view-versus-a-copy\n",
      "  df_cleaned['time_of_day'] = df_cleaned['created_datetime_utc'].apply( lambda x : x.hour)\n"
     ]
    }
   ],
   "source": [
    "df_cleaned['weektime'] = df_cleaned['created_datetime_utc'].apply( lambda x : x.weekday()*24 + x.hour)\n",
    "df_cleaned['time_of_day'] = df_cleaned['created_datetime_utc'].apply( lambda x : x.hour)"
   ]
  },
  {
   "cell_type": "code",
   "execution_count": null,
   "id": "a27e6963",
   "metadata": {},
   "outputs": [],
   "source": []
  },
  {
   "cell_type": "code",
   "execution_count": 6,
   "id": "4d5b7e8f",
   "metadata": {},
   "outputs": [],
   "source": []
  },
  {
   "cell_type": "code",
   "execution_count": 32,
   "id": "2e60cb89",
   "metadata": {},
   "outputs": [],
   "source": [
    "author_stat_features = FeatureUnion([('aggsum', author_influence(kind = 'sum')), \n",
    "                           ('aggmean', author_influence(kind = 'mean')), \n",
    "                           ('aggmedian', author_influence(kind = 'median')),\n",
    "                            ('aggcount', author_influence(kind = 'count'))\n",
    "                           \n",
    "                           ])\n",
    "# testing:\n",
    "# todo: make sure that nothing gets modified inplace that shouldnt be...\n",
    "# author_stat_features\n",
    "# author_stat_features.fit(df)\n",
    "# pd.DataFrame(author_stat_features.transform(df))\n"
   ]
  },
  {
   "cell_type": "code",
   "execution_count": 70,
   "id": "031de300",
   "metadata": {},
   "outputs": [
    {
     "data": {
      "text/plain": [
       "array([[71, 23],\n",
       "       [71, 23],\n",
       "       [70, 22],\n",
       "       ...,\n",
       "       [43, 19],\n",
       "       [43, 19],\n",
       "       [43, 19]], dtype=int64)"
      ]
     },
     "execution_count": 70,
     "metadata": {},
     "output_type": "execute_result"
    }
   ],
   "source": [
    "\n",
    "time_features = make_union( make_column_transformer(  (FunctionTransformer(lambda x : x), [\"weektime\", \"time_of_day\"] ),\n",
    "                                                   )            \n",
    "                          )\n",
    "\n",
    "#time_features.fit_transform(df_cleaned)\n"
   ]
  },
  {
   "cell_type": "code",
   "execution_count": null,
   "id": "cd7378ab",
   "metadata": {},
   "outputs": [],
   "source": [
    "nlp_features = FeatureUnion([\n",
    "    \n",
    "    \n",
    "    \n",
    "    \n",
    "])"
   ]
  },
  {
   "cell_type": "code",
   "execution_count": null,
   "id": "d804aeaf",
   "metadata": {},
   "outputs": [],
   "source": []
  },
  {
   "cell_type": "code",
   "execution_count": 71,
   "id": "3b1abd89",
   "metadata": {},
   "outputs": [],
   "source": [
    "\n",
    "\n",
    "all_features = make_union ( author_stat_features, time_features )"
   ]
  },
  {
   "cell_type": "code",
   "execution_count": 72,
   "id": "19d7c9a3",
   "metadata": {},
   "outputs": [],
   "source": [
    "lr = LinearRegression()\n",
    "\n",
    "pipe = make_pipeline(all_features, lr)"
   ]
  },
  {
   "cell_type": "code",
   "execution_count": 74,
   "id": "e5bc6c79",
   "metadata": {
    "scrolled": true
   },
   "outputs": [
    {
     "data": {
      "text/plain": [
       "<AxesSubplot:ylabel='ups'>"
      ]
     },
     "execution_count": 74,
     "metadata": {},
     "output_type": "execute_result"
    },
    {
     "data": {
      "image/png": "[encoded data removed]",
      "text/plain": [
       "<Figure size 432x288 with 1 Axes>"
      ]
     },
     "metadata": {
      "needs_background": "light"
     },
     "output_type": "display_data"
    }
   ],
   "source": [
    "\n",
    "\n",
    "X_train, X_test, y_train, y_test = train_test_split(df_cleaned, df_cleaned.ups,\n",
    "                                                    random_state=0)\n",
    "\n",
    "pipe.fit(X_train, y_train)\n",
    "\n",
    "pipe.predict(X_test)\n",
    "\n",
    "sns.scatterplot(x = pipe.predict(X_test), y = y_test)"
   ]
  },
  {
   "cell_type": "code",
   "execution_count": 75,
   "id": "6c5a7cef",
   "metadata": {},
   "outputs": [
    {
     "data": {
      "text/plain": [
       "<AxesSubplot:ylabel='ups'>"
      ]
     },
     "execution_count": 75,
     "metadata": {},
     "output_type": "execute_result"
    },
    {
     "data": {
      "image/png": "[encoded data removed]",
      "text/plain": [
       "<Figure size 432x288 with 1 Axes>"
      ]
     },
     "metadata": {
      "needs_background": "light"
     },
     "output_type": "display_data"
    }
   ],
   "source": [
    "sns.scatterplot(x = pipe.predict(X_train), y = y_train)"
   ]
  },
  {
   "cell_type": "code",
   "execution_count": 78,
   "id": "c764825c",
   "metadata": {},
   "outputs": [],
   "source": [
    "\n",
    "scores = cross_val_score(pipe, df_cleaned, df_cleaned.ups)"
   ]
  },
  {
   "cell_type": "code",
   "execution_count": 79,
   "id": "e714b64f",
   "metadata": {},
   "outputs": [
    {
     "data": {
      "text/plain": [
       "array([-0.06274774, -0.3992471 , -0.08701835, -0.44122021, -0.01894692])"
      ]
     },
     "execution_count": 79,
     "metadata": {},
     "output_type": "execute_result"
    }
   ],
   "source": [
    "scores"
   ]
  },
  {
   "cell_type": "code",
   "execution_count": null,
   "id": "9b747bc1",
   "metadata": {},
   "outputs": [],
   "source": []
  },
  {
   "cell_type": "code",
   "execution_count": null,
   "id": "552955bf",
   "metadata": {},
   "outputs": [],
   "source": []
  },
  {
   "cell_type": "code",
   "execution_count": null,
   "id": "f4151bc8",
   "metadata": {},
   "outputs": [],
   "source": []
  },
  {
   "cell_type": "code",
   "execution_count": null,
   "id": "5306921f",
   "metadata": {},
   "outputs": [],
   "source": []
  },
  {
   "cell_type": "code",
   "execution_count": null,
   "id": "b819b659",
   "metadata": {},
   "outputs": [],
   "source": []
  }
 ],
 "metadata": {
  "kernelspec": {
   "display_name": "Python 3",
   "language": "python",
   "name": "python3"
  },
  "language_info": {
   "codemirror_mode": {
    "name": "ipython",
    "version": 3
   },
   "file_extension": ".py",
   "mimetype": "text/x-python",
   "name": "python",
   "nbconvert_exporter": "python",
   "pygments_lexer": "ipython3",
   "version": "3.8.8"
  }
 },
 "nbformat": 4,
 "nbformat_minor": 5
}
