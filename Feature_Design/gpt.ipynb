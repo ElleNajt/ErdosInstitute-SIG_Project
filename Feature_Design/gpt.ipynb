{
 "cells": [
  {
   "cell_type": "code",
   "execution_count": null,
   "id": "18f7f010",
   "metadata": {},
   "outputs": [],
   "source": [
    "https://d4mucfpksywv.cloudfront.net/better-language-models/language-models.pdf\n",
    "\n",
    "    https://gmihaila.github.io/tutorial_notebooks/gpt2_finetune_classification/#complete-tutorial-on-how-to-use-gpt2-for-text-classification"
   ]
  },
  {
   "cell_type": "code",
   "execution_count": null,
   "id": "e4b82a24",
   "metadata": {},
   "outputs": [],
   "source": [
    "https://medium.com/ai-innovation/beginners-guide-to-retrain-gpt-2-117m-to-generate-custom-text-content-8bb5363d8b7f"
   ]
  },
  {
   "cell_type": "code",
   "execution_count": null,
   "id": "4bdcd8a7",
   "metadata": {},
   "outputs": [],
   "source": [
    "Ideas:\n",
    "    \n",
    "    1. Use huggingface to predict duds, use this as a feature\n",
    "    2.\n",
    "    \n",
    "Resources:\n",
    "    \n",
    "    https://jalammar.github.io/illustrated-gpt2/\n",
    "        https://jalammar.github.io/illustrated-transformer/"
   ]
  }
 ],
 "metadata": {
  "kernelspec": {
   "display_name": "Python 3",
   "language": "python",
   "name": "python3"
  },
  "language_info": {
   "codemirror_mode": {
    "name": "ipython",
    "version": 3
   },
   "file_extension": ".py",
   "mimetype": "text/x-python",
   "name": "python",
   "nbconvert_exporter": "python",
   "pygments_lexer": "ipython3",
   "version": "3.8.8"
  }
 },
 "nbformat": 4,
 "nbformat_minor": 5
}
