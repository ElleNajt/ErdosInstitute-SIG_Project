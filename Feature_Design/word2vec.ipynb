{
 "cells": [
  {
   "cell_type": "code",
   "execution_count": null,
   "id": "587f7091",
   "metadata": {},
   "outputs": [],
   "source": [
    "# https://medium.com/@black_swan/how-to-train-word2vec-and-fasttext-embedding-on-wikipedia-corpus-9e8ac45a0c0a\n",
    "# https://radimrehurek.com/gensim/auto_examples/tutorials/run_word2vec.html"
   ]
  },
  {
   "cell_type": "markdown",
   "id": "83420d44",
   "metadata": {},
   "source": []
  },
  {
   "cell_type": "code",
   "execution_count": 72,
   "id": "6b33a2f9",
   "metadata": {},
   "outputs": [],
   "source": [
    "import pandas as pd\n",
    "import praw\n",
    "import re\n",
    "import nltk\n",
    "import gensim.models\n",
    "from sklearn.model_selection import train_test_split\n",
    "import xgboost as xgb"
   ]
  },
  {
   "cell_type": "code",
   "execution_count": 2,
   "id": "ad5feda7",
   "metadata": {},
   "outputs": [],
   "source": [
    "df = pd.read_csv(\"../Data/wsb_cleaned.csv\")"
   ]
  },
  {
   "cell_type": "code",
   "execution_count": 35,
   "id": "1c7880b3",
   "metadata": {},
   "outputs": [],
   "source": [
    "regex = re.compile('[^a-zA-Z ]')\n",
    "for col in ['title', 'author', 'selftext']:\n",
    "    df[col] = df[col].apply(lambda x : regex.sub('', str(x).lower() ))"
   ]
  },
  {
   "cell_type": "code",
   "execution_count": 114,
   "id": "7405c9f7",
   "metadata": {
    "scrolled": true
   },
   "outputs": [],
   "source": [
    "text = df['title'].append(df['selftext'])\n",
    "\n",
    "#sentences = [nltk.word_tokenize(sent) for sent in nltk.sent_tokenize(text)]\n",
    "sentences = [x.split(' ') for x in text]"
   ]
  },
  {
   "cell_type": "code",
   "execution_count": 6,
   "id": "44a6ce41",
   "metadata": {},
   "outputs": [
    {
     "name": "stderr",
     "output_type": "stream",
     "text": [
      "[nltk_data] Downloading package punkt to\n",
      "[nltk_data]     C:\\Users\\lnajt\\AppData\\Roaming\\nltk_data...\n",
      "[nltk_data]   Unzipping tokenizers\\punkt.zip.\n"
     ]
    },
    {
     "data": {
      "text/plain": [
       "True"
      ]
     },
     "execution_count": 6,
     "metadata": {},
     "output_type": "execute_result"
    }
   ],
   "source": [
    "#nltk.download('punkt')"
   ]
  },
  {
   "cell_type": "code",
   "execution_count": 115,
   "id": "b0e98610",
   "metadata": {},
   "outputs": [],
   "source": [
    "\n",
    "model = gensim.models.Word2Vec(sentences = sentences,  min_count=10, vector_size=200, epochs = 4)\n"
   ]
  },
  {
   "cell_type": "code",
   "execution_count": 47,
   "id": "cd5b73d2",
   "metadata": {},
   "outputs": [],
   "source": [
    "model_fasttext = gensim.models.FastText(sentences = sentences,  min_count=10, vector_size=200, epochs = 4)\n",
    "\n"
   ]
  },
  {
   "cell_type": "code",
   "execution_count": null,
   "id": "3c8cec83",
   "metadata": {},
   "outputs": [],
   "source": []
  },
  {
   "cell_type": "code",
   "execution_count": null,
   "id": "d508fbca",
   "metadata": {},
   "outputs": [],
   "source": []
  },
  {
   "cell_type": "code",
   "execution_count": 48,
   "id": "844d17e6",
   "metadata": {},
   "outputs": [
    {
     "name": "stdout",
     "output_type": "stream",
     "text": [
      "\"vive\"\t- similarity: 0.302227\n",
      "\n",
      "\"visualize\"\t- similarity: 0.300375\n",
      "\n",
      "\"teach\"\t- similarity: 0.296075\n",
      "\n",
      "\"edu\"\t- similarity: 0.295767\n",
      "\n",
      "\"learn\"\t- similarity: 0.292563\n",
      "\n",
      "\"warn\"\t- similarity: 0.292214\n",
      "\n",
      "\"educate\"\t- similarity: 0.288621\n",
      "\n",
      "\"remake\"\t- similarity: 0.282363\n",
      "\n",
      "\"visuals\"\t- similarity: 0.273877\n",
      "\n",
      "\"smoothie\"\t- similarity: 0.271559\n",
      "\n"
     ]
    }
   ],
   "source": [
    "for word, sim in model_fasttext.wv.most_similar(positive=['GME'], negative=[]):\n",
    "    print('\\\"%s\\\"\\t- similarity: %g' % (word, sim))\n",
    "    print('')"
   ]
  },
  {
   "cell_type": "code",
   "execution_count": 49,
   "id": "635ac19a",
   "metadata": {
    "scrolled": true
   },
   "outputs": [
    {
     "name": "stdout",
     "output_type": "stream",
     "text": [
      "\"amc\"\t- similarity: 0.584522\n",
      "\n",
      "\"nok\"\t- similarity: 0.571974\n",
      "\n",
      "\"bb\"\t- similarity: 0.565357\n",
      "\n",
      "\"gamestop\"\t- similarity: 0.539042\n",
      "\n",
      "\"cashapp\"\t- similarity: 0.518773\n",
      "\n",
      "\"pltr\"\t- similarity: 0.482038\n",
      "\n",
      "\"shares\"\t- similarity: 0.480966\n",
      "\n",
      "\"gmeamc\"\t- similarity: 0.459523\n",
      "\n",
      "\"tsla\"\t- similarity: 0.452893\n",
      "\n",
      "\"it\"\t- similarity: 0.451687\n",
      "\n"
     ]
    }
   ],
   "source": [
    "for word, sim in model.wv.most_similar(positive=['gme'], negative=[]):\n",
    "    print('\\\"%s\\\"\\t- similarity: %g' % (word, sim))\n",
    "    print('')"
   ]
  },
  {
   "cell_type": "code",
   "execution_count": 50,
   "id": "ccee8426",
   "metadata": {},
   "outputs": [
    {
     "name": "stdout",
     "output_type": "stream",
     "text": [
      "\"tendiesyall\"\t- similarity: 0.912922\n",
      "\n",
      "\"tendiez\"\t- similarity: 0.869282\n",
      "\n",
      "\"undies\"\t- similarity: 0.808194\n",
      "\n",
      "\"tendieland\"\t- similarity: 0.807916\n",
      "\n",
      "\"tendys\"\t- similarity: 0.800977\n",
      "\n",
      "\"tendie\"\t- similarity: 0.792897\n",
      "\n",
      "\"trendies\"\t- similarity: 0.778332\n",
      "\n",
      "\"bodies\"\t- similarity: 0.771447\n",
      "\n",
      "\"tendietown\"\t- similarity: 0.76978\n",
      "\n",
      "\"tendy\"\t- similarity: 0.764926\n",
      "\n"
     ]
    }
   ],
   "source": [
    "for word, sim in model_fasttext.wv.most_similar(positive=['tendies']):\n",
    "    print('\\\"%s\\\"\\t- similarity: %g' % (word, sim))\n",
    "    print('')"
   ]
  },
  {
   "cell_type": "code",
   "execution_count": 51,
   "id": "32808b2e",
   "metadata": {},
   "outputs": [
    {
     "name": "stdout",
     "output_type": "stream",
     "text": [
      "\"trendies\"\t- similarity: 0.731896\n",
      "\n",
      "\"gains\"\t- similarity: 0.604199\n",
      "\n",
      "\"bananas\"\t- similarity: 0.594028\n",
      "\n",
      "\"monies\"\t- similarity: 0.581953\n",
      "\n",
      "\"tenders\"\t- similarity: 0.57616\n",
      "\n",
      "\"gainz\"\t- similarity: 0.570759\n",
      "\n",
      "\"money\"\t- similarity: 0.541298\n",
      "\n",
      "\"profits\"\t- similarity: 0.530584\n",
      "\n",
      "\"crayons\"\t- similarity: 0.519749\n",
      "\n",
      "\"dreams\"\t- similarity: 0.516581\n",
      "\n"
     ]
    }
   ],
   "source": [
    "for word, sim in model.wv.most_similar(positive=['tendies']):\n",
    "    print('\\\"%s\\\"\\t- similarity: %g' % (word, sim))\n",
    "    print('')"
   ]
  },
  {
   "cell_type": "code",
   "execution_count": 52,
   "id": "5d9338b9",
   "metadata": {},
   "outputs": [
    {
     "name": "stdout",
     "output_type": "stream",
     "text": [
      "\"boomers\"\t- similarity: 0.706596\n",
      "\n",
      "\"redditors\"\t- similarity: 0.635294\n",
      "\n",
      "\"journalists\"\t- similarity: 0.633112\n",
      "\n",
      "\"shills\"\t- similarity: 0.632009\n",
      "\n",
      "\"millennials\"\t- similarity: 0.622998\n",
      "\n",
      "\"algos\"\t- similarity: 0.617824\n",
      "\n",
      "\"wsbers\"\t- similarity: 0.600478\n",
      "\n",
      "\"elites\"\t- similarity: 0.592713\n",
      "\n",
      "\"rinvesting\"\t- similarity: 0.585464\n",
      "\n",
      "\"fags\"\t- similarity: 0.572962\n",
      "\n"
     ]
    }
   ],
   "source": [
    "for word, sim in model.wv.most_similar(positive=['normies']):\n",
    "    print('\\\"%s\\\"\\t- similarity: %g' % (word, sim))\n",
    "    print('')"
   ]
  },
  {
   "cell_type": "code",
   "execution_count": 53,
   "id": "7a3d736b",
   "metadata": {},
   "outputs": [
    {
     "name": "stdout",
     "output_type": "stream",
     "text": [
      "\"redditor\"\t- similarity: 0.567007\n",
      "\n",
      "\"retard\"\t- similarity: 0.563351\n",
      "\n",
      "\"idiot\"\t- similarity: 0.542493\n",
      "\n",
      "\"tard\"\t- similarity: 0.525727\n",
      "\n",
      "\"ape\"\t- similarity: 0.520383\n",
      "\n",
      "\"dumbass\"\t- similarity: 0.514155\n",
      "\n",
      "\"brother\"\t- similarity: 0.50391\n",
      "\n",
      "\"degenerate\"\t- similarity: 0.501423\n",
      "\n",
      "\"member\"\t- similarity: 0.499434\n",
      "\n",
      "\"family\"\t- similarity: 0.480303\n",
      "\n"
     ]
    }
   ],
   "source": [
    "for word, sim in model.wv.most_similar(positive=['autist', 'friends'], negative = ['tendies']):\n",
    "    print('\\\"%s\\\"\\t- similarity: %g' % (word, sim))\n",
    "    print('')"
   ]
  },
  {
   "cell_type": "code",
   "execution_count": 9,
   "id": "4f8e1c2c",
   "metadata": {},
   "outputs": [],
   "source": [
    "## Saving and loading\n",
    "\n",
    "import tempfile\n",
    "\n",
    "with tempfile.NamedTemporaryFile(prefix='gensim-model-', delete=False) as tmp:\n",
    "    temporary_filepath = tmp.name\n",
    "    model.save(temporary_filepath)\n",
    "    #\n",
    "    # The model is now safely stored in the filepath.\n",
    "    # You can copy it to other machines, share it with others, etc.\n",
    "    #\n",
    "    # To load a saved model:\n",
    "    #\n",
    "    new_model = gensim.models.Word2Vec.load(temporary_filepath)"
   ]
  },
  {
   "cell_type": "markdown",
   "id": "08779190",
   "metadata": {},
   "source": [
    "Some preliminary regression /classification below -- this is slated to get moved"
   ]
  },
  {
   "cell_type": "code",
   "execution_count": 92,
   "id": "6f1c806e",
   "metadata": {},
   "outputs": [],
   "source": [
    "def average_vector(text, model):\n",
    "    present_keys = [x for x in text if x in model.wv.key_to_index ]\n",
    "    if not present_keys:\n",
    "        return [0] * len( model.wv[ model.wv.index_to_key[0]])\n",
    "    return sum( [model.wv[x] for x in present_keys] ) /len(present_keys)"
   ]
  },
  {
   "cell_type": "code",
   "execution_count": 93,
   "id": "55a4791d",
   "metadata": {},
   "outputs": [],
   "source": [
    "df['avg_vector'] = df['title'].apply(lambda x : average_vector(x, model))"
   ]
  },
  {
   "cell_type": "code",
   "execution_count": 94,
   "id": "555e7dab",
   "metadata": {
    "scrolled": true
   },
   "outputs": [],
   "source": [
    "X = np.vstack(df['avg_vector'].to_numpy())\n",
    "y = df['ups']"
   ]
  },
  {
   "cell_type": "code",
   "execution_count": 95,
   "id": "f182f253",
   "metadata": {},
   "outputs": [
    {
     "data": {
      "text/plain": [
       "array([[-0.09697723, -0.27556565, -0.30408973, ..., -0.3428641 ,\n",
       "        -0.29756173,  0.11251496],\n",
       "       [-0.13743488, -0.2939136 , -0.20476417, ..., -0.40239561,\n",
       "        -0.15918866,  0.09810434],\n",
       "       [-0.1768456 , -0.38518009, -0.50580472, ..., -0.14900006,\n",
       "        -0.45622417, -0.0221975 ],\n",
       "       ...,\n",
       "       [-0.16225435, -0.29625562, -0.31762227, ..., -0.19057961,\n",
       "        -0.18930106,  0.39942399],\n",
       "       [-0.0425817 , -0.45177734, -0.28937829, ..., -0.39290038,\n",
       "        -0.31684643,  0.12985335],\n",
       "       [ 0.07859053, -0.45629492, -0.3879267 , ..., -0.42176488,\n",
       "        -0.3865892 , -0.03404421]])"
      ]
     },
     "execution_count": 95,
     "metadata": {},
     "output_type": "execute_result"
    }
   ],
   "source": [
    "X"
   ]
  },
  {
   "cell_type": "code",
   "execution_count": 96,
   "id": "6112ffac",
   "metadata": {},
   "outputs": [],
   "source": [
    "X_train, X_test, y_train, y_test = train_test_split(X, y, test_size = 0.2, random_state = 10)"
   ]
  },
  {
   "cell_type": "code",
   "execution_count": 97,
   "id": "f541f151",
   "metadata": {},
   "outputs": [
    {
     "data": {
      "text/plain": [
       "3505836.8947012136"
      ]
     },
     "execution_count": 97,
     "metadata": {},
     "output_type": "execute_result"
    }
   ],
   "source": [
    "from sklearn.metrics import mean_squared_error\n",
    "\n",
    "# Instantiate an XGBRegressor\n",
    "xgr = xgb.XGBRegressor(random_state=2)\n",
    "\n",
    "# Fit the classifier to the training set\n",
    "xgr.fit(X_train, y_train)\n",
    "\n",
    "y_pred = xgr.predict(X_test)\n",
    "\n",
    "mean_squared_error(y_test, y_pred)"
   ]
  },
  {
   "cell_type": "code",
   "execution_count": 100,
   "id": "ebd63a10",
   "metadata": {},
   "outputs": [],
   "source": [
    "\n",
    "plot = pd.DataFrame([y_pred, y_test])"
   ]
  },
  {
   "cell_type": "code",
   "execution_count": 106,
   "id": "366b72ed",
   "metadata": {},
   "outputs": [
    {
     "data": {
      "text/plain": [
       "<AxesSubplot:xlabel='0', ylabel='1'>"
      ]
     },
     "execution_count": 106,
     "metadata": {},
     "output_type": "execute_result"
    },
    {
     "data": {
      "image/png": "[encoded data removed]",
      "text/plain": [
       "<Figure size 432x288 with 1 Axes>"
      ]
     },
     "metadata": {
      "needs_background": "light"
     },
     "output_type": "display_data"
    }
   ],
   "source": [
    "plot.transpose().plot(kind = 'scatter', x = 0, y = 1)"
   ]
  },
  {
   "cell_type": "code",
   "execution_count": 113,
   "id": "5a9b4dbf",
   "metadata": {},
   "outputs": [
    {
     "data": {
      "text/html": [
       "<div>\n",
       "<style scoped>\n",
       "    .dataframe tbody tr th:only-of-type {\n",
       "        vertical-align: middle;\n",
       "    }\n",
       "\n",
       "    .dataframe tbody tr th {\n",
       "        vertical-align: top;\n",
       "    }\n",
       "\n",
       "    .dataframe thead th {\n",
       "        text-align: right;\n",
       "    }\n",
       "</style>\n",
       "<table border=\"1\" class=\"dataframe\">\n",
       "  <thead>\n",
       "    <tr style=\"text-align: right;\">\n",
       "      <th></th>\n",
       "      <th>Unnamed: 0</th>\n",
       "      <th>title</th>\n",
       "      <th>author</th>\n",
       "      <th>created_datetime_utc</th>\n",
       "      <th>selftext</th>\n",
       "      <th>url</th>\n",
       "      <th>upvote_ratio</th>\n",
       "      <th>ups</th>\n",
       "      <th>total_awards_received</th>\n",
       "      <th>num_comments</th>\n",
       "      <th>num_crossposts</th>\n",
       "      <th>is_self</th>\n",
       "      <th>is_video</th>\n",
       "      <th>media_only</th>\n",
       "      <th>id</th>\n",
       "      <th>created_utc</th>\n",
       "      <th>selftext_html</th>\n",
       "      <th>author_fullname</th>\n",
       "      <th>avg_vector</th>\n",
       "    </tr>\n",
       "  </thead>\n",
       "  <tbody>\n",
       "    <tr>\n",
       "      <th>529648</th>\n",
       "      <td>230376</td>\n",
       "      <td>upvote so everyone sees we got support</td>\n",
       "      <td>vrweensy</td>\n",
       "      <td>2021-01-28 13:40:34</td>\n",
       "      <td>nan</td>\n",
       "      <td>https://i.redd.it/sgoqy8nyt2e61.png</td>\n",
       "      <td>0.97</td>\n",
       "      <td>314804</td>\n",
       "      <td>1270</td>\n",
       "      <td>12832</td>\n",
       "      <td>41</td>\n",
       "      <td>False</td>\n",
       "      <td>False</td>\n",
       "      <td>False</td>\n",
       "      <td>l6wu59</td>\n",
       "      <td>1.611841e+09</td>\n",
       "      <td>NaN</td>\n",
       "      <td>t2_6d70j6ko</td>\n",
       "      <td>[-0.2506461, -0.100870706, -0.4655382, 0.51839...</td>\n",
       "    </tr>\n",
       "    <tr>\n",
       "      <th>708272</th>\n",
       "      <td>409000</td>\n",
       "      <td>times square right now</td>\n",
       "      <td>someguyindeutschland</td>\n",
       "      <td>2021-01-30 18:00:38</td>\n",
       "      <td>nan</td>\n",
       "      <td>https://v.redd.it/x64z70f7eie61</td>\n",
       "      <td>0.98</td>\n",
       "      <td>411137</td>\n",
       "      <td>3510</td>\n",
       "      <td>12445</td>\n",
       "      <td>86</td>\n",
       "      <td>False</td>\n",
       "      <td>True</td>\n",
       "      <td>False</td>\n",
       "      <td>l8rf4k</td>\n",
       "      <td>1.612030e+09</td>\n",
       "      <td>NaN</td>\n",
       "      <td>t2_cxhbp</td>\n",
       "      <td>[-0.060425878, -0.502828, -0.35687152, 0.39569...</td>\n",
       "    </tr>\n",
       "  </tbody>\n",
       "</table>\n",
       "</div>"
      ],
      "text/plain": [
       "        Unnamed: 0                                   title  \\\n",
       "529648      230376  upvote so everyone sees we got support   \n",
       "708272      409000                  times square right now   \n",
       "\n",
       "                      author created_datetime_utc selftext  \\\n",
       "529648              vrweensy  2021-01-28 13:40:34      nan   \n",
       "708272  someguyindeutschland  2021-01-30 18:00:38      nan   \n",
       "\n",
       "                                        url  upvote_ratio     ups  \\\n",
       "529648  https://i.redd.it/sgoqy8nyt2e61.png          0.97  314804   \n",
       "708272      https://v.redd.it/x64z70f7eie61          0.98  411137   \n",
       "\n",
       "        total_awards_received  num_comments  num_crossposts  is_self  \\\n",
       "529648                   1270         12832              41    False   \n",
       "708272                   3510         12445              86    False   \n",
       "\n",
       "        is_video  media_only      id   created_utc selftext_html  \\\n",
       "529648     False       False  l6wu59  1.611841e+09           NaN   \n",
       "708272      True       False  l8rf4k  1.612030e+09           NaN   \n",
       "\n",
       "       author_fullname                                         avg_vector  \n",
       "529648     t2_6d70j6ko  [-0.2506461, -0.100870706, -0.4655382, 0.51839...  \n",
       "708272        t2_cxhbp  [-0.060425878, -0.502828, -0.35687152, 0.39569...  "
      ]
     },
     "execution_count": 113,
     "metadata": {},
     "output_type": "execute_result"
    }
   ],
   "source": [
    "df[df.ups >= 300000]"
   ]
  },
  {
   "cell_type": "code",
   "execution_count": 112,
   "id": "4b581fde",
   "metadata": {},
   "outputs": [
    {
     "data": {
      "text/plain": [
       "'03:27:15'"
      ]
     },
     "execution_count": 112,
     "metadata": {},
     "output_type": "execute_result"
    }
   ],
   "source": [
    "from datetime import datetime\n",
    "datetime.now().strftime(\"%H:%M:%S\")"
   ]
  },
  {
   "cell_type": "code",
   "execution_count": null,
   "id": "598042a6",
   "metadata": {},
   "outputs": [],
   "source": []
  }
 ],
 "metadata": {
  "kernelspec": {
   "display_name": "Python 3",
   "language": "python",
   "name": "python3"
  },
  "language_info": {
   "codemirror_mode": {
    "name": "ipython",
    "version": 3
   },
   "file_extension": ".py",
   "mimetype": "text/x-python",
   "name": "python",
   "nbconvert_exporter": "python",
   "pygments_lexer": "ipython3",
   "version": "3.8.8"
  }
 },
 "nbformat": 4,
 "nbformat_minor": 5
}
