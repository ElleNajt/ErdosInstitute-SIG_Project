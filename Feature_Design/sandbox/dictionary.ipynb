{
 "cells": [
  {
   "cell_type": "code",
   "execution_count": 43,
   "id": "1ba8ba4e",
   "metadata": {},
   "outputs": [
    {
     "name": "stderr",
     "output_type": "stream",
     "text": [
      "C:\\Users\\lnajt\\anaconda3\\envs\\Erdos_Institute\\lib\\site-packages\\IPython\\core\\interactiveshell.py:3169: DtypeWarning: Columns (45,79,116,117) have mixed types.Specify dtype option on import or set low_memory=False.\n",
      "  has_raised = await self.run_ast_nodes(code_ast.body, cell_name,\n"
     ]
    }
   ],
   "source": [
    "import gensim\n",
    "import re\n",
    "import nltk\n",
    "import pandas as pd\n",
    "df = pd.read_csv(\"../../Data/subreddit_WallStreetBets/full.csv\", nrows = 50000)\n",
    "\n",
    "regex = re.compile('[^a-zA-Z ]')\n",
    "\n",
    "def tokenize(text):\n",
    "   \n",
    "    sentences = []\n",
    "    if type(text) == str:\n",
    "        for sentence in nltk.tokenize.sent_tokenize(text):\n",
    "            processed = [regex.sub('', word.lower()) for word in sentence.split(' ') ]\n",
    "            processed = [word for word in processed if word not in set( ['' ])]\n",
    "            sentences.append(processed)\n",
    "    return sentences\n",
    "\n",
    "df['tokenized_title'] = df.title.apply(tokenize)\n",
    "tokenized_text = df['tokenized_title']\n",
    "corpus = []\n",
    "for tokenized in tokenized_text:\n",
    "    corpus += tokenized\n",
    "    \n",
    "dictionary = gensim.corpora.dictionary.Dictionary(documents = corpus)\n",
    "dictionary.filter_extremes(no_below = 10)\n",
    "word_dictionary = dict(dictionary)\n",
    "#word_dictionary"
   ]
  },
  {
   "cell_type": "code",
   "execution_count": null,
   "id": "4a880ad5",
   "metadata": {},
   "outputs": [],
   "source": []
  },
  {
   "cell_type": "code",
   "execution_count": null,
   "id": "705d814a",
   "metadata": {},
   "outputs": [],
   "source": []
  },
  {
   "cell_type": "code",
   "execution_count": 44,
   "id": "aaf93926",
   "metadata": {},
   "outputs": [],
   "source": [
    "df['all_awardings'] = df.all_awardings.apply(eval)\n",
    "\n",
    "award_types = set()\n",
    "for awardings in df.all_awardings:\n",
    "    for award in awardings:\n",
    "        award_types.add(award['name'])\n",
    "        \n",
    "def count_award(award, awardings):\n",
    "    counter = 0\n",
    "    for given_award in awardings:\n",
    "        if given_award['name'] == award:\n",
    "            counter += given_award['count']\n",
    "    return counter\n",
    "\n",
    "for award in award_types:\n",
    "    df[\"award_\" + award] = df.all_awardings.apply(lambda awardings : count_award(award,awardings))\n",
    "    \n",
    "award_cols = [ \"award_\" + award for award in award_types]"
   ]
  },
  {
   "cell_type": "code",
   "execution_count": null,
   "id": "701628c8",
   "metadata": {},
   "outputs": [],
   "source": []
  },
  {
   "cell_type": "code",
   "execution_count": 47,
   "id": "80fb4c47",
   "metadata": {},
   "outputs": [
    {
     "data": {
      "text/plain": [
       "award_NYE Ball Drop        1\n",
       "award_Slice of π           1\n",
       "award_Mr. Penguin          1\n",
       "award_Snoovie Time         1\n",
       "award_Rocket Toboggan      1\n",
       "                        ... \n",
       "award_Stonks Rising      105\n",
       "award_Bless Up           110\n",
       "award_Press F            128\n",
       "award_Gold               398\n",
       "award_Silver             843\n",
       "Length: 98, dtype: int64"
      ]
     },
     "execution_count": 47,
     "metadata": {},
     "output_type": "execute_result"
    }
   ],
   "source": [
    "df[award_cols].sum().sort_values()"
   ]
  },
  {
   "cell_type": "code",
   "execution_count": null,
   "id": "226e2b08",
   "metadata": {},
   "outputs": [],
   "source": []
  },
  {
   "cell_type": "code",
   "execution_count": null,
   "id": "0b9b361c",
   "metadata": {},
   "outputs": [],
   "source": []
  }
 ],
 "metadata": {
  "kernelspec": {
   "display_name": "Python 3",
   "language": "python",
   "name": "python3"
  },
  "language_info": {
   "codemirror_mode": {
    "name": "ipython",
    "version": 3
   },
   "file_extension": ".py",
   "mimetype": "text/x-python",
   "name": "python",
   "nbconvert_exporter": "python",
   "pygments_lexer": "ipython3",
   "version": "3.8.8"
  }
 },
 "nbformat": 4,
 "nbformat_minor": 5
}
