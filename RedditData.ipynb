{
 "cells": [
  {
   "cell_type": "code",
   "execution_count": 1,
   "metadata": {},
   "outputs": [
    {
     "data": {
      "text/plain": [
       "'\\nhttps://stackoverflow.com/questions/48358837/pulling-reddit-comments-using-python-praw-and-creating-a-dataframe-with-the-resu\\nhttps://www.reddit.com/r/redditdev/comments/2e2q2l/praw_downvote_count_always_zero/\\nhttps://towardsdatascience.com/an-easy-tutorial-about-sentiment-analysis-with-deep-learning-and-keras-2bf52b9cba91\\n'"
      ]
     },
     "execution_count": 1,
     "metadata": {},
     "output_type": "execute_result"
    }
   ],
   "source": [
    "import pandas as pd           \n",
    "import praw                   \n",
    "import re                     \n",
    "\n",
    "import seaborn as sns\n",
    "\n",
    "## acknowledgements\n",
    "'''\n",
    "https://stackoverflow.com/questions/48358837/pulling-reddit-comments-using-python-praw-and-creating-a-dataframe-with-the-resu\n",
    "https://www.reddit.com/r/redditdev/comments/2e2q2l/praw_downvote_count_always_zero/\n",
    "https://towardsdatascience.com/an-easy-tutorial-about-sentiment-analysis-with-deep-learning-and-keras-2bf52b9cba91\n",
    "'''"
   ]
  },
  {
   "cell_type": "code",
   "execution_count": 4,
   "metadata": {},
   "outputs": [
    {
     "name": "stderr",
     "output_type": "stream",
     "text": [
      "Version 7.0.0 of praw is outdated. Version 7.2.0 was released Wednesday February 24, 2021.\n"
     ]
    }
   ],
   "source": [
    "with open(\"API.env\") as file:\n",
    "    exec(file.read())\n",
    "\n",
    "reddit = praw.Reddit(\n",
    "  client_id = client_id,\n",
    "  client_secret = client_secret,\n",
    "  user_agent = user_agent\n",
    ")"
   ]
  },
  {
   "cell_type": "code",
   "execution_count": 5,
   "metadata": {},
   "outputs": [],
   "source": [
    "'''\n",
    "Some helper functions for the reddit API.\n",
    "'''\n",
    "\n",
    "def extract_num_rewards(awardings_data):\n",
    "    return sum( x[\"count\"] for x in awardings_data)\n",
    "\n",
    "def extract_data(submission, comments = False):\n",
    "    postlist = []\n",
    "\n",
    "    # extracts top level comments\n",
    "    if comments:\n",
    "        submission.comments.replace_more(limit=0)\n",
    "        for comment in submission.comments: \n",
    "            post = {} # put this here\n",
    "            post['author'] = comment.author\n",
    "            post['body'] = comment.body\n",
    "            post['awards'] = comment.all_awardings\n",
    "            post['score'] = comment.score\n",
    "            post['parent_id'] = comment.parent_id\n",
    "            post['id'] = comment.id\n",
    "\n",
    "            postlist.append(post)\n",
    "\n",
    "    content = {\n",
    "    \"title\" : submission.title,\n",
    "    \"self\" : submission.is_self,\n",
    "    \"text\" : submission.selftext,\n",
    "    \"comments\" : postlist,\n",
    "    \"author\" : submission.author,\n",
    "    \"name\" : submission.name,\n",
    "    \"upvote_ratio\" : submission.upvote_ratio,\n",
    "    \"ups\" : submission.score, #this is the same as submission.ups,\n",
    "    \"downs\" : None,\n",
    "    \"awarders\" : submission.awarders, \n",
    "    \"awards\" : submission.all_awardings,\n",
    "    \"total_awards\" : None,\n",
    "    \"url\" : submission.url # Only relevent if not a self post\n",
    "    }\n",
    "    \n",
    "    content[\"total_awards\"] = extract_num_rewards(content[\"awards\"])\n",
    "    content[\"downs\"] = (1 - content[\"upvote_ratio\"]) * content[\"ups\"] / content[\"upvote_ratio\"]\n",
    "    return content"
   ]
  },
  {
   "cell_type": "code",
   "execution_count": 7,
   "metadata": {},
   "outputs": [],
   "source": [
    "'''\n",
    "Sample num_samples random submissions, and get the top num_samples submissions, and put them into dataframes.\n",
    "'''\n",
    "\n",
    "def random_sample(num_samples, subreddit):\n",
    "    sample = []\n",
    "    for i in range(num_samples):\n",
    "        submission = reddit.subreddit('wallstreetbets').random() \n",
    "        sample.append(extract_data(submission))\n",
    "    return(pd.DataFrame(sample))\n",
    "    \n",
    "def top_sample(num_samples, subreddit):\n",
    "    top_submissions = []\n",
    "    for submission in reddit.subreddit('wallstreetbets').top(limit=num_samples):\n",
    "        top_submissions.append(extract_data(submission))\n",
    "    print(f\"Produced {len(top_submissions)} samples\")\n",
    "    return(pd.DataFrame(top_submissions))\n",
    "\n",
    "num_samples = 10\n",
    "subreddit ='wallstreetbets'\n",
    "\n",
    "random_wsb = random_sample(num_samples, subreddit)\n",
    "top_wsb = random_sample(num_samples,subreddit)\n",
    "\n",
    "# other commands here: https://praw.readthedocs.io/en/latest/code_overview/models/subreddit.html#praw.models.Subreddit.rising\n",
    "# NB: The subreddit stream option seems useful."
   ]
  },
  {
   "cell_type": "code",
   "execution_count": 33,
   "metadata": {
    "scrolled": true
   },
   "outputs": [],
   "source": [
    "random_wsb.to_pickle(\"random_wsb.pkl\")\n",
    "top_wsb.to_pickle(\"top_wsb.pkl\")"
   ]
  },
  {
   "cell_type": "code",
   "execution_count": null,
   "metadata": {
    "scrolled": true
   },
   "outputs": [],
   "source": [
    "#sns.lmplot(data = random_wsb, x = \"total_awards\", y = \"ups\")"
   ]
  },
  {
   "cell_type": "code",
   "execution_count": null,
   "metadata": {},
   "outputs": [],
   "source": []
  },
  {
   "cell_type": "code",
   "execution_count": null,
   "metadata": {},
   "outputs": [],
   "source": []
  },
  {
   "cell_type": "code",
   "execution_count": null,
   "metadata": {},
   "outputs": [],
   "source": []
  },
  {
   "cell_type": "code",
   "execution_count": null,
   "metadata": {},
   "outputs": [],
   "source": []
  },
  {
   "cell_type": "code",
   "execution_count": null,
   "metadata": {},
   "outputs": [],
   "source": []
  },
  {
   "cell_type": "code",
   "execution_count": null,
   "metadata": {},
   "outputs": [],
   "source": []
  },
  {
   "cell_type": "code",
   "execution_count": 9,
   "metadata": {},
   "outputs": [],
   "source": []
  },
  {
   "cell_type": "code",
   "execution_count": null,
   "metadata": {},
   "outputs": [],
   "source": []
  },
  {
   "cell_type": "code",
   "execution_count": null,
   "metadata": {},
   "outputs": [],
   "source": []
  },
  {
   "cell_type": "code",
   "execution_count": 22,
   "metadata": {},
   "outputs": [],
   "source": []
  },
  {
   "cell_type": "code",
   "execution_count": 27,
   "metadata": {},
   "outputs": [],
   "source": []
  },
  {
   "cell_type": "code",
   "execution_count": 31,
   "metadata": {},
   "outputs": [],
   "source": []
  },
  {
   "cell_type": "code",
   "execution_count": 37,
   "metadata": {},
   "outputs": [],
   "source": []
  },
  {
   "cell_type": "code",
   "execution_count": null,
   "metadata": {},
   "outputs": [],
   "source": []
  },
  {
   "cell_type": "code",
   "execution_count": null,
   "metadata": {},
   "outputs": [],
   "source": []
  }
 ],
 "metadata": {
  "kernelspec": {
   "display_name": "Python 3",
   "language": "python",
   "name": "python3"
  },
  "language_info": {
   "codemirror_mode": {
    "name": "ipython",
    "version": 3
   },
   "file_extension": ".py",
   "mimetype": "text/x-python",
   "name": "python",
   "nbconvert_exporter": "python",
   "pygments_lexer": "ipython3",
   "version": "3.7.6"
  }
 },
 "nbformat": 4,
 "nbformat_minor": 4
}
