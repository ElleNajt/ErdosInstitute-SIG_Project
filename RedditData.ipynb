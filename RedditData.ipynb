{
 "cells": [
  {
   "cell_type": "code",
   "execution_count": 135,
   "metadata": {},
   "outputs": [
    {
     "data": {
      "text/plain": [
       "'\\nhttps://stackoverflow.com/questions/48358837/pulling-reddit-comments-using-python-praw-and-creating-a-dataframe-with-the-resu\\nhttps://www.reddit.com/r/redditdev/comments/2e2q2l/praw_downvote_count_always_zero/\\nhttps://towardsdatascience.com/an-easy-tutorial-about-sentiment-analysis-with-deep-learning-and-keras-2bf52b9cba91\\n'"
      ]
     },
     "execution_count": 135,
     "metadata": {},
     "output_type": "execute_result"
    }
   ],
   "source": [
    "import pandas as pd           \n",
    "import praw                   \n",
    "import re                     \n",
    "import datetime as dt\n",
    "import seaborn as sns\n",
    "import requests\n",
    "import json\n",
    "import sys\n",
    "import time\n",
    "## acknowledgements\n",
    "'''\n",
    "https://stackoverflow.com/questions/48358837/pulling-reddit-comments-using-python-praw-and-creating-a-dataframe-with-the-resu\n",
    "https://www.reddit.com/r/redditdev/comments/2e2q2l/praw_downvote_count_always_zero/\n",
    "https://towardsdatascience.com/an-easy-tutorial-about-sentiment-analysis-with-deep-learning-and-keras-2bf52b9cba91\n",
    "\n",
    "For navigating pushshift: https://github.com/Watchful1/Sketchpad/blob/master/postDownloader.py\n",
    "\n",
    "# traffic = reddit.subreddit(subreddit).traffic() is not available to us, sadly.\n",
    "'''"
   ]
  },
  {
   "cell_type": "code",
   "execution_count": 4,
   "metadata": {},
   "outputs": [
    {
     "name": "stderr",
     "output_type": "stream",
     "text": [
      "Version 7.0.0 of praw is outdated. Version 7.2.0 was released Wednesday February 24, 2021.\n"
     ]
    }
   ],
   "source": [
    "with open(\"API.env\") as file:\n",
    "    exec(file.read())\n",
    "\n",
    "reddit = praw.Reddit(\n",
    "  client_id = client_id,\n",
    "  client_secret = client_secret,\n",
    "  user_agent = user_agent\n",
    ")"
   ]
  },
  {
   "cell_type": "code",
   "execution_count": 255,
   "metadata": {},
   "outputs": [],
   "source": [
    "'''\n",
    "Some helper functions for the reddit API.\n",
    "'''\n",
    "\n",
    "def extract_num_rewards(awardings_data):\n",
    "    return sum( x[\"count\"] for x in awardings_data)\n",
    "\n",
    "def extract_data(submission, comments = True):\n",
    "    postlist = []\n",
    "\n",
    "    # extracts top level comments\n",
    "    if comments:\n",
    "        submission.comments.replace_more(limit=0)\n",
    "        for comment in submission.comments: \n",
    "            post = {} # put this here\n",
    "            post['author'] = comment.author\n",
    "            post['body'] = comment.body\n",
    "            post['awards'] = comment.all_awardings\n",
    "            post['score'] = comment.score\n",
    "            post['parent_id'] = comment.parent_id\n",
    "            post['id'] = comment.id\n",
    "\n",
    "            postlist.append(post)\n",
    "\n",
    "    content = {\n",
    "    \"title\" : submission.title,\n",
    "    \"self\" : submission.is_self,\n",
    "    \"text\" : submission.selftext,\n",
    "    \"comments\" : postlist,\n",
    "    \"author\" : submission.author,\n",
    "    \"name\" : submission.name,\n",
    "    \"upvote_ratio\" : submission.upvote_ratio,\n",
    "    \"ups\" : submission.score, #this is the same as submission.ups,\n",
    "    \"downs\" : None,\n",
    "    \"awarders\" : submission.awarders, \n",
    "    \"awards\" : submission.all_awardings,\n",
    "    \"total_awards\" : None,\n",
    "    \"url\" : submission.url # Only relevent if not a self post\n",
    "    }\n",
    "    \n",
    "    content[\"total_awards\"] = extract_num_rewards(content[\"awards\"])\n",
    "    content[\"downs\"] = (1 - content[\"upvote_ratio\"]) * content[\"ups\"] / content[\"upvote_ratio\"]\n",
    "    return content"
   ]
  },
  {
   "cell_type": "code",
   "execution_count": 44,
   "metadata": {},
   "outputs": [
    {
     "name": "stdout",
     "output_type": "stream",
     "text": [
      "Got 10 submissions. (This can be less than num_samples.)\n",
      "Got 10 submissions. (This can be less than num_samples.)\n",
      "Got 10 submissions. (This can be less than num_samples.)\n"
     ]
    }
   ],
   "source": [
    "'''\n",
    "Sample num_samples random submissions, and get the top num_samples submissions, and put them into dataframes.\n",
    "'''\n",
    "\n",
    "def random_sample(num_samples, subreddit):\n",
    "    sample = []\n",
    "    for i in range(num_samples):\n",
    "        submission = reddit.subreddit(subreddit).random() \n",
    "        sample.append(extract_data(submission))\n",
    "    return(pd.DataFrame(sample))\n",
    "\n",
    "def sample(source):\n",
    "    submissions = []\n",
    "    for submission in source:\n",
    "        submissions.append(extract_data(submission))\n",
    "    print(f\"Got {len(submissions)} submissions. (This can be less than num_samples.)\")\n",
    "    return(pd.DataFrame(submissions))\n",
    "\n",
    "def top_sample(num_samples, subreddit):\n",
    "    return sample(reddit.subreddit(subreddit).top(limit=num_samples) )\n",
    "\n",
    "def rising_sample(num_samples, subreddit):\n",
    "    return sample(reddit.subreddit(subreddit).rising(limit=num_samples))\n",
    "\n",
    "def controversial_sample(num_samples, subreddit):\n",
    "    return sample(reddit.subreddit(subreddit).controversial(limit=num_samples) )\n",
    "\n",
    "\n",
    "num_samples = 10\n",
    "subreddit ='wallstreetbets'\n",
    "\n",
    "random_wsb = random_sample(num_samples, subreddit)\n",
    "top_wsb = top_sample(num_samples,subreddit)\n",
    "rising_wsb = rising_sample(num_samples, subreddit)\n",
    "controversial_wsb = controversial_sample(num_samples, subreddit)\n",
    "# other commands here: https://praw.readthedocs.io/en/latest/code_overview/models/subreddit.html#praw.models.Subreddit.rising\n",
    "# NB: The subreddit stream option seems useful.\n",
    "# NB: There is also rising_random\n"
   ]
  },
  {
   "cell_type": "code",
   "execution_count": 45,
   "metadata": {},
   "outputs": [],
   "source": [
    "random_wsb.to_pickle(\"random_wsb.pkl\")\n",
    "top_wsb.to_pickle(\"top_wsb.pkl\")\n",
    "rising_wsb.to_pickle(\"rising_wsb.pkl\")\n",
    "controversial_wsb.to_pickle(\"controversial_wsb.pkl\")"
   ]
  },
  {
   "cell_type": "code",
   "execution_count": null,
   "metadata": {
    "scrolled": true
   },
   "outputs": [
    {
     "name": "stdout",
     "output_type": "stream",
     "text": [
      "time is currently 1620330846\n",
      "Target time: 1609459200, current end point 1620345600, remaining 10886400\n",
      "Target time: 1609459200, current end point 1620341606, remaining 10882406\n",
      "Target time: 1609459200, current end point 1620338080, remaining 10878880\n",
      "Target time: 1609459200, current end point 1620334037, remaining 10874837\n",
      "Target time: 1609459200, current end point 1620331474, remaining 10872274\n",
      "Target time: 1609459200, current end point 1620328796, remaining 10869596\n",
      "Target time: 1609459200, current end point 1620326097, remaining 10866897\n",
      "Target time: 1609459200, current end point 1620323077, remaining 10863877\n",
      "Target time: 1609459200, current end point 1620321017, remaining 10861817\n",
      "Target time: 1609459200, current end point 1620318313, remaining 10859113\n",
      "Target time: 1609459200, current end point 1620315568, remaining 10856368\n",
      "Target time: 1609459200, current end point 1620312887, remaining 10853687\n",
      "Target time: 1609459200, current end point 1620310667, remaining 10851467\n",
      "Target time: 1609459200, current end point 1620308873, remaining 10849673\n",
      "Target time: 1609459200, current end point 1620306192, remaining 10846992\n",
      "Target time: 1609459200, current end point 1620302895, remaining 10843695\n",
      "Target time: 1609459200, current end point 1620300056, remaining 10840856\n",
      "Target time: 1609459200, current end point 1620295948, remaining 10836748\n",
      "Target time: 1609459200, current end point 1620291651, remaining 10832451\n",
      "Target time: 1609459200, current end point 1620286422, remaining 10827222\n",
      "Target time: 1609459200, current end point 1620281990, remaining 10822790\n",
      "Target time: 1609459200, current end point 1620277294, remaining 10818094\n",
      "Target time: 1609459200, current end point 1620274573, remaining 10815373\n",
      "Target time: 1609459200, current end point 1620270918, remaining 10811718\n",
      "Target time: 1609459200, current end point 1620267176, remaining 10807976\n",
      "Target time: 1609459200, current end point 1620262982, remaining 10803782\n",
      "Target time: 1609459200, current end point 1620258888, remaining 10799688\n",
      "Target time: 1609459200, current end point 1620254742, remaining 10795542\n",
      "Target time: 1609459200, current end point 1620250938, remaining 10791738\n",
      "Target time: 1609459200, current end point 1620248258, remaining 10789058\n",
      "Target time: 1609459200, current end point 1620245608, remaining 10786408\n",
      "Target time: 1609459200, current end point 1620242100, remaining 10782900\n"
     ]
    }
   ],
   "source": [
    "'''\n",
    "Code for getting all submissions between certain date time\n",
    "'''\n",
    "\n",
    "\n",
    "def get_all_submissions(start_time, end_time):\n",
    "    end = end_time\n",
    "    df = pd.DataFrame()\n",
    "    while end > start_time:\n",
    "        time.sleep(1) # Requests are rate limited\n",
    "        print(f\"Target time: {start_time}, current end point {end}, remaining {end - start_time}\")\n",
    "\n",
    "        url = f\"https://api.pushshift.io/reddit/submission/search/?after={start_time}&before={end}&sort_type=created_utc&sort=desc&subreddit=wallstreetbets&limit=1000\"\n",
    "\n",
    "        data = requests.get(url)\n",
    "\n",
    "        data_json = data.json()\n",
    "        if len(data_json['data']) == 0:\n",
    "            # break if there is no returned data\n",
    "            break\n",
    "\n",
    "        temp_df = pd.DataFrame(data_json['data'])\n",
    "        end = min(temp_df.created_utc) \n",
    "        df = df.append(temp_df, ignore_index = True)\n",
    "\n",
    "    # Get the current score from praw\n",
    "    print(f\"Got {len(df)} submissions.\")\n",
    "    print(\"Getting the updated values.\")\n",
    "\n",
    "    scores = []\n",
    "    total_awards_received = []\n",
    "    ratios = []\n",
    "\n",
    "    # Based on this: https://www.reddit.com/r/redditdev/comments/aoe4pk/praw_getting_multiple_submissions_using_by_id/\n",
    "    ids2 = [i if i.startswith('t3_') else f't3_{i}' for i in list(df.id)]\n",
    "    for submission in reddit.info(ids2): # Makes a single call to the PRAW API, much faster than doing them one by one.\n",
    "        scores.append(submission.score)\n",
    "        total_awards_received.append(extract_num_rewards(submission.all_awardings))\n",
    "        ratios.append( submission.upvote_ratio)\n",
    "\n",
    "    df['score'], df['total_awards_received'], df['upvote_ratio'] = scores, total_awards_received, ratios\n",
    "        \n",
    "    return df\n",
    "\n",
    "\n",
    "start = dt.datetime(2021, 1,1)\n",
    "start_time = int(start.replace(tzinfo=dt.timezone.utc).timestamp())\n",
    "\n",
    "end = dt.datetime(2021, 5, 7) #dt.datetime.now()\n",
    "end_time = int(end.replace(tzinfo=dt.timezone.utc).timestamp())\n",
    "print(f\"time is currently {now_timestamp}\")\n",
    "\n",
    "df = get_all_submissions(start_time, end_time)\n",
    "\n"
   ]
  },
  {
   "cell_type": "code",
   "execution_count": 327,
   "metadata": {},
   "outputs": [
    {
     "data": {
      "text/html": [
       "<div>\n",
       "<style scoped>\n",
       "    .dataframe tbody tr th:only-of-type {\n",
       "        vertical-align: middle;\n",
       "    }\n",
       "\n",
       "    .dataframe tbody tr th {\n",
       "        vertical-align: top;\n",
       "    }\n",
       "\n",
       "    .dataframe thead th {\n",
       "        text-align: right;\n",
       "    }\n",
       "</style>\n",
       "<table border=\"1\" class=\"dataframe\">\n",
       "  <thead>\n",
       "    <tr style=\"text-align: right;\">\n",
       "      <th></th>\n",
       "      <th>title</th>\n",
       "      <th>id</th>\n",
       "      <th>created_utc</th>\n",
       "      <th>author_fullname</th>\n",
       "      <th>is_self</th>\n",
       "      <th>score</th>\n",
       "      <th>upvote_ratio</th>\n",
       "      <th>total_awards_received</th>\n",
       "      <th>selftext</th>\n",
       "      <th>url</th>\n",
       "    </tr>\n",
       "  </thead>\n",
       "  <tbody>\n",
       "    <tr>\n",
       "      <th>2493</th>\n",
       "      <td>HOLDGME</td>\n",
       "      <td>n5vldf</td>\n",
       "      <td>1620263260</td>\n",
       "      <td>t2_5syqfl4h</td>\n",
       "      <td>False</td>\n",
       "      <td>59820</td>\n",
       "      <td>0.86</td>\n",
       "      <td>199</td>\n",
       "      <td></td>\n",
       "      <td>https://i.redd.it/jwhf5yp0hex61.jpg</td>\n",
       "    </tr>\n",
       "    <tr>\n",
       "      <th>3323</th>\n",
       "      <td>Monster Crash</td>\n",
       "      <td>n5lboc</td>\n",
       "      <td>1620235294</td>\n",
       "      <td>t2_1jew76qz</td>\n",
       "      <td>False</td>\n",
       "      <td>53509</td>\n",
       "      <td>0.89</td>\n",
       "      <td>362</td>\n",
       "      <td></td>\n",
       "      <td>https://v.redd.it/shekh7yq5cx61</td>\n",
       "    </tr>\n",
       "    <tr>\n",
       "      <th>3844</th>\n",
       "      <td>VLAD</td>\n",
       "      <td>n5g278</td>\n",
       "      <td>1620221695</td>\n",
       "      <td>t2_1jdyhbma</td>\n",
       "      <td>False</td>\n",
       "      <td>50248</td>\n",
       "      <td>0.90</td>\n",
       "      <td>176</td>\n",
       "      <td></td>\n",
       "      <td>https://i.redd.it/yos8j48d1bx61.jpg</td>\n",
       "    </tr>\n",
       "    <tr>\n",
       "      <th>7923</th>\n",
       "      <td>WSB analyzes some charts</td>\n",
       "      <td>n3dujk</td>\n",
       "      <td>1619983656</td>\n",
       "      <td>t2_9js0dd4x</td>\n",
       "      <td>False</td>\n",
       "      <td>46432</td>\n",
       "      <td>0.85</td>\n",
       "      <td>432</td>\n",
       "      <td></td>\n",
       "      <td>https://v.redd.it/2qjyeacadrw61</td>\n",
       "    </tr>\n",
       "    <tr>\n",
       "      <th>1719</th>\n",
       "      <td>The Insurrection of the Apes</td>\n",
       "      <td>n63q7n</td>\n",
       "      <td>1620294990</td>\n",
       "      <td>t2_a2jxbzsv</td>\n",
       "      <td>False</td>\n",
       "      <td>40180</td>\n",
       "      <td>0.89</td>\n",
       "      <td>251</td>\n",
       "      <td></td>\n",
       "      <td>https://v.redd.it/xl5x239t2hx61</td>\n",
       "    </tr>\n",
       "    <tr>\n",
       "      <th>514</th>\n",
       "      <td>When will the dip dip???</td>\n",
       "      <td>n6f0w5</td>\n",
       "      <td>1620328286</td>\n",
       "      <td>t2_5ulprski</td>\n",
       "      <td>False</td>\n",
       "      <td>37401</td>\n",
       "      <td>0.94</td>\n",
       "      <td>111</td>\n",
       "      <td></td>\n",
       "      <td>https://i.redd.it/isenlnv9ujx61.jpg</td>\n",
       "    </tr>\n",
       "    <tr>\n",
       "      <th>6565</th>\n",
       "      <td>Heard it cost 200k in losses to join this grou...</td>\n",
       "      <td>n44mxh</td>\n",
       "      <td>1620069224</td>\n",
       "      <td>t2_8clkgq79</td>\n",
       "      <td>False</td>\n",
       "      <td>31855</td>\n",
       "      <td>0.90</td>\n",
       "      <td>231</td>\n",
       "      <td></td>\n",
       "      <td>https://www.reddit.com/gallery/n44mxh</td>\n",
       "    </tr>\n",
       "    <tr>\n",
       "      <th>1071</th>\n",
       "      <td>We’ve been compromised!</td>\n",
       "      <td>n69ajb</td>\n",
       "      <td>1620313307</td>\n",
       "      <td>t2_11cvrlt5</td>\n",
       "      <td>False</td>\n",
       "      <td>29831</td>\n",
       "      <td>0.92</td>\n",
       "      <td>164</td>\n",
       "      <td></td>\n",
       "      <td>https://v.redd.it/5zfzinkrlix61</td>\n",
       "    </tr>\n",
       "    <tr>\n",
       "      <th>7425</th>\n",
       "      <td>A Foolproof Investment</td>\n",
       "      <td>n3rb5l</td>\n",
       "      <td>1620031140</td>\n",
       "      <td>t2_35lpjzqy</td>\n",
       "      <td>False</td>\n",
       "      <td>28824</td>\n",
       "      <td>0.94</td>\n",
       "      <td>106</td>\n",
       "      <td></td>\n",
       "      <td>https://v.redd.it/oq5e5yvoavw61</td>\n",
       "    </tr>\n",
       "    <tr>\n",
       "      <th>8640</th>\n",
       "      <td>It’s simple. As for me, I like the stock💎🤲🦍</td>\n",
       "      <td>n2rw1m</td>\n",
       "      <td>1619904334</td>\n",
       "      <td>t2_yr5ck</td>\n",
       "      <td>False</td>\n",
       "      <td>27182</td>\n",
       "      <td>0.86</td>\n",
       "      <td>334</td>\n",
       "      <td></td>\n",
       "      <td>https://v.redd.it/5bfm8ziltkw61</td>\n",
       "    </tr>\n",
       "  </tbody>\n",
       "</table>\n",
       "</div>"
      ],
      "text/plain": [
       "                                                  title      id  created_utc  \\\n",
       "2493                                            HOLDGME  n5vldf   1620263260   \n",
       "3323                                      Monster Crash  n5lboc   1620235294   \n",
       "3844                                               VLAD  n5g278   1620221695   \n",
       "7923                           WSB analyzes some charts  n3dujk   1619983656   \n",
       "1719                       The Insurrection of the Apes  n63q7n   1620294990   \n",
       "514                            When will the dip dip???  n6f0w5   1620328286   \n",
       "6565  Heard it cost 200k in losses to join this grou...  n44mxh   1620069224   \n",
       "1071                            We’ve been compromised!  n69ajb   1620313307   \n",
       "7425                             A Foolproof Investment  n3rb5l   1620031140   \n",
       "8640        It’s simple. As for me, I like the stock💎🤲🦍  n2rw1m   1619904334   \n",
       "\n",
       "     author_fullname  is_self  score  upvote_ratio  total_awards_received  \\\n",
       "2493     t2_5syqfl4h    False  59820          0.86                    199   \n",
       "3323     t2_1jew76qz    False  53509          0.89                    362   \n",
       "3844     t2_1jdyhbma    False  50248          0.90                    176   \n",
       "7923     t2_9js0dd4x    False  46432          0.85                    432   \n",
       "1719     t2_a2jxbzsv    False  40180          0.89                    251   \n",
       "514      t2_5ulprski    False  37401          0.94                    111   \n",
       "6565     t2_8clkgq79    False  31855          0.90                    231   \n",
       "1071     t2_11cvrlt5    False  29831          0.92                    164   \n",
       "7425     t2_35lpjzqy    False  28824          0.94                    106   \n",
       "8640        t2_yr5ck    False  27182          0.86                    334   \n",
       "\n",
       "     selftext                                    url  \n",
       "2493             https://i.redd.it/jwhf5yp0hex61.jpg  \n",
       "3323                 https://v.redd.it/shekh7yq5cx61  \n",
       "3844             https://i.redd.it/yos8j48d1bx61.jpg  \n",
       "7923                 https://v.redd.it/2qjyeacadrw61  \n",
       "1719                 https://v.redd.it/xl5x239t2hx61  \n",
       "514              https://i.redd.it/isenlnv9ujx61.jpg  \n",
       "6565           https://www.reddit.com/gallery/n44mxh  \n",
       "1071                 https://v.redd.it/5zfzinkrlix61  \n",
       "7425                 https://v.redd.it/oq5e5yvoavw61  \n",
       "8640                 https://v.redd.it/5bfm8ziltkw61  "
      ]
     },
     "execution_count": 327,
     "metadata": {},
     "output_type": "execute_result"
    }
   ],
   "source": [
    "wsb_cleaned = df[['title', 'id', 'created_utc', 'author_fullname', 'is_self', 'score', 'upvote_ratio', 'total_awards_received', 'selftext', 'url']]\n",
    "wsb_cleaned.to_pickle(\"2021wsb.pkl\")\n",
    "wsb_cleaned.sort_values(by = \"score\", ascending = False).head(10)"
   ]
  },
  {
   "cell_type": "code",
   "execution_count": 324,
   "metadata": {},
   "outputs": [
    {
     "data": {
      "text/plain": [
       "0        1\n",
       "1        1\n",
       "2        1\n",
       "3        3\n",
       "4       36\n",
       "        ..\n",
       "1274     1\n",
       "1275     8\n",
       "1276     1\n",
       "1277     1\n",
       "1278     1\n",
       "Name: score, Length: 1279, dtype: int64"
      ]
     },
     "execution_count": 324,
     "metadata": {},
     "output_type": "execute_result"
    }
   ],
   "source": []
  },
  {
   "cell_type": "code",
   "execution_count": null,
   "metadata": {},
   "outputs": [],
   "source": []
  },
  {
   "cell_type": "code",
   "execution_count": null,
   "metadata": {},
   "outputs": [],
   "source": []
  },
  {
   "cell_type": "code",
   "execution_count": 326,
   "metadata": {
    "scrolled": true
   },
   "outputs": [
    {
     "data": {
      "text/plain": [
       "<seaborn.axisgrid.FacetGrid at 0x1dcbe59ff88>"
      ]
     },
     "execution_count": 326,
     "metadata": {},
     "output_type": "execute_result"
    },
    {
     "data": {
      "image/png": "[encoded data removed]",
      "text/plain": [
       "<Figure size 360x360 with 1 Axes>"
      ]
     },
     "metadata": {
      "needs_background": "light"
     },
     "output_type": "display_data"
    }
   ],
   "source": [
    "sns.lmplot( data = wsb_cleaned, x = \"total_awards_received\", y = \"score\")"
   ]
  },
  {
   "cell_type": "code",
   "execution_count": 13,
   "metadata": {},
   "outputs": [],
   "source": []
  },
  {
   "cell_type": "code",
   "execution_count": null,
   "metadata": {},
   "outputs": [],
   "source": []
  },
  {
   "cell_type": "code",
   "execution_count": null,
   "metadata": {},
   "outputs": [],
   "source": []
  },
  {
   "cell_type": "code",
   "execution_count": null,
   "metadata": {},
   "outputs": [],
   "source": []
  },
  {
   "cell_type": "code",
   "execution_count": null,
   "metadata": {},
   "outputs": [],
   "source": []
  },
  {
   "cell_type": "code",
   "execution_count": null,
   "metadata": {},
   "outputs": [],
   "source": []
  },
  {
   "cell_type": "code",
   "execution_count": null,
   "metadata": {},
   "outputs": [],
   "source": []
  },
  {
   "cell_type": "code",
   "execution_count": null,
   "metadata": {},
   "outputs": [],
   "source": []
  },
  {
   "cell_type": "code",
   "execution_count": null,
   "metadata": {},
   "outputs": [],
   "source": []
  },
  {
   "cell_type": "code",
   "execution_count": null,
   "metadata": {},
   "outputs": [],
   "source": []
  },
  {
   "cell_type": "code",
   "execution_count": null,
   "metadata": {},
   "outputs": [],
   "source": []
  },
  {
   "cell_type": "code",
   "execution_count": 31,
   "metadata": {},
   "outputs": [],
   "source": []
  },
  {
   "cell_type": "code",
   "execution_count": 37,
   "metadata": {},
   "outputs": [],
   "source": []
  },
  {
   "cell_type": "code",
   "execution_count": null,
   "metadata": {},
   "outputs": [],
   "source": []
  },
  {
   "cell_type": "code",
   "execution_count": null,
   "metadata": {},
   "outputs": [],
   "source": []
  }
 ],
 "metadata": {
  "kernelspec": {
   "display_name": "Python 3",
   "language": "python",
   "name": "python3"
  },
  "language_info": {
   "codemirror_mode": {
    "name": "ipython",
    "version": 3
   },
   "file_extension": ".py",
   "mimetype": "text/x-python",
   "name": "python",
   "nbconvert_exporter": "python",
   "pygments_lexer": "ipython3",
   "version": "3.7.6"
  }
 },
 "nbformat": 4,
 "nbformat_minor": 4
}
